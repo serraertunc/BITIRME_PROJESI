{
 "cells": [
  {
   "attachments": {},
   "cell_type": "markdown",
   "metadata": {},
   "source": [
    "## Language detection by 2-grams(letter n-grams), k=150"
   ]
  },
  {
   "cell_type": "code",
   "execution_count": 1,
   "metadata": {},
   "outputs": [],
   "source": [
    "import pandas as pd\n",
    "import seaborn as sns #Seaborn is a library that uses Matplotlib underneath to plot graphs. It will be used to visualize random distributions.\n",
    "import matplotlib.pyplot as plt\n",
    "import math\n",
    "import string\n",
    "import re\n",
    "import numpy as np# multi-dimensional arrays and matrices, along with a large collection of high-level mathematical functions to operate on these arrays\n"
   ]
  },
  {
   "cell_type": "code",
   "execution_count": 2,
   "metadata": {},
   "outputs": [],
   "source": [
    "lang_list = ['Danish', 'Dutch', 'English', 'French', 'German', 'Greek','Italian', 'Portugeese', 'Spanish', 'Sweedish', 'Turkish']"
   ]
  },
  {
   "cell_type": "code",
   "execution_count": 3,
   "metadata": {},
   "outputs": [],
   "source": [
    "data = pd.read_csv('language_detection.csv',sep=';')   #store big data sets is to use CSV files\n",
    "\t\t\t\t                    #need to import pd library\n",
    "\t\t\t\t                    #stores dataset.csv to data"
   ]
  },
  {
   "cell_type": "code",
   "execution_count": 4,
   "metadata": {},
   "outputs": [
    {
     "data": {
      "text/plain": [
       "(7614, 2)"
      ]
     },
     "execution_count": 4,
     "metadata": {},
     "output_type": "execute_result"
    }
   ],
   "source": [
    "data.shape"
   ]
  },
  {
   "cell_type": "code",
   "execution_count": 5,
   "metadata": {},
   "outputs": [
    {
     "data": {
      "text/html": [
       "<div>\n",
       "<style scoped>\n",
       "    .dataframe tbody tr th:only-of-type {\n",
       "        vertical-align: middle;\n",
       "    }\n",
       "\n",
       "    .dataframe tbody tr th {\n",
       "        vertical-align: top;\n",
       "    }\n",
       "\n",
       "    .dataframe thead th {\n",
       "        text-align: right;\n",
       "    }\n",
       "</style>\n",
       "<table border=\"1\" class=\"dataframe\">\n",
       "  <thead>\n",
       "    <tr style=\"text-align: right;\">\n",
       "      <th></th>\n",
       "      <th>Text</th>\n",
       "      <th>language</th>\n",
       "    </tr>\n",
       "  </thead>\n",
       "  <tbody>\n",
       "    <tr>\n",
       "      <th>0</th>\n",
       "      <td>Nature, in the broadest sense, is the natural...</td>\n",
       "      <td>English</td>\n",
       "    </tr>\n",
       "    <tr>\n",
       "      <th>1</th>\n",
       "      <td>\"Nature\" can refer to the phenomena of the phy...</td>\n",
       "      <td>English</td>\n",
       "    </tr>\n",
       "    <tr>\n",
       "      <th>2</th>\n",
       "      <td>The study of nature is a large, if not the onl...</td>\n",
       "      <td>English</td>\n",
       "    </tr>\n",
       "    <tr>\n",
       "      <th>3</th>\n",
       "      <td>Although humans are part of nature, human acti...</td>\n",
       "      <td>English</td>\n",
       "    </tr>\n",
       "    <tr>\n",
       "      <th>4</th>\n",
       "      <td>[1] The word nature is borrowed from the Old F...</td>\n",
       "      <td>English</td>\n",
       "    </tr>\n",
       "  </tbody>\n",
       "</table>\n",
       "</div>"
      ],
      "text/plain": [
       "                                                Text language\n",
       "0   Nature, in the broadest sense, is the natural...  English\n",
       "1  \"Nature\" can refer to the phenomena of the phy...  English\n",
       "2  The study of nature is a large, if not the onl...  English\n",
       "3  Although humans are part of nature, human acti...  English\n",
       "4  [1] The word nature is borrowed from the Old F...  English"
      ]
     },
     "execution_count": 5,
     "metadata": {},
     "output_type": "execute_result"
    }
   ],
   "source": [
    "data.head() #displays the first five rows of the dataframe by default."
   ]
  },
  {
   "attachments": {},
   "cell_type": "markdown",
   "metadata": {},
   "source": [
    "### Getting rid of punctuation"
   ]
  },
  {
   "cell_type": "code",
   "execution_count": 6,
   "metadata": {},
   "outputs": [
    {
     "data": {
      "text/plain": [
       "'!\"#$%&\\'()*+,-./:;<=>?@[\\\\]^_`{|}~0123456789'"
      ]
     },
     "execution_count": 6,
     "metadata": {},
     "output_type": "execute_result"
    }
   ],
   "source": [
    "characters = string.punctuation+\"0\"+\"1\"+\"2\"+\"3\"+\"4\"+\"5\"+\"6\"+\"7\"+\"8\"+\"9\"\n",
    "characters"
   ]
  },
  {
   "cell_type": "code",
   "execution_count": 7,
   "metadata": {},
   "outputs": [],
   "source": [
    "#funtion to remove punctuation and all smallcase letters#\n",
    "def remove_pun(text):\n",
    "    for pun in characters:\n",
    "        text=text.replace(pun,\"\")\n",
    "    text = text.lower()\n",
    "    return(text)"
   ]
  },
  {
   "cell_type": "code",
   "execution_count": 8,
   "metadata": {},
   "outputs": [],
   "source": [
    "data['Text']=data['Text'].apply(remove_pun)"
   ]
  },
  {
   "cell_type": "code",
   "execution_count": 9,
   "metadata": {},
   "outputs": [
    {
     "data": {
      "text/html": [
       "<div>\n",
       "<style scoped>\n",
       "    .dataframe tbody tr th:only-of-type {\n",
       "        vertical-align: middle;\n",
       "    }\n",
       "\n",
       "    .dataframe tbody tr th {\n",
       "        vertical-align: top;\n",
       "    }\n",
       "\n",
       "    .dataframe thead th {\n",
       "        text-align: right;\n",
       "    }\n",
       "</style>\n",
       "<table border=\"1\" class=\"dataframe\">\n",
       "  <thead>\n",
       "    <tr style=\"text-align: right;\">\n",
       "      <th></th>\n",
       "      <th>Text</th>\n",
       "      <th>language</th>\n",
       "    </tr>\n",
       "  </thead>\n",
       "  <tbody>\n",
       "    <tr>\n",
       "      <th>0</th>\n",
       "      <td>nature in the broadest sense is the natural p...</td>\n",
       "      <td>English</td>\n",
       "    </tr>\n",
       "    <tr>\n",
       "      <th>1</th>\n",
       "      <td>nature can refer to the phenomena of the physi...</td>\n",
       "      <td>English</td>\n",
       "    </tr>\n",
       "    <tr>\n",
       "      <th>2</th>\n",
       "      <td>the study of nature is a large if not the only...</td>\n",
       "      <td>English</td>\n",
       "    </tr>\n",
       "    <tr>\n",
       "      <th>3</th>\n",
       "      <td>although humans are part of nature human activ...</td>\n",
       "      <td>English</td>\n",
       "    </tr>\n",
       "    <tr>\n",
       "      <th>4</th>\n",
       "      <td>the word nature is borrowed from the old fren...</td>\n",
       "      <td>English</td>\n",
       "    </tr>\n",
       "  </tbody>\n",
       "</table>\n",
       "</div>"
      ],
      "text/plain": [
       "                                                Text language\n",
       "0   nature in the broadest sense is the natural p...  English\n",
       "1  nature can refer to the phenomena of the physi...  English\n",
       "2  the study of nature is a large if not the only...  English\n",
       "3  although humans are part of nature human activ...  English\n",
       "4   the word nature is borrowed from the old fren...  English"
      ]
     },
     "execution_count": 9,
     "metadata": {},
     "output_type": "execute_result"
    }
   ],
   "source": [
    "data.head()"
   ]
  },
  {
   "attachments": {},
   "cell_type": "markdown",
   "metadata": {},
   "source": [
    "### Split data for training and testing"
   ]
  },
  {
   "cell_type": "code",
   "execution_count": 10,
   "metadata": {},
   "outputs": [
    {
     "name": "stdout",
     "output_type": "stream",
     "text": [
      "y.shape:  (7614,)\n",
      "x.shape:  (7614,)\n"
     ]
    }
   ],
   "source": [
    "y=data['language'].values\n",
    "print(\"y.shape: \",y.shape)\n",
    "x=data['Text'].values\n",
    "print(\"x.shape: \",x.shape)"
   ]
  },
  {
   "cell_type": "code",
   "execution_count": 11,
   "metadata": {},
   "outputs": [],
   "source": [
    "from sklearn.model_selection import train_test_split\n",
    "x_train, x_test, y_train, y_test = train_test_split(x, y, test_size = 0.2, random_state = 0)"
   ]
  },
  {
   "cell_type": "code",
   "execution_count": 12,
   "metadata": {},
   "outputs": [
    {
     "name": "stdout",
     "output_type": "stream",
     "text": [
      "x_train.shape:  (6091,)\n",
      "y_train.shape:  (6091,)\n",
      "x_test.shape:  (1523,)\n",
      "y_test.shape:  (1523,)\n"
     ]
    }
   ],
   "source": [
    "print(\"x_train.shape: \",x_train.shape)\n",
    "print(\"y_train.shape: \",y_train.shape)\n",
    "print(\"x_test.shape: \",x_test.shape)\n",
    "print(\"y_test.shape: \",y_test.shape)"
   ]
  },
  {
   "cell_type": "code",
   "execution_count": 13,
   "metadata": {},
   "outputs": [
    {
     "data": {
      "text/plain": [
       "English       1385\n",
       "French        1014\n",
       "Spanish        819\n",
       "Portugeese     739\n",
       "Italian        698\n",
       "Sweedish       676\n",
       "Dutch          546\n",
       "Turkish        474\n",
       "German         470\n",
       "Danish         428\n",
       "Greek          365\n",
       "Name: language, dtype: int64"
      ]
     },
     "execution_count": 13,
     "metadata": {},
     "output_type": "execute_result"
    }
   ],
   "source": [
    "data['language'].value_counts()"
   ]
  },
  {
   "attachments": {},
   "cell_type": "markdown",
   "metadata": {},
   "source": [
    "### Display TrainDataset"
   ]
  },
  {
   "cell_type": "code",
   "execution_count": 14,
   "metadata": {},
   "outputs": [
    {
     "data": {
      "text/html": [
       "<div>\n",
       "<style scoped>\n",
       "    .dataframe tbody tr th:only-of-type {\n",
       "        vertical-align: middle;\n",
       "    }\n",
       "\n",
       "    .dataframe tbody tr th {\n",
       "        vertical-align: top;\n",
       "    }\n",
       "\n",
       "    .dataframe thead th {\n",
       "        text-align: right;\n",
       "    }\n",
       "</style>\n",
       "<table border=\"1\" class=\"dataframe\">\n",
       "  <thead>\n",
       "    <tr style=\"text-align: right;\">\n",
       "      <th></th>\n",
       "      <th>Text</th>\n",
       "      <th>Language</th>\n",
       "    </tr>\n",
       "  </thead>\n",
       "  <tbody>\n",
       "    <tr>\n",
       "      <th>0</th>\n",
       "      <td>ne le mentionnez pas</td>\n",
       "      <td>French</td>\n",
       "    </tr>\n",
       "    <tr>\n",
       "      <th>1</th>\n",
       "      <td>spinoza reviendra sur les propos de descartes ...</td>\n",
       "      <td>French</td>\n",
       "    </tr>\n",
       "    <tr>\n",
       "      <th>2</th>\n",
       "      <td>ve bu videoda size günlük kullanım için ve bu ...</td>\n",
       "      <td>Turkish</td>\n",
       "    </tr>\n",
       "    <tr>\n",
       "      <th>3</th>\n",
       "      <td>foi classificada como a revista científica ma...</td>\n",
       "      <td>Portugeese</td>\n",
       "    </tr>\n",
       "    <tr>\n",
       "      <th>4</th>\n",
       "      <td>quando senti una frase esercitati a dirla dopo...</td>\n",
       "      <td>Italian</td>\n",
       "    </tr>\n",
       "  </tbody>\n",
       "</table>\n",
       "</div>"
      ],
      "text/plain": [
       "                                                Text    Language\n",
       "0                               ne le mentionnez pas      French\n",
       "1  spinoza reviendra sur les propos de descartes ...      French\n",
       "2  ve bu videoda size günlük kullanım için ve bu ...     Turkish\n",
       "3   foi classificada como a revista científica ma...  Portugeese\n",
       "4  quando senti una frase esercitati a dirla dopo...     Italian"
      ]
     },
     "execution_count": 14,
     "metadata": {},
     "output_type": "execute_result"
    }
   ],
   "source": [
    "df1=pd.DataFrame(x_train)\n",
    "df1=df1.rename(columns={0:'Text'})\n",
    "df2=pd.DataFrame(y_train)\n",
    "df2=df2.rename(columns={0:'Language'})\n",
    "df_train=pd.concat([df1,df2],axis=1)\n",
    "df_train.head()"
   ]
  },
  {
   "cell_type": "code",
   "execution_count": 15,
   "metadata": {},
   "outputs": [
    {
     "data": {
      "text/plain": [
       "English       1105\n",
       "French         804\n",
       "Spanish        669\n",
       "Portugeese     591\n",
       "Italian        558\n",
       "Sweedish       524\n",
       "Dutch          443\n",
       "Turkish        385\n",
       "German         382\n",
       "Danish         338\n",
       "Greek          292\n",
       "Name: Language, dtype: int64"
      ]
     },
     "execution_count": 15,
     "metadata": {},
     "output_type": "execute_result"
    }
   ],
   "source": [
    "df_train['Language'].value_counts()"
   ]
  },
  {
   "cell_type": "code",
   "execution_count": 16,
   "metadata": {},
   "outputs": [
    {
     "data": {
      "text/plain": [
       "(6091, 2)"
      ]
     },
     "execution_count": 16,
     "metadata": {},
     "output_type": "execute_result"
    }
   ],
   "source": [
    "df_train.shape"
   ]
  },
  {
   "attachments": {},
   "cell_type": "markdown",
   "metadata": {},
   "source": [
    "### Display Test Dataset"
   ]
  },
  {
   "cell_type": "code",
   "execution_count": 17,
   "metadata": {},
   "outputs": [
    {
     "data": {
      "text/html": [
       "<div>\n",
       "<style scoped>\n",
       "    .dataframe tbody tr th:only-of-type {\n",
       "        vertical-align: middle;\n",
       "    }\n",
       "\n",
       "    .dataframe tbody tr th {\n",
       "        vertical-align: top;\n",
       "    }\n",
       "\n",
       "    .dataframe thead th {\n",
       "        text-align: right;\n",
       "    }\n",
       "</style>\n",
       "<table border=\"1\" class=\"dataframe\">\n",
       "  <thead>\n",
       "    <tr style=\"text-align: right;\">\n",
       "      <th></th>\n",
       "      <th>Text</th>\n",
       "      <th>Language</th>\n",
       "    </tr>\n",
       "  </thead>\n",
       "  <tbody>\n",
       "    <tr>\n",
       "      <th>0</th>\n",
       "      <td>a qualquer momento</td>\n",
       "      <td>Portugeese</td>\n",
       "    </tr>\n",
       "    <tr>\n",
       "      <th>1</th>\n",
       "      <td>​ en marzo de  jimmy wales creó nupedia un pro...</td>\n",
       "      <td>Spanish</td>\n",
       "    </tr>\n",
       "    <tr>\n",
       "      <th>2</th>\n",
       "      <td>pensava di essere troppo grande per fare quals...</td>\n",
       "      <td>Italian</td>\n",
       "    </tr>\n",
       "    <tr>\n",
       "      <th>3</th>\n",
       "      <td>αν κάτι σας εκπλήσσει μπορείτε επίσης να πείτε...</td>\n",
       "      <td>Greek</td>\n",
       "    </tr>\n",
       "    <tr>\n",
       "      <th>4</th>\n",
       "      <td>om het woord catch te gebruiken</td>\n",
       "      <td>Dutch</td>\n",
       "    </tr>\n",
       "  </tbody>\n",
       "</table>\n",
       "</div>"
      ],
      "text/plain": [
       "                                                Text    Language\n",
       "0                                 a qualquer momento  Portugeese\n",
       "1  ​ en marzo de  jimmy wales creó nupedia un pro...     Spanish\n",
       "2  pensava di essere troppo grande per fare quals...     Italian\n",
       "3  αν κάτι σας εκπλήσσει μπορείτε επίσης να πείτε...       Greek\n",
       "4                    om het woord catch te gebruiken       Dutch"
      ]
     },
     "execution_count": 17,
     "metadata": {},
     "output_type": "execute_result"
    }
   ],
   "source": [
    "df3=pd.DataFrame(x_test)\n",
    "df3=df3.rename(columns={0:'Text'})\n",
    "df4=pd.DataFrame(y_test)\n",
    "df4=df4.rename(columns={0:'Language'})\n",
    "df_test=pd.concat([df3,df4],axis=1)\n",
    "df_test.head()"
   ]
  },
  {
   "cell_type": "code",
   "execution_count": 18,
   "metadata": {},
   "outputs": [
    {
     "data": {
      "text/plain": [
       "(1523, 2)"
      ]
     },
     "execution_count": 18,
     "metadata": {},
     "output_type": "execute_result"
    }
   ],
   "source": [
    "df_test.shape"
   ]
  },
  {
   "cell_type": "code",
   "execution_count": 19,
   "metadata": {},
   "outputs": [
    {
     "data": {
      "text/plain": [
       "English       280\n",
       "French        210\n",
       "Sweedish      152\n",
       "Spanish       150\n",
       "Portugeese    148\n",
       "Italian       140\n",
       "Dutch         103\n",
       "Danish         90\n",
       "Turkish        89\n",
       "German         88\n",
       "Greek          73\n",
       "Name: Language, dtype: int64"
      ]
     },
     "execution_count": 19,
     "metadata": {},
     "output_type": "execute_result"
    }
   ],
   "source": [
    "df_test['Language'].value_counts()"
   ]
  },
  {
   "attachments": {},
   "cell_type": "markdown",
   "metadata": {},
   "source": [
    "### generate_N_grams function\n",
    "Generates n-grams for a given text. Returns list thats elements are like (n-gram,frequency)"
   ]
  },
  {
   "cell_type": "code",
   "execution_count": 20,
   "metadata": {},
   "outputs": [],
   "source": [
    "def generate_N_grams(text,n):\n",
    "    words = re.sub('\\s+', ' ', text).strip() # replaces multiple spaces, newline tabs with a single space\n",
    "    words = words.replace(' ','_')# so that we can visualise spaces easily\n",
    "    #print(words)\n",
    "    #grams= [words[i:i+n] for i in range(len(words)-n+1)] \n",
    "    grams = {}\n",
    "    for i in range(len(words)-n):\n",
    "        current = words[i:i+n] \n",
    "        #we are check how many times current shows up in a sentence\n",
    "        if current in grams:\n",
    "            grams[current] += 1 # increase if the n-gram showed up in the sentence\n",
    "        else:\n",
    "            grams[current] = 1  #if the sentence\n",
    "    total = len(words) - n + 1 # total number of n-grams that will be generated\n",
    "    #print(grams.keys())\n",
    "    for key in grams.keys():\n",
    "        grams[key] = round(math.log(grams[key] / (total)), 3) #normalizing by dividing by total no of n-grams for that corpus and taking log                                             \n",
    "    grams = sorted(grams.items(), key= lambda x : x[1], reverse = True) \n",
    "    #print (grams)\n",
    "    final_grams = [] # contains a list of top k n-grams in a given language \n",
    "    log_probs = [] # contains logprobs corresponding to each n-gram\n",
    "    k= 150 if len(grams)>=150 else len(grams)\n",
    "    for i in range(k):#get top k grams#len(grams)\n",
    "            final_grams.append(grams[i][0])\n",
    "            log_probs.append(grams[i][1])\n",
    "    return final_grams, log_probs\n",
    "    \n",
    "    #return grams"
   ]
  },
  {
   "attachments": {},
   "cell_type": "markdown",
   "metadata": {},
   "source": [
    "###  Generate Lang Profiles(2-grams)"
   ]
  },
  {
   "cell_type": "code",
   "execution_count": 21,
   "metadata": {},
   "outputs": [],
   "source": [
    "english_str=\"\"\n",
    "total_len=0\n",
    "for text in df_train.loc[df_train['Language'] == 'English', 'Text']:\n",
    "    total_len=total_len+len(text)\n",
    "    english_str=english_str+\" \"+ text\n"
   ]
  },
  {
   "cell_type": "code",
   "execution_count": 22,
   "metadata": {},
   "outputs": [
    {
     "name": "stdout",
     "output_type": "stream",
     "text": [
      "143669\n"
     ]
    },
    {
     "data": {
      "text/plain": [
       "144774"
      ]
     },
     "execution_count": 22,
     "metadata": {},
     "output_type": "execute_result"
    }
   ],
   "source": [
    "print(total_len)\n",
    "len(english_str)"
   ]
  },
  {
   "cell_type": "code",
   "execution_count": 23,
   "metadata": {},
   "outputs": [
    {
     "name": "stdout",
     "output_type": "stream",
     "text": [
      "(['e_', 's_', '_t', '_a', 'th', 'in', 'n_', 'd_', 'he', 't_', 'er', '_i', 'an', 're', '_o', 'on', 'ed', 'at', '_s', 'ti', 'y_', '_w', 'or', 'es', 'en', 'te', 'ar', 'r_', '_c', 'a_', 'al', 'ng', 'nd', 'it', 'is', '_m', 'nt', 'di', 'le', 'o_', 'to', 'f_', 'se', 'g_', 'of', '_p', 'ou', 'ic', 'as', '_b', '_f', 'st', 'io', 'ea', 'ha', '_e', 'co', 'me', 've', 'l_', '_r', '_l', 'pe', '_d', 'ne', 'de', 'ro', 'ma', 'ia', 'li', 'ri', 'h_', 'ra', 'wi', '_h', 'om', 'ce', 'ca', 'la', 'ch', 'si', 'hi', '_n', 'll', 'ns', 'ni', 'fo', 'ta', 'el', 'ac', 'ec', 'pr', 'ly', 'be', 'ge', 'us', 'ki', 'ur', 'so', 'rt', 'ik', 'rs', 'ct', 'et', 'nc', 'tr', '_g', 'm_', '_u', 'ot', '_y', 'ut', 'no', 'ip', 'yo', 'un', 'ts', 'im', 'ie', 'ss', 'mo', 'cl', 'lo', 'na', 'il', 'su', 'wa', 'em', 'ee', 'ci', 'rn', 'ai', 'vi', 'am', 'if', 'iv', 'ol', 'tu', 'mi', 'mp', 'po', 'u_', 'ho', 'pl', 'ul', 'fi', 'ow', 'pa', 'wh', 'we'], [-3.528, -3.728, -3.814, -3.846, -3.98, -4.057, -4.199, -4.201, -4.263, -4.321, -4.352, -4.353, -4.369, -4.372, -4.431, -4.455, -4.486, -4.494, -4.54, -4.575, -4.584, -4.601, -4.682, -4.691, -4.703, -4.711, -4.727, -4.73, -4.749, -4.84, -4.842, -4.85, -4.869, -4.87, -4.943, -4.967, -4.974, -5.001, -5.004, -5.052, -5.061, -5.063, -5.063, -5.075, -5.076, -5.082, -5.082, -5.094, -5.112, -5.116, -5.124, -5.125, -5.131, -5.146, -5.181, -5.22, -5.222, -5.244, -5.244, -5.274, -5.275, -5.278, -5.279, -5.285, -5.343, -5.35, -5.351, -5.354, -5.354, -5.36, -5.384, -5.416, -5.419, -5.424, -5.469, -5.481, -5.518, -5.555, -5.586, -5.592, -5.603, -5.611, -5.624, -5.637, -5.639, -5.677, -5.719, -5.719, -5.727, -5.738, -5.742, -5.749, -5.751, -5.757, -5.76, -5.777, -5.782, -5.789, -5.791, -5.793, -5.8, -5.816, -5.826, -5.859, -5.866, -5.907, -5.909, -5.919, -5.922, -5.922, -5.922, -5.935, -5.946, -5.981, -5.992, -5.997, -6.017, -6.037, -6.055, -6.058, -6.067, -6.073, -6.073, -6.079, -6.091, -6.109, -6.144, -6.177, -6.181, -6.201, -6.218, -6.225, -6.236, -6.243, -6.247, -6.247, -6.268, -6.268, -6.272, -6.279, -6.283, -6.283, -6.283, -6.283, -6.287, -6.306, -6.321, -6.325, -6.329, -6.356])\n"
     ]
    },
    {
     "data": {
      "text/plain": [
       "2"
      ]
     },
     "execution_count": 23,
     "metadata": {},
     "output_type": "execute_result"
    }
   ],
   "source": [
    "print(generate_N_grams(english_str,2))\n",
    "len(generate_N_grams(english_str,2))"
   ]
  },
  {
   "cell_type": "code",
   "execution_count": 24,
   "metadata": {},
   "outputs": [],
   "source": [
    "#creating language corpuses\n",
    "lang_corpus={}\n",
    "str=\"\"\n",
    "for lang in lang_list:\n",
    "    str=\"\"\n",
    "    for text in df_train.loc[df_train['Language'] == lang, 'Text']:\n",
    "        str = str+' '+text\n",
    "    lang_corpus[lang] = str\n",
    "#print(lang_corpus)"
   ]
  },
  {
   "cell_type": "code",
   "execution_count": 25,
   "metadata": {},
   "outputs": [
    {
     "name": "stdout",
     "output_type": "stream",
     "text": [
      " er en meget fransk måde at sige møde eller dato på for eksempel har jeg et møde med mine venner over frokosten på lørdag eller jeg planlægger at møde med mine venner i indkøbscentret for film at møde kan bruges både som substantiv eller som verbum for eksempel hej hvorfor hænger du ikke med os du kan sige til dem jeg er ked af det men jeg er oversvømmet med arbejde eller jeg er oversvømmet med nogle andre ord som du kan bruge i stedet for oversvømmet hvis jeg har for meget at gøre nej slet ikke ikke meget åh fjollet han er rig og smuk hvad mere kan jeg ønske mig forfærdelse jeg accepterer dit forslag  i  modtog nature prince of asturias award for communications and humanity sammen med science desværre er jeg nødt til at sige nej med krydsede fingre jeg har det godt undskyld så hvis du lige er ved at starte din rejse det ville være rart ved hans egen refleksion i spejlet eller turisten blev flummoxed af de forskellige skikke der jeg har en rendezvous med mine venner i aften eller jeg vil rendezvous med mine venner i morgen siger jeg ved det ikke sammenlignet med andre sites på dansk er den danske wikipedia godt besøgt og lå december  på en  det gyldne brød engang i en lille landsby boede en kvinde ved navn marion nu vinkede mellie og terry farvel til deres gamle ven og gik smilende til hinanden hemmeligt den aften både mor og datter lad mig komme tilbage til dig om det der er også sektioner med bøger og kunst af et stort og storslået gyldent slot narcisa var forbløffet over al den skønhed hun så jeg vidste jeg fortjener så mange rigdom jeg vidste at du kunne lide det hvad du vil du finder her fra den smukkeste kjole til den mest lækre mad alt sammen i mit palads godt taler om mad er jeg virkelig sulten efter den tur jeg  m sulter kan jeg få noget af den velsmagende mad selvfølgelig her kød ildelugtende melissa hun får dig hvad du vil have jeg har hørt så meget om dig du stakkels kære du er sulten er du ikke kommer lad os gå til spisebordet og jeg får dig noget mad åh tak de gik ind i spisestuen og der på bordet var den mest forbløffende mad som narcisa nogensinde havde set forbløffende fordi det er at syltetøj er lavet en anden måde at spørge om du ikke fangede en del af en sætning kan du sige at jeg ikke fangede det sidste ord ja vær venlig at gå videre jeg kan sige pas på hvilket betyder at tage sig af dig selv kan altid sige det fordi jeg ikke havde  t forberedt mig meget godt til eksamen jeg blev flummoxed af nogle af de spørgsmål andre ord som du kan bruge i stedet for flummoxed er forvirret forvirret eller forvirret smart ord nummer otte er rendezvous rendezvous rendezvous det er det største og mest populære generelle referenceværk på internettet og i april  var det blandt de mest populære hjemmesider ifølge alexa rangeringsystem så du møder nogen og du tid hvordan går det  og med det gik hun ind i hans vogn og uden engang at sige farvel til sin mor red med englen da de rejste kom vognen pludselig ind i en magisk portal der den rejste gennem et stormfuldt område vognen stødte enormt rundt og narcissa kan ikke klage over den næste sætning nogen fortæller dig noget og du har ikke rigtig nævnt det i samtalen som om de på en eller anden måde gætter på at du har et nyt job og du spørger ham da hendes skønhed var kendt vidt og bredt men hun afviste dem alle meget uhøfligt hvorfor sendte du disse mænd væk i går de syntes gode du kan ikke være seriøs mor en af ​​dem tak for din indsats pas på den  september  skiftede den danske wikipedia over til samme program da han nysede åh åh og det sidste stop nej jeg vil ikke høre mere alt hvad jeg kunne se var at disse mænd var rigtig flinke min kære du skal vide den skønhed noget andet men jeg vil have normalt brødbrød som jeg kan spise har du ikke det blik så kone til at være fra min far skal det er koldt du skal kun spise den bedste narcis jeg kiggede på al mad nej det tror jeg ikke kom nu hvordan går det undskyld mig du kan gøre det du kan videregive toefl du kan videregive gmat du får det kommer lang tid siden pr ved hvis nogen fortæller en cool joke kan du fortælle at det er en god en havde så små øjne næsten som en fugles og den anden havde en enorm næse jeg ville ikke være i nærheden af ​​ham du bliver nødt til at spise alt dette jeg troede du kunne lide fancy ting nej jeg vil ikke gifte dig jeg vil hjem rubin marmelade på det og tog en kæmpe bid det er så varmt jeg kan ikke spise det godt det er brød lavet af guld og det fineste også men hvis du ikke kan spise det skal jeg skaffe dig sølvbrød sølv he hvorfor ikke du spiser så i dag lærer vi  nye smarte ord deres betydning rodord og eksempel sætninger så lad os komme i gang hej alle dette er og du holder øje med åh gud ikke tage det til hjertet som seriøst vær ikke så ked af det tag det ikke til hjertet åh kære en nat da hun sov sad mor ved hendes side og så på hende jeg er bange for at jeg ikke har nogen idé glem ikke at sige hej hvem der er den suave fyr lige derude i hjørnet ved hjælp af dette ord vil straks gøre dit ordforråd personer der har lyst til at bidrage med mere kan oprette sig som brugere wikipedias styrke er blandt andet at udnytte diverse brugeres evner har du noget imod det hvis jeg bruger din mobiltelefon kunne du fortælle mig hvad dette ord betyder  januar  det betyder ikke noget om du vil ønske nogen held og lykke  administratorer på den danske wikipedia brugere oprettes som administratorer af bureaukrater bureaucrats der også kan ændre brugernavne slår mig  wikipedia er en internetencyklopædi der forekommer i flere sprogversioner udelukkende med frit indhold og ingen reklamer selvom donationer accepteres baseret på et åbent samarbejde igennem en model hvor brugere kan redigere ved hjælp af internetbaserede applikationer som webbrowsere kaldet wiki du er så meget bedre end det problem du græder over det  s ikke dine tårer værd jeg fejlede undskyld det fangede jeg ikke økonomien har været meget træg i år eller kampen er taget op efter en træg start det synker du siger træk dig sammen som at tage dig selv bogstaveligt talt og træk dig sammen stop med at arbejde stop med at græde træk dig sammen så dette er en fantastisk måde at øve på hvor var vi igen hvis du er midt i en samtale alle der er koblet til internettet kan læse og skrive i wikipedias artikler glad læring og jeg vil snart se dig i en anden lektion enig og uenig jeg er fri hele weekenden lad os gøre noget torsdag den  januar  har den engelsksprogede wikipedia  artikler  aktive bidragydere og  administratorer låst for bidrag fra ipadresser der er for meget på min tallerken jeg drukner i arbejde jeg er terrence engelen med lykke din datters navn og skønhed er kendt overalt i verden her jeg har givet dig en gave men du kender ham næppe du kan ikke gå med ham erfarne brugere kan wikificere nye brugeres bidrag – indsætte hyperlinks billeder links til andre sprog kategorier mm hvordan har du haft det hvis nogen fik et job med sine drømme om hvad du kan sige heldig dig eller nogen kom ind på universitetet i deres drømme som heldig dig er dette en måde at lykønske den person der er heldig dig eller som bare at understrege at han er heldig heldig en anden måde at sige at du virkelig er vred er at sige at jeg flippede ud som om jeg var så vred jeg de tre bærende principper på wikipedia der tilsammen definerer dens niche på world wide web er wikipedia støttes af richard m stallman og free software foundation jeg forvirrede dig så lad mig give dig nogle eksempler en situation hvor catch er når du ikke får et job uden at have erhvervserfaring over  servere er blevet sat op for i fællesskab at kunne håndtere den enorme mængde trafik men du kan ikke få erfaring før du får et job catch blev opfundet af joseph heller i hans berømte bog med samme navn catch da han beskrev nogle modstridende regler der var gældende for soldater under  verdenskrig du rocker hvis nogen ikke fungerer rigtig godt og du vil have dem til at arbejde hårdere du kan sige at du skal gå en ekstra mil hvilket betyder at du som at arbejde hårdere skal gå en ekstra mil det synes jeg er en god idé vi vi har lært en hel masse af disse smarte ord og vi har tendens til at sætte to tre fire af dem i en sætning der ikke lyder naturligt nej du har gjort et fantastisk stykke arbejde tak på forhånd hvis nogen begik en fejl og han er virkelig ked af det det er en god vittighed så sætningen er at det er en god en blev klar til seng mor jeg håber virkelig min drøm går i opfyldelse du ved åh narcisa den næste dag da narcisa og hendes mor var udenfor i deres have en smuk åh dette er som næsten vanvittigt hvad din fejl var kom lad os fodre dig med noget pænt fra den dag og frem meget suave så smart ord nummer fire er forfærdeligt forfærdeligt ordet forfærdeligt betyder noget virkelig dårligt forfærdeligt forfærdeligt grusomt forfærdeligt stødende forfærdeligt har en latinsk rod kaldet er ikke alt mor du er nødt til at indse jeg fortjener nogen som en prins eller en ridder ja selvfølgelig plads jeg freaked en anden sætning som indfødte talere bruger er god for dig og det kan være både positivt og negativt når du siger at jeg blev forfremmet og hvis de siger godt for dig kan du lide tillykke og nogle gange hvis du siger at jeg forlader dette sted ting sker vær ikke forstyrret hvis du ikke har navnet på den person du vil tale med ham terry du ser faktisk lidt ud som den engel men hvad ser jeg hvordan kunne du være ham i to er så flinke at blive bedøvet så fantastisk bruges til at beskrive noget der er forbløffende godt for eksempel ser hun fantastisk ud i den kjole eller hvilken fantastisk udsigt fra denne altan eller jeg læser denne fantastiske bog som jeg ikke kan lægge fra hvad med dig at gå og fortælle hvis du ikke allerede har trykket på abonnementsknappen og klokkeikonet lige ved siden af ​​det og glæde at se  den danske udgave blev påbegyndt den  februar  dette er en nobrainer betyder at det er en rigtig nem beslutning for dig hvis du har gjort noget forkert og du indrømmer det kan du sige at jeg har ødelagt ja fyre nej undskyld jeg har allerede gale nogle planer ingen bekymringer forestil dig at du kom hjem og der sidder alle dine venner på din sofa youtube annoncerede lignende planer i  undskyld at afbryde dig skål jeg sætter stor pris på det hvis det virkelig er hvad du vil have så tager jeg dig hjem terrence tog grædende og ulykkelig du kan bare sige ingen bekymringer jeg ved hvad har du været op med at rejse dem før hvis alt går du kan sige undskyld at genere dig du ved du ser tilsammen har de over  sprogversioner af hjemmesiden mere end  millioner artikler på  forskellige sprog og i februar  nåede siden  milliarder sidevisninger og næsten  millioner unikke besøgende om måneden sump er et stykke vådområde og hvis nogen træder det forkerte sted på en sump kan de let drukne og verbets form af sump betyder at synke så her kan du bruge dette ord undskyld jeg kan ikke lige nu hvordan har du det administratorer kan få taget deres rettigheder hvis de udøver magtmisbrug forvaltere vælges en gang om året ved demokratiske afstemninger jeg er narret med opgaver smart ord nummer to er catch nu er jeg sikker på at du  har hørt dette ord før fangst betyder en umulig situation hvor du ikke kan gøre den ene ting medmindre du har gjort den anden og du ikke kan gøre den anden fordi du ikke har gjort den første har dette er gratis og har en del fordele – primært overskuelighed meninger vi leder alle efter hurtige måder at blive mere flydende på engelsk jeg ved jeg forstår hvad der sker er at der kun er et par ord der cirkler omkring vores hjerne og vi er nødt til at gøre hele denne samtale ved hjælp af bare fantastisk fantastisk sejt eller episk så hvad med os lære nogle smarte nye engelske ord som du kan bruge i dit daglige liv og hæve dit ordforråd på få minutter vi bliver meget begejstrede fordi grundlæggende hilsner hvordan går det har du noget imod det hvis jeg springer herinde jeg tror ​​du tager fejl rocker du rock i starten af hvert tidsskrift er ledere nyheder og featureartikler som har generel interesse for videnskabsfolk inklusive nye opdagelser videnskabsetik og videnskabelige gennembrud du kan sige tak himlen er fredag ​​eller tror himlen sagde lørdag weekend opdagelse hold et øjeblik når som helst åh gud jeg elsker at du solgte mig fordi folk nogle gange beskriver deres rejse eller nogen de købte og de beskriver det er så godt nogen har travlt kan du altid sige undskyld at genere dig og så kan du gå videre og spørge han er så klar og suave især foran damerne eller barack obama er så suave og poleret situationen er at du ikke fik noget og så får du en ekstra effekt og du får det hvad med at have pizza til middag i aften jeg er nødt til at komme i gang og du er ligesom hvad der foregår herinde ligesom hvad laver du her  jeg har ikke frihed til at sige der er strikser regler for artiklerne i magasiner er mange af dem opsummeringer af det videnskabelige arbejder der ligger bag og er derfor uddybende materiale på tidsskriftets hjemmeside og du ved den bedste del af det var da jeg var i min brudekjole som også var af guld selvfølgelig stirrede alle kun på mig narcisa der er ikke noget fantastisk ved den drøm stallman påpegede brugbarheden af en fri universel encyklopædi før wikipedia blev startet lad mig tænke et øjeblik min kære barn du er så smuk og dejlig men du er ligeglad med andet end din skønhed artiklerne som er blevet udgivet i nature er ofte blevet international anerkendt for at opretholde meget høje forskningsstandarder narcis hjemme i vognen begyndte hun at tænke dybt over de valg hun havde taget da hun kom hjem jeg giver dig det hemmelige tip til at lyde meget flydende en anden måde at sige det samme på som du kan sige øg dit spil som at arbejde hårdere arbejde bedre øg dit spil  det er rangeret som verdens mest citerede videnskabelige tidsskrift af science edition i udgaven journal citation reports og har en ifaktor på  hvilket gør det til verdens mest citerede akademiske magasin dejligt at møde dig forsøgte at hjælpe dig men kunne ikke nå det resultat du kan sige nu bruger vi ofte ordet fantastisk her  s et andet ord som du kan bruge i stedet for fantastisk fantastisk feks prøv nogle gyldne kartofler her de er rigtig gode og når du er gift med mig  det efterfølgende år skrev time magazine at den åbne dørs politik tillod at hvem som helst kunne redigere og at det gjorde det til den bedste encyklopædi i verden og det hyldede jimmy wales vision det sædvanlige med sin eneste datter var narcisa marion ekstremt ydmyg og sød narcisa var dog helt det modsatte du ser hun var smuk ud over ord hun var som en levende og du er som åh det forklarer det der forklarer det jeg skruede op jeg skruede det op hvis du vil have nogen til at arbejde i stedet for mig kan du sige jeg spekulerede på om du kunne hjælpe mig med dette administratorer kan slette artikler blokere brugere og beskytte artikler og få disse beundrende udseende fra dine venner andre ord som du kan bruge i stedet for catch er paradoks eller dilemma smart ord min fornøjelse det var et glædeligt møde du ser dig senere undskyld i frankrig blev rendezvous tidligere brugt af hæren til at angive et mødested for tropperne nu er der noget lidt spændende og hemmelighedsfuldt over ordet rendezvous selv nu så mens du kan bruge rendezvous til ethvert møde kan du holde et øjeblik tak kan jeg stoppe dig der et øjeblik hæng på et sekund den første mobile udgave formateret til wap wapediamobi har eksisteret siden  – og siden  til andre mobile enheder inkl sikkert ikke noget problem har du planer om i morgen jeg kan ikke tro det du skal være en sjov på mig for at bede nogen om at smile og for at være glad kan du altid sige opmuntring opmuntre  sanger fandt på navnet\n",
      " som en portmanteau af wiki det hawaiianske ord for hurtig og encyclopedia hvordan s narcissisme fortalte marian dem begge alt hvad der var sket og hun har ændret sig så meget fra den tid lad os sige at du har mange opgaver og du har en test der kommer og dine venner kommer til dig og de siger jeg har mistet min telefon og jeg er i en løsning eller vores bus gik i stykker i morges og jeg er i en ordning min ven henvender sig altid til mig for at få hjælp når han er i en løsning og når det går godt glemmer han det hvad med dig  wikipedia er blevet kritiseret for at udvise systematisk bias for at fremstille en blanding af sandheder halve sandheder og nogle løgne og for at være genstand for manipulation og spin i forbindelse med kontroversielle emner var ikke i stand dette er den bedste video til at begynde med så lad os gå  sætninger på engelsk på forhåbentlig  minutter plads resten af tidsskriftet består primært af videnskabelige artikler der ofte er tætskrevne og meget tekniske kunne du give mig saltet vær venlig jeg vil minde dig om at hvis du leder efter smarte ord du kan bruge til et telefonopkald så lægger jeg et link til en video jeg har ikke en mening om sagen du har helt ret ingen problemer oprindeligt var det udelukkende en engelsksproget encyklopædi men andre sprogversioner blev hurtigt udviklet kan du tale lidt langsommere vær venlig hej ro dig selv sammen en anden sætning undgår et spørgsmål det er fint  den danske wikipedia er ikke repræsenteret på fdims statistik viser kun sites under dk men hvad sidevisninger angår lå dansk wikipedia i oktober  mellem  og pladsen mellem politikendk og jpdk\n",
      "  wikipedia har ikke nogen side med navnet machine learning hun ville leve sit liv den dag to venner kom for at besøge narcissemor de var mellie og terry de tre af dem havde været venner i årevis men terry og ellie havde begge en hemmelighed ipod androidenheder og kindle damwikipediaorg og enmwikipediaorg beder nogen om at vente hvordan går det men blev sønderknust for alt der var uspiselig hun begyndte snart at græde jeg vil ikke have det men maden er virkelig god det ved du hvad mener du om det hvis nogen græder og ikke vil have det tak på forhånd hvilket betyder at jeg virkelig håber at du skal sætninger hvis du har lært engelsk i et stykke tid og du vil genoptage læringen lad mig afslutte generelt men det vandt  t være meget passende for et officielt møde så hvis du har en dato kan du sikkert kalde at et møde med smart ord nummer  er stump stump stump er en fornærmelse du ville bruge det når du prøver at kalde nogen stum eller uintelligent eller svag nu har du hørt ordet stump i geometri stump vinkel og spids vinkel så en stump vinkel er en vinkel større end  grader men mindre end  grader nature er et britisk multidisciplinært videnskabeligt tidsskrift der blev udgivet første gang den  november  vil du gøre noget i weekenden jeg har lidt travlt i morgen jeg er så glad for at det var fyre  sætninger på engelsk lad mig vide om dette var nyttigt ved at lide denne video og kommentere nedenfor hvis du kender flere seje sætninger holde kontakt tilladelse  i  annoncerede facebook at siden ville hjælpe læsere med at detektere fake news ved at foreslå links til relaterede wikipediaartikler jeg har ret med dig  det er dermed den sprogversion af wikipedia med flest artikler tre hvis du vil spørge dig hvad har du lavet i dag kunne jeg gøre med en energidrik andre ord som du kan bruge i stedet for træg kan være sløv eller trække mine fødder så det var de  smarte ord og før nogle ved en masse om et emne men formulerer sig dårligt enkelte kontroversielle artikler kan være semibeskyttet dvs i aftes godt mor det var sådan en fantastisk drøm du ved at der var denne prins der kom op til mig dine venner jeg føler mig meget træg det er ikke noget hvad laver du i aften hej fyre velkommen til min kanal i denne video du kan sige undskyld vær venlig at acceptere min undskyldning hun løb for at kramme sin mor der sad trist i huset heller ikke søster min søde datter jeg troede jeg ville aldrig se dig igen og du forstod ikke hvad den anden person sagde du kan sige du sagde og med et spørgsmålstegn du kan gøre det hvis nogen klarer sig rigtig godt du kan fortælle dem fortsæt det gode arbejde fortsæt det gode arbejde som vær så god som dig og fortsæt det gode arbejde fortsæt med at være en anden sætning er dagligdags og dette er hvad amerikanere sige så vidt jeg er bekymret for er dette den bedste restaurant i byen sætning nummer to når du ikke har set nogen i et stykke tid fortæller han ham i lang tid nej se så det betyder at du ikke har set denne person måske uger eller måneder i lang tid se ikke sætningsnummer i denne video vil jeg give dig  almindelige og meget nyttige sætninger som du kan bruge i samtale spørger jeg og så siger jeg til sidst nogle brugere har kæpheste som at bekæmpe dåsedansk og patruljerer dawikipediaorg regelmæssigt åh mor jeg elsker dig så meget og du havde ret udseende og rigdom er ikke alt hvad guldbrødet var ubrugeligt da jeg ikke kunne spise det og manden selvom forslag det ville være godt tak at svare på et enkelt spørgsmål på testen eller den stumpe mand havde svært ved at forstå selv grundlæggende instruktioner antag nu at i din situation i det daglige liv er din kæreste eller din kæreste vred på dig og du ved ikke hvorfor så du kan sige til dem måske er jeg stump men jeg ved ikke hvorfor du er så ked af det smarte ord nummer  er trægt trægt tragt betyder at bevæge sig langsomt for at være lidt langsommere udbrød dette er super vred mobile enheder kan tilgå de mobile udgaver af wikipedia jeg lyttede ikke fordi du måske havde travlt jeg tager det det er et godt spørgsmål og sagde at han ville gifte sig med mig han var kommet i en gylden vogn og han var klædt ovenfra og ned og guld også hvad en fjollet drøm det er ikke det værd tjek stavningen eller se om den dukker op senere inden du forsøger at oprette artiklen igen hjælp mig med at bage brødet hej ingen måde mor melpiger alle mine lyse og glitrende øjne nævner det ikke der betyder frygt grusom eller frygtelig nogle eksempler på ordet forfærdelige er de nylige voldtægtshændelser i delhi var frygtelige eller fanger behandles det er meget venligt af dig mig så næste gang du får matematik lektier fra skolen for eksempel og hvis du har efterladt din matematikbog i skolen så kan du fortælle dine venner at du er i en rigtig løsning nu tror du måske at ordet fix har noget at gøre med at reparere noget i energieksempel gør en tung frokost mig meget om eftermiddagen træg har rødder fra ordet hvilket betyder en langsom person og en snegl er et dyr der bevæger sig rigtig meget langsomt som en snegleeksempel det er ikke det værd jeg personligt elsker sætningen du rocker hvilket betyder at du er fantastisk undskylder måske talte du i telefon og nogen talte til dig og du er ligesom hvad siger du vi går i biografen kan du dække mig det er tid til at rejse og fyre jeg må hellere gå hvilket betyder at jeg allerede skal gå færre end   af de artikler som sendes til tidsskriftet ender med at blive accepteret og udgivet kan ikke hjælpe dig der undskyld hvad med noget is hun syntes sig for stor til at udføre noget arbejde mange friere kom for at bede om narcissus i ægteskab til min mor lad mig gå hjem melissa og terrence så på hinanden og blinkede godt jeg ved ikke hvilken dag det er når du ser denne video men hvis det er fredag ​​for eksempel weekend prøv at kopiere min udtale nøjagtigt inklusive den stemmetone jeg bruger jeg er enig med dig  kan du gentage det fordi jeg ikke fangede det sidste ord hvis han vil have nogen til at gentage hele sætningen igen lige nu hvordan går det godt du kan bare svare kan ikke klage alt er virkelig sejt man er oversvømmet oversvømmet betyder drukning eller oversvømmelse men oversvømmet bruges ofte i forbindelse med arbejde som jeg  m oversvømmet med arbejde jeg har for meget arbejde at gøre jeg er blevet oversvømmet med arbejde i hele denne uge jeg har næppe haft tid til at trække vejret nu lad os se på roden af ​​dette ord penge men du ville ikke få det banklån medmindre du beviste over for banken at du har penge nok så husk næste gang du sidder fast i en vanskelig situation til et engelsktalende land kan du helt bruge dette jeg er bange for at jeg ikke kan fremsætter tilbud hvad så og du er klar til at gå og hvis du kan lide denne video så glem ikke at give os tommelfingre med en kommentar  wikipedia blev lanceret den  januar  af jimmy wales og larry sanger lyder godt for mig tænk bare på den stakkels narcissemor var så bekymret for sin datter og hvordan og jeg gør altid at du kan sige fingre krydsede og du krydser fingrene sådan jeg fik en næsten perfekt score ordet forbløffende har klassiske latinske rødder fra ordet som betyder velopdragen ordet suave har flere forskellige oprindelser men en meget interessant oprindelse af ordet er hvilket betyder behagelig eller sød smagseksempel jeg tror ærligt talt ikke at det kommer til at fungere var meget bange skal du ikke bekymre dig min kære alt dette vil snart være forbi ligesom han sagde dette at vognen gik gennem en anden portal og nåede indkørslen også hvis du kunne lide denne video skal du give tommelfingrene op ved at trykke på lignendeknappen og huske at abonnere på denne kanal ved at klikke på knappen abonner for at få mine seneste lektioner lige her på youtube han var smuk han passede slet ikke på mig men min kære er du klar over at det var nøjagtigt hvordan du behandlede andre jeg ved jeg er så ked af den måde jeg handlede mor åh nej det er okay siden du har set undskyld jeg lyttede ikke hvad hej jeg er kommet her for at bede om narcissus i ægteskab men hvordan ved du hendes navn og hvem er du jeg kan ikke takke dig nok  i november  var der omkring  millioner sidevisninger eller  sidevisninger i timen for mig under det fortæller mig hvilke af disse  ord hvad der er din favorit og også undskyld nature dækker en lang række forskningsgrene hvor vigtige nye opdagelser og original forskning bliver udgivet enten som artikler eller som letters i tidsskriftet spørger om information hvilket betyder hvilket tilskynder personen til at gentage igen hvis du beder nogen om ikke at blive ked af ikke at græde kan du sige tag det ikke til hjertet fremsætter anmodninger nej tak alligevel og en anden sætning som jeg bruger i min email nogle gange når jeg ikke har bedt om en person ville du tilfældigvis vide hvor biblioteket er projektet kører på mange dedikerede servere der er placeret i florida usa og tre andre steder i verden jeg vil fortsætte jeg er ikke træt af det når nogen spørger om du er sikker og du er ret sikker på at du kan sige at der ikke er plads til det at bruge ordet catch og de er som om jeg vil købe det samme og jeg fortæller dem at du solgte det du solgte mig jeg ville ikke købe det okay du solgte mig hvis du ikke er interesseret i samtalen tusind tak  wikipedia ejes og drives af wikimedia foundation en almennyttig organisation der drives ved hjælp af donationer for at kunne være uafhængig at fortælle mig hvilket af disse ti ord der var dit foretrukne smarte ord nummer seks er i en fix i en fix betyder at være i en besværlig situation for eksempel dreng jeg er i en fix fordi jeg har lavet planer med to forskellige venner til dette aften jeg er ikke interesseret i det øjeblik begyndte narcissus at grine i søvnen hendes mor var meget overrasket over hvor dejlig hun måtte have en rigtig sjov drøm næste morgen når narcissus den danske wikipedia har  artikler pr gør det noget tak på forhånd jeg er virkelig ked af det jeg ville hellere have at du ikke gjorde det husk nu når du er på fest næste gang og du ser denne person der er sådan wikipedia modtager mellem  sidevisninger per sekund ville det være okay hvis jeg tog fri i morgen og en skarp vinkel er denne skarpe vinkel mindre end  grader så skarp som et ord bruges til at betegne skarp og derfor også mentalt skarp og stump betegner stump og derfor også lidt langsom i sindet så eksempel sætninger med stump er manden var så stump at han gav sit kodeord til en falsk opkalder eller det stumpe barn beder om gentagelse jeg er bange for at jeg gør det for eksempel var hans bordmanerer forfærdelige eller hendes sans for kjole er så grusom eller hans grammatik er forfærdelig gå videre det ville være vidunderligt ville det ikke godt uanset hvad jeg tror ​​med tiden vil hun vokse til at lære lad os tale om noget andet vi ses senere jeg kunne ikke bryde mig mindre hvis nogen spørger dig om noget og dette er en rigtig nem beslutning for dig som om nogen fortæller at du skal tage mine  million dollars og du siger det er en nobrainer dukke og den mest underholdende del er at hun elskede sig selv til ingen formål narcisa ville du da det stoppede kom en smuk mand ud af det og kiggede på narcisa hun blev helt overrasket over hvor smuk han var min drøm er faktisk at gå i opfyldelse umm bære med mig et øjeblik hvis du vil takke nogen kan du sige at det er meget venligt af dig tak så meget for at gøre at det er meget venligt af dig det er meget venligt af dig hvis nogen jeg vil også give dig et smart tip til at lyde virkelig flydende smart ordnummer jeg må hellere gå en anden måde at sige farvel på har hun jeg gætte hun ville ikke have mere guldbrød nu he ved du jeg ville elske at gøre noget men det kan jeg ikke dine venner der er denne fantastiske kanal for studerende og nogle andre ord som du kan bruge i stedet for fantastiske er utrolige fantastiske eller usædvanligt gode så inden vi fortsætter med de afbalancerede fem ord på denne video skal du huske at sætte en kommentar under denne video det betyder ikke noget som om du ikke skal bekymre dig hvis du taber din kaffe over mig som hvornår stoppede vi hvor var vi og du bliver nødt til at gentage det for hvad er det lyden som nogle fejler med narcisa vil du hjælpe mig med at plante disse frø hvad hvorfor skulle jeg gøre det hvad har jeg alt det snavs på mine dejlige fingre værre hvad hvis det gik på mit ansigt det var problemet med narcisa  det er et af de få tilbageværende akademiske tidsskrifter der udgiver original forskning spredt over en bred række videnskabelige emner end normalt at se lidt træt og manglende ud sagde du  sammenlignet med andre sites besøgt fra danmark er wikipedia alle sprogversioner medtaget også godt besøgt og lå december  på en \n"
     ]
    }
   ],
   "source": [
    "print(lang_corpus['Danish'])"
   ]
  },
  {
   "cell_type": "code",
   "execution_count": 26,
   "metadata": {},
   "outputs": [
    {
     "name": "stdout",
     "output_type": "stream",
     "text": [
      " ve bu videoda size günlük kullanım için ve bu videonun sonunda  akıllı kelime vereceğim bu kişiyi bir kez daha tekrar etmeye sevk ettiği anlamına gelir pekala başlayalım normalde bir eserin yazarı o yazının telif hakkını elinde bulundurur ve bu hak diğer insanların bu yazıyı değiştirmesini ve kopyalamasını engeller biri gerçekten iyi gidiyorsa bunu yapabilirsin onlara iyi işi sürdürmelerini senin kadar iyi gibi iyi işlere devam etmelerini söyleyebilirsin ve iyi işi sürdürmeye devam et başka bir deyim olmaya devam et ve bu da amerikalılar söyle emeğiniz için teşekkür ederiz alexaya göre vikipedi ziyaretçilerinin i i̇ngilizce vikipedi sitesini ziyaret etmektedir özgür görünmesine rağmen bilgiyi yazan kişi telif hakkına sahiptir ancak diğer insanların bu bilgilerden yararlanmasına ve geliştirmesine izin vermektedir ve bununla birlikte arabasına bindi ve annesiyle vedalaşmadan melekle birlikte yolculuk ederken araba aniden büyülü bir geçide girdi ve arabanın muazzam bir şekilde çarptığı fırtınalı bir bölgeden geçti hey birlikte sakinleşin başka bir ifade rahatsız ettiğim için özür dilerim arkadaşların çok halsiz hissediyorum unutulmamalıdır ki vikipedi bir milletin grubun takımın sınıfın dinin ansiklopedisi değildir iyi huylu suave kelimesinin birçok farklı kökeni vardır ancak kelimenin çok ilginç bir kökeni hoş veya tatlı tadım örneği anlamına gelmesidir telefonumu kaybettim ve bir düzelme içindeyim ya da otobüsümüz bu sabah bozuldu ve bir düzelme içindeyim arkadaşım her zaman yardım için bana dönüyor ve işler iyi gittiğinde unutuyor yalan dolan eksik gedik seni eve bırakmamı ister misin genel olarak ama kazandı  resmi bir toplantı için çok uygun olmayın bu yüzden bir randevunuz varsa belki de kesinlikle  numaralı bir randevu akıllı kelimenin çok geniş olduğunu söyleyebilirsiniz onlara söyle belki kafayı buluyorum ama neden bu kadar üzgünsün bilmiyorum  numaralı akıllı kelime halsiz tembel biraz daha yavaş ilerlemek için yavaş hareket etmek anlamına geliyor üzgünüm ilgilenmiyorum bugün bir enerji içeceği ile yapabilirim halsizlik yerine kullanabileceğiniz diğer kelimeler uyuşuk olabilir veya ayaklarımı sürükleyebilir bu yüzden bunlar  akıllı kelime ve öncesi idi testte tek bir soruyu cevaplamak için ya da cömert adam temel talimatları bile anlamakta zorlandı şimdi varsayalım ki günlük hayatınızda erkek arkadaşınız veya kız arkadaşınız size kızgın ve nedenini bilmiyorsunuz bu yüzden yapabilirsin vikipedi çevrimiçi olarak ve katı olmayan bir lisans ile sunulmaktadır şaşırtıcı derecede iyi olan bir şeyi tarif etmek için çok muazzam şaşkınlık kullanılır örneğin o elbiseyle muazzam görünüyor ya da bu balkondan ne kadar muazzam bir manzara ya da koyamadığım bu muazzam kitabı okuyorum peki ya sen git ve söylemek birine şans dilemenin önemi yok oh bu yanıyor ve muhtemelen şarkılarda duymuşsunuzdur  başarısız olduktan sonra birisi başarılı olursa yanar böylece oraya gideceksin dedim oraya gideceksin dedim eğer birisi sana yorgun olup olmadığını soruyorsa ve hiç yorgun olmadığını söylemek istiyorsan biraz hayır diyebilirim durum şu ki bir şey almadınız ve sonra fazladan bir etki elde edersiniz ve bunu elde edersiniz iyi huylu kültürlü ve sofistike katıldığımdan emin değilim oh anne seni çok seviyorum ve haklıydın ve zenginlik her şey değil ben onu yiyemediğim için altın ekmek faydasızdı ve adam olsa bile ah aptal o zengin ve yakışıklı daha ne isteyebilirim ki senin teklifini kabul ediyorum birçok dilde tarafsız bakış açısı savunulmaktadır ancak bulundukları ülkenin kanun ve kurallarına göre değişiklikler yapabilirler kendini herhangi bir iş yapamayacak kadar büyük olduğunu düşündü birçok talip evlilikte nergis istemek için geldi kahvenizi üzerime düşürürseniz endişelenmeyin tüm hafta sonu boşum hadi bir şeyler yapalım birinin sadece ağlamak ve olmayan bir şeyden şikayetçi gibi görünmesini istiyorsanız gelin diyebilirsiniz ben sen yapabilirsin ben ben çuvalladım ben mahvettim eğer benim yerime birinin çalışmasını istiyorsan diyebilirsin nasılsın vikipedi kullanıcıların ortaklaşa çalışmasının zamanla maddeleri geliştireceği inancıyla kurulmuştur tıpkı herhangi bir açık kaynaklı programın gelişmesi gibi bir dakika bekleyin tanıştığıma memnun oldum dinlemiyordum çünkü belki meşguldün bu harika olurdu korkarım yapamam çiviyi kafasına vur hoşçakal demenin başka bir yolunu bulsam iyi olur sen nasılsın buraya atlamamın sakıncası var mı şirket logoları şarkı örnekleri haber fotoğrafları ise amerika birleşik devletleri kanunlarına göre adil kullanım altında kullanılmaktadır ne söylüyordun  dün gece anne o kadar inanılmaz bir rüyaydı ki bana gelen bir prens vardı maddeler istisnalar dışında her zaman değiştirilmeye açıktır sadece eğer söylenmeyecek sunumlar telif hakkı ihlalleri ve yasal olarak vikipediye sorun çıkaracak hususlar varsa bunlar sayfa geçmişinden silinebilir yani bir dahaki sefere okuldan matematik ödevi aldığınızda ve matematik kitabınızı okulda bıraktıysanız arkadaşlarınıza gerçek bir düzelme içinde olduğunuzu söyleyebilirsiniz şimdi düzeltme kelimesinin yapacak bir şeyi olduğunu düşünebilirsiniz kendini toparla diyorsun sanki kendini topla ve kendini topla gibi çalışmayı bırak ağlamayı bırak kendini topla korkarım katılmıyorum bunun için açıklama kutusuna yazdım ve şimdi akıcı sesin gizli ipucu bazen bildiğim birden fazla akıllı kelime veya cümle kullanmak değil durduğunda yakışıklı bir adam oradan çıktı ve narcisaya baktığında onun ne kadar yakışıklı olduğuna şaşırdı hayalim aslında gerçek ümmete dönüşüyor tereddüt mesela nerede olduğumuzu ne zaman durdurduk ve siz bunu tekrarlamanız gerekiyor çünkü bu bazılarının hata yaptığı ses şimdi hapşırdığında oh oh ve son durak hayır artık duymak istemiyorum tüm görebildiğim o adamların gerçekten iyi olduğuydu canım bu güzelliği bilmelisin bir şey yakalayamadıysan ya da her zaman sorabileceğin kişiyi anlamadıysa neler oluyor seni doğru anladım mı zevkle vikipedinin içeriği yüzlerce site tarafından veritabanından alınarak kullanılmaktadır i̇çeriğinin i̇nternet dışında kullanılmak üzere bilgisayara indirilmesi de oldukça kolaydır ve kullanılan ana dağıtım metodudur gitmeliyim sonra görüşmek bir zevkti sana geri dönmeme izin ver bitirmeme izin ver buluşma veya randevu söylemenin çok fransızca bir yolu örneğin cumartesi öğle yemeğinde arkadaşlarımla randevum var veya arkadaşlarımla alışveriş merkezinde film için buluşmayı planlıyorum buluşma hem isim hem de fiil olarak kullanılabilir örneğin ekonomi bu yıl çok durgun ya da yavaş bir başlangıçtan sonra maç hızlandı kendine iyi bak bazı maddeler için seslendirilmiş sürümleri ogg biçiminde sunulmaktadır olağan altından ekmek onunla ne yapmalıyım belki hayali gerçekleşirse neden ağlıyorsun korkarım yaparım yeterince teşekkür edemem mühim değil bir sorudan kaçınmak benim yerime çalışabilir misin ya da kısık şimdi geometri geniş açı ve dar açıda geniş kelimesini duydunuz bu nedenle geniş bir açı  dereceden büyük ancak  dereceden küçük bir açıdır merhaba ve hoşgeldin kanada parlamentosu vikipedinin aynı cinste insanların evliliği hakkındaki maddesini yasal evlenme kanununda okunulacak belge olarak sunmuştur arkadaşlarımla bu akşam bir randevum var veya yarın arkadaşlarımla randevu yapacağım de yayımlanan verilere göre i̇ngilizce vikipedi sürümünde  binden fazla aktif editör varken diğer dillerde binden fazla aktif editörü olan vikipedi projelerinin sayısı dir nasıl narsisizm artık marian onlara hem olan her şeyi anlattı hem de o zamandan beri çok değişti tekrarı sormak ben iyi talihlerin meleğiyim kızınızın adı ve güzelliği burada dünya çapında tanınıyor size bir hediye getirdim ama onu çok az tanıyorsunuz onunla gidemezsiniz bence bu iyi bir fikir amerikada birisine sms göndermek veya onlara bir mesaj göndermek istiyorsanız metne metin söylüyorsunuz böylece size mesaj göndereceğim size whatsapp veya bir telgraf veya her ne kullansam kullanacağım bir mesaj göndereceğim anlamına gelir ayrıca size gerçekten akıcı akıllı kelime numarası vermeniz için akıllı bir ipucu vereceğim  vikipedi’ye türkiye’den erişim engelinin  ocak ’de türkiye cumhuriyeti anayasa mahkemesi kararının ardından bilgi teknolojileri ve i̇letişim kurumu tarafından kaldırılmasının ardından  ocak ’de habertürk gazetesi yazarlarından fatih altaylı “davutoğlu’nun anımsattıkları” başlıklı bir yazı kaleme aldı bahsetme benden sonra söyleyen bir cümle alıştırması duyduğunuzda tanrıya şükür cuma olduğunu söyleyebilir veya göklerin cumartesi hafta sonu keşfi dediğini düşünebilirsiniz bana uyar temel selamlar nasıl gidiyor bir başka yakalama örneği banka kredisine ihtiyacınız olduğu için yeterli olmadığı için  vikipedi sözcüğü viki ve pedi kelimelerinin birleşiminden oluşur orada bir yerde kırmızı bir düğme olması harika olurdu ve bir dar açı bu keskin açı  dereceden az olan bu keskin açıdır bu yüzden bir kelime keskinliği ifade etmek için kullanılır ve bu nedenle zihinsel olarak keskin ve geniş künt anlamına gelir ve bu nedenle de zihinde biraz yavaştır o kadar genişti ki şifresini sahte bir arayana veya şişman çocuğa verdi buna değmez yani yolculuğunuza başlamak üzereyseniz görüşler özellikle dinî ve siyasi içerikli maddeler vikipedide en çok saldırıya uğrayan değişiklik savaşlarına sahne olan maddelerdir yarın için planın var mı bunu her zaman söyleyebilirim çünkü ben yapmamıştım sınava çok iyi hazırlandım bazı sorular karşısında şaşırdım kaldım flummoxed yerine kullanabileceğiniz diğer kelimeler şaşkın şaşkın ya da şaşkın akıllı kelime sekiz numaralı buluşma randevusu eğer bir şey sizi şaşırttığında benimle aman tanrım gibi dalga geçmeniz gerektiğini de söyleyebilirsiniz diye soruyorum ve sonunda diyorum biri size bir şey sorarsa daha az umursayamazdım ve bu sizin için gerçekten çok kolay bir karar tıpkı birinin benim  milyon dolarımı almanızı söylemesi ve siz bunun akıllıca olmadığını söylüyorsunuz seyahatleri sırasında ya da bir röportajda neden sizi işe almalıyız diye sorulduğunda karşılaştığı bir dahaki sefere tamamen şaşkına dönmüş görünüyordu bu yüzden bir dahaki sefere bir sınavda herhangi bir soruda kafanız karışırsa o zaman sizden endişeye gerek yok eve geldiğinizi hayal edin ve tüm arkadaşlarınız koltuğunuzda oturuyor neredeyse bir kuşunki gibi küçük gözleri vardı ve diğerinin kocaman bir burnu vardı onun yanında olmak istemezdim bu durum bilgilerin herkes tarafından anında eklenebilmesine olanak verir biri güzel bir fıkra anlatırsa bunun iyi bir fıkra olduğunu anlayabilirsiniz istediğin zaman seni orada bir dakika durdurabilir miyim buna ek olarak wikipedia  isimli onaylanmış ve basıma hazır maddelerin editörler tarafından hazırlanmış bir cd sürümü de hazırlanmaktadır çok teşekkürler i̇yiyim ama teklif ettiğin için teşekkürler bu konuda bir fikrim yok maddelerin eşit olmayan kalitesi değişikliklerin takipsizliği sistem hataları ve bilgilerin doğruluğu üzerine tartışmalar hâlen devam etmektedir katılıyorum ve katılmıyorum nereden biliyorsunuz sana yardım edemem üzgünüm şimdiden teşekkür ederim bu da gerçekten umduğum anlamına geliyor bu ortaklaşa ve anında değişiklikler editörlerin mevcut maddeleri hızlıca geliştirmesine ve yenilerinin gerçekleşir gerçekleşmez ortaya çıkmasını sağlar herhangi bir vikipedist başka bir dilden çeviri isteğinde bulunabilir biraz düşünmeme izin ver elbette hiç sorun değil daha fazla katılamadım i̇çeriklerin diğer dillerdeki gibi olma zorunluğu yoktur ya da maddelerin birbirlerinin tercümesi olması gerekmez narcisa ilk başta mücadele ettiği yollarını değiştirdi ama yavaşça ve sabırla bir gün çok daha güzel olmaya başladı mellie ve terry tekrar marian ile buluşmaya geldi oh merhaba ikiniz o yüzden anlat bize marian hayır sanmıyorum biri boğulma veya su basması anlamına gelir ancak bataklık genellikle i gibi işler bağlamında kullanılır bu değişiklikler sadece vikipedi hizmetlileri tarafından yapılabilir lütfen özrümü kabul et insanlara teşekkür etmek sana günlük hayatında kullanabileceğin en iyi  i̇ngilizce kelime öbeğini vereceğim benim için altından bana bu  kelimeden hangisinin favoriniz olduğunu söylüyor uzun zamandır görüşemedik ve ben her zaman bunu yapıyorum parmaklar çapraz diyebilirsin ve bu şekilde parmakları çapraz yaparsın üzgünüm diyebilirsiniz öğrenciler için bu muazzam kanal olan arkadaşlarınız ve muazzam yerine kullanabileceğiniz diğer bazı kelimeler inanılmaz fantastik veya son derece iyi tamam bu yüzden bu videodaki dengeli beş kelimeyle devam etmeden önce bu videonun altına bir yorum koymayı unutmayın mümkün değildi maddeler kullanıcıların kolaylıkla anlayabileceği bir sunuş kısmının giriş ardından ayrıntıya girilerek günümüz itibarıyla doğrulanabilecek kaynaklarla sunulmalıdır vikipedi her dilde birbirinden bağımsızdır bu korku zalimce veya korkunç anlamına gelir acımasız kelimesinin bazı örnekleri son zamanlarda delhi tecavüz olayları iğrençti veya tutuklular tedavi edilir birçok dildeki vikipedide çevrilmiş dosyalar küçük bir bölümü temsil eder bunlar nasıl o anda nergis uykusunda gülmeye başladı ertesi sabah nergis olduğunda annesi gerçekten komik bir rüya gördüğünde ne kadar güzel olduğuna çok şaşırdı hayır harika bir iş çıkardın haydi hatan ne oldu o günden itibaren sana güzel bir şeyler besleyelim biliyorum ama hayır bir düzeltme sorunlu bir durumda olmak anlamına gelir bir düzeltme yerine kullanabileceğiniz başka kelimeler çorbada mıyım yoksa ben mi karmaşa içindeyim ya da bir rahatsızlık içindeyim ya da sadece bir noktadayım akıllı kelime numarası  flummox flummox birinin kafasını karıştırmak anlamına gelir bir şeyin ortasındasın ve biri senden söylediğin bir şeyi yapmanı istiyor üzgünüm evet lütfen emin ol devam et birini neşelendirmek için tekrar mesaj atıp onlara üzülmemesini söyleyebilirsin buna değmediğini söyleyebilir misin rahatsız ettiğim için üzgünüm bebek ve en eğlenceli yanı kendini sonsuza kadar sevmesiydi narcisa planlar yapmak sarayımda yemeklerden iyi bahsetmişken o yolculuktan sonra gerçekten acıktım açlıktan ölüyorum o lezzetli yiyeceklerden herhangi birini alabilir miyim elbette burada et kokulu melisa sana ne istersen alacak senin hakkında çok şey duydum seni zavallı canım açsın değil mi gelip yemek masasına gidelim ve sana biraz yiyecek alacağım teşekkür ederim yemek odasına gittiler ve masanın üzerinde narcisanın şimdiye kadar gördüğü en şaşırtıcı yiyecekler vardı çünkü reçel yapılır vikipedi maddeleri tamamen objektif ve doğru bir şekilde sunmaya ve her türlü bakış açısını yansıtmaya çalışır altaylı murat bardakçı’nın vikipedi’ye dönük eleştirilerine katıldığını ifade etti ve “vikipedi gerçekten bir facia eğer birisi ağlıyorsa ve istemiyorsa aman tanrım  yılında amerika birleşik devletlerinde bir davada vikipedi referans olarak gösterilmiştir kocaman ve görkemli bir altın şatodan narcisa gördüğü tüm güzelliğe hayret etti o kadar çok zenginliği hak ettiğimi biliyordum onu beğeneceğinizi biliyordum burada en güzel elbiselerden en lezzetli yiyeceklere kadar bulacağınız her şeyi bulacaksınız affedersiniz elbette aklınızda ne var bir şeyler yapmak isterdim ama yapamam dini kişilerden bahsederken hazreti aziz yüce gibi sıfatlar kullanılmaz tam türk işi bu iyi bir soru ekmeği pişirmeme yardım et öyle değil anne un bakıcısı parlak ve ışıltılı gözlerimi vikipedideki kendi biyografi maddesinden örnek vererek yanlış bilgiler içerdiğini ve vikipediyi intihal açısından öğrencilerin akademik performansı için olumsuz bir kaynak olduğunu vurgulamakta ve vikipedinin bu yüzden türkiyede yasaklanmasını savunmaktadır bu videoda size sohbet sırasında kullanabileceğiniz  yaygın ve çok faydalı cümle vereceğim diğer ansiklopedilerden farklı olarak vikipedi gnu özgür belgeleme lisansı göbl kullanmaktadır bunların hepsini yemek zorundasın süslü şeyleri sevdiğini düşündüm hayır seninle evlenmek istemiyorum eve gitmek istiyorum üzerine yakut reçeli ve kocaman bir ısırık aldım bu çok sıcak bu kadar iyi yiyemiyorum altından yapılmış ekmek ve en iyisi de ama yiyemiyorsan sana gümüş ekmek gümüş alayım neden olmasın sen ye acımasız bir şekilde bazen cezaevlerinde vahşet günlük yaşamda da bazı yaygın yanlış şeyler hakkında konuşmak için kullanılır ve bunu abartmak istersiniz diğer i̇nternet ansiklopedi projelerinin çoğu üyelik gerektirir ve yalnızca uzmanların yazılarına izin vermektedir stanford felsefe ansiklopedisi nupedia hg ve everything gibi ağladığın sorundan çok daha iyisin  gözyaşlarına değmez ciddiye alma o kadar üzülme kalbe alma naber bazı ansiklopediler de vikipedi gibi viki yazılımı kullanmaktadır özellikle anglosakson coğrafyada vikipedinin açık kodlu değiştirilebilir olması ve yoğun vandalizme uğramasını konu alan parodiler ve skeçler sıklıkla yapılmaktadır bazıları ise vikipedinin bu açık bakış açısını anlamsızca kullanırlar buna da vandalizm denir türkiye cumhurbaşkanı demeç tarihindeki başbakanı recep tayyip erdoğan türban ile ilgili bir demecinde türkçe vikipediyi kaynak göstermiştir o gün iki arkadaşı nergisli anneyi ziyarete gelip mellieydi ve üçü de asırlardır arkadaş olmuştu ama terry ve ellienin her ikisinin de bir sırrı vardı  encyclopædia britannica inc şirketi ise ansiklopedilerindeki maddelerin ödül kazanmış ünlü akademisyenler tarafından hazırlandığını belirterek bu araştırmayı hatalı bulmuştur üzgünüm anlayamadım  bunun yanı sıra vikipedinin popüler kültürde kullanılmasını konu alan eserler de çoğalmıştır murat bardakçı habertürk tvde hazırlayıp sunduğu tarihin arka odası programında vikipedideki bilgileri birkaç kez eleştirmiştir şimdi daha sonra mellie ve terry eski arkadaşlarına veda ettiler ve o gece hem anne hem de kızı gizlice birbirlerine gülümseyerek uzaklaştılar vikipedi hiçbir maddesinin tamamlanmış ya da bitmiş olduğunu iddia etmez örnek olarak sos children vikipedinin içeriğini cdde sunmaktadır kaynak belirtilmeli verilen bilgiler bazen onaylanmamış ve sorgulanabilir olabilir kaynakları eksik olabilir beni koruyabilir misin gitme zamanı geldi ve millet daha iyi olur bu da demek oluyor ki şimdiden gitmeliyim biliyorsun  aşağıdaki liste  aralık  itibarıyla  üzerinde maddesi olan vikipedileri göstermektedir narcisa bu tohumları ekmeme yardım eder misin niye yapmalıyım niye o kadar güzel parmaklarımda o kadar kir var daha da kötüsü yüzüme iyi gelse narsisanın sorunu buydu ve telaffuzu bir veya iki kez duyun bir bakayım sana bir bardak su getirebilir miyim tekrar edebilir misin bir cümlenin bir parçasını yakalayıp yakalamadığını sormanın başka bir yolu da son kelimeyi anlamadım diyebilirsin ve bu hayranlık dolu bakışları arkadaşlarınızdan alın catch yerine kullanabileceğiniz diğer kelimeler paradoks veya ikilem akıllı kelimedir enerji örneğinde ağır bir öğle yemeği beni öğleden sonraları çok tembelleştiriyor bu kelimeden kökler geliyor bu da yavaş bir insan anlamına geliyor ve bir sümüklüböcek salyangoz örnekleri gibi gerçekten çok yavaş hareket eden bir hayvandır telaffuzumu kullandığım ses tonu da dahil olmak üzere kopyalamaya çalış ya da bu çeyrekte işlerin durgun geçtiğini günlük hayatınızda çok yorgun hissediyorsanız bunu bir gün annenize anlatabilir ya da anlatabilirsiniz bununla beraber bazı projeler vikipedinin içeriğini değişik olarak sunmaktadır vikipedideki birçok geçmiş değişiklik de sayfa geçmişinde kullanıcılar tarafından kronolojik olarak görülebilir milyonlarca kez teşekkürler tabağımda çok fazla şey var işte boğuluyorum her şey yolunda giderse daha önce onları büyütmek için neler yaptın bu akşam yemekte pizza yemeye ne dersin şimdiden teşekkür ederek biraz yapın vikipedide şehit terörist kahraman gibi göreceli tanımlamalardan kaçınılır tuzu uzatır mısın lütfen bu videoyu izlerken hangi gün olduğunu bilmiyorum ama örneğin hafta sonu cuma günüyse ve biliyorsunuz ki en iyi yanı benim de altın renginde olan gelinliğimi giydiğim zamandı tabii ki herkes sadece bana narsizaya bakıyordu bu rüya hakkında şaşırtıcı bir şey yok bununla beraber üye olmanın yapılan değişikliklerin kaydını tutabilmek seçkin madde vb teklifler yapmak söyleme özgürlüğüm yok üç numara tatlı tatlı kibar olmak için sofistike olmak havalı olmak ve vikipedinin en önemli politikalarından biri tarafsızlık politikasıdır ama burada doğru olan kapatılmasını ya da yasaklı kalmasını istemek değil düzeltilmesini talep etmek sürekli eklemeler ve değişiklikler yapıldığı için hiçbir zaman tamamlanmayacağı varsayılmaktadır ödevlerle boğuşuyorum akıllı kelime iki numara yakalama şimdi eminim sen bu kelimeyi catchden önce duymuşsanız bir şeyi diğerini yapmadan yapamayacağınız ve diğerini yapamayacağınız çünkü ilk olanı yapmadığınız için imkansız bir durum anlamına gelir anneme eve gitmeme izin ver melissa ve terrence birbirlerine baktı ve güzelce göz kırptı sonra görüşürüz başka bir şey ama yiyebileceğim normal ekmek ekmeği istiyorum bu yüzden benim efendim kabuğumun müstakbel karısı soğuk sadece tüm yiyeceklere baktığım en iyi narcisini yemelisin üzgünüm şu anda yapamam prens ya da şövalye gibi birini hak ettiğimi anlaman gereken her şey anne değil mi wikipedia ne kadar zengin ise bu o kadar fakir   yıl  ay  gün aradan sonra  gün  ocak  tarihinde türkiye saati ile da anayasa mahkemesi kararıyla yeniden erişime açıldı bunun hakkında ne düşünüyorsun altın araba onlara doğru geliyordu mücevherler ve elmaslarla süslenmişti ve son derece çarpıcı görünüyordu fransada daha önceki randevu ordu tarafından askerler için bir buluşma yerini belirtmek için kullanılıyordu şimdi bile randevu kelimesi hakkında biraz heyecan verici ve gizli bir şey var bu yüzden herhangi bir toplantı için randevu kullanabilirsiniz bu konudaki görüşleriniz nelerdir vikipedi editörleri bu durumu sosyal darwin evrimi gelişmesi ile açıklar ancak thriller dünyanın gelmiş geçmiş en çok satan albümüdür ifadesi bir olgudur ve güvenilir üçüncü parti kaynaklarını göstermek kaydı ile vikipedide yer alabilir işle boğuldum yapacak çok işim var bu hafta boyunca işin içinde kaldım neredeyse nefes almaya zamanım olmadı şimdi bu kelimenin kökenine bakalım i̇ngilizce konuşulan bir ülkeye bunu tamamen kullanabilirsiniz ben yine de çamaşır yıkayacağım sanki önemi yokmuş gibi o kadar ki şimdi ne yapacaklarını unuturlar kafaları karışmış bir kelime olma eğilimindedir bu yüzden neden bunun yerine flummox kullanmıyorsunuz örneğin öğretmen sınıfta ona bir soru sorduğunda ya da köpek flummox göründüğünde çocuk tamamen öfkeliydi aynada kendi yansımasına ya da turistin farklı gelenekleriyle şaşkına döndü güzelliği her yerde bilindiğinden ama hepsini çok kaba bir şekilde reddettiğinden dün bu adamları neden gönderdin iyi görünüyorlardı onlardan biri ciddi anne olamazsın katılımcılar birden fazla lisansı içeriklerinde kullanabilirler ya da kamu malı olarak ilan edebilirler biraz daha yavaş konuşabilir misin lütfen biraz dondurmaya ne dersin iyi olacağım biraz bekler misin lütfen nasıl gidiyor vikipedilerin toplamda  maddesi vardır yapmamanı tercih ederim nasılsın gibi haberleri nereden aldın mükemmele yakın bir puan aldım stupendous kelimesinin klasik latin kökenleri var ama yenmez olan her şey için kalbi kırıldı yakında ağlamaya başladı bunu istemiyorum ama yemek gerçekten çok iyi evet lütfen devam et kafanı karıştırdım bu yüzden sana bazı örnekler vereyim ye yakalanma durumu iş deneyimi olmadan bir iş bulamadığın zamandır kurucularından jimmy wales vikipediyi dünya üzerindeki her insana kendi dilinde en üst kalitede bedava bir ansiklopedi oluşturma ve dağıtma uğraşısı olarak tanımlamaktadır cep telefonunu kullansam sorun olur mu bir numaralı ifade bu sormanın başka bir yoludur bu harika olurdu değil mi tahmin etsem de zamanla öğrenmeye başlayacak hadi başka bir şey hakkında konuşalım örneğin sofra adabı iğrençti ya da kıyafet anlayışı çok iğrenç ya da grameri iğrenç bu harika bir şaka bu yüzden bu iyi bir cümle burada biraz altın patates deneyin gerçekten çok iyiler ve benimle evlendikten sonra çok mutluyum bu çocuklar  i̇ngilizce cümle bu videoyu beğenerek ve daha havalı ifadeler biliyorsanız aşağıya yorum yaparak yardımcı olup olmadığını bana bildirin bu iyi kesinlikle haklısın birini bir süredir görmediğinizde iki numaralı cümle ona uzun zamandır görüşme diyorsunuz yani bu kişiyi belki haftalarca ya da aylardır görmemişsinizdir cümle numarasını göremezsiniz viki hawaii dilindeki wiki wiki hızlı veya bilgi amaçlı sözcüğünden türetilmiştir devam etmek istiyorum birisi size sorduğunda yorgun değilim emin misiniz ve buna yer olmadığını söyleyebileceğinizden oldukça emin misiniz sana yardım etmeye çalışıyordu ama söyleyebileceğin sonuca ulaşamadı bir telefon görüşmesinde kullanmak için akıllı kelimeler arıyorsanız o zaman bir videoya bağlantı koyuyorum narsis arabanın içinde eve vardığında yaptığı seçimler hakkında derinlemesine düşünmeye başladı artık altın ekmek istemeyeceğini mi tahmin ediyorum ha biliyorsun ve gitmeye hazırsınız ve bu videoyu beğendiyseniz bize yorum ekleyerek beğenmeyi unutmayın bunun yanı sıra creative commons gibi göbl benzeri lisanslama yöntemleri de mevcuttur birine teşekkür etmek istiyorsanız çok naziksiniz diyebilirsiniz bunu yaptığınız için çok teşekkür ederim bu çok naziksiniz eğer birisi iseniz çok naziksiniz hey neden bizimle takılmıyorsun onlara çok üzgünüm diyebilirsin ama işle boğuldum veya batmak yerine kullanabileceğin başka sözlerim var çok mu var yapmak bunun için gerçekten üzgünüm bunun yanı sıra wikimedia commons deposunda da tüm vikipedilerin kullandığı medya dosyaları mevcuttur eğer vandalizm ya da revert war geri dönüştürme savaşı yaşanırsa madde koruma altına alınır arkadaşımı görüyorum bunun için endişelenme vikipediye yazılan bilgilerin uygunluğu konusunda bazı kurallar mevcuttur yarın biraz meşgulüm doğrudan ya da dolaylı hakaretlere hoşgörü gösterilmez beni satmanı seviyorum çünkü bazen insanlar seyahatlerini ya da satın aldıkları birini anlatıyorlar ve çok güzel olduğunu anlatıyorlar çok tatlı o kadar akıllıca dört numaralı kelime iğrençtir acımasız kelimesi gerçekten kötü bir şey anlamına gelir korkunç korkunç korkunç dehşet verici bir latin kökü vardır yayımlanmış vikipedi maddeleri ayrıca pediapress ve print on demand servisleri tarafından da sunulmaktadır üzgünüm dinlemiyordum bu durum yankovic hayranlarının sayfayı yoğun olarak vandallamalarına sebep olmuştur bir sonraki cümleye şikayet edemezsiniz birisi size bir şey söyler ve sohbette bir şekilde yeni bir işiniz olduğunu tahmin ediyorlarmış gibi bundan bahsetmediniz ve ona soruyorsunuz çok naziksiniz penny arcadein bir karikatüründe i̇skeletor heman maddesini değiştirmektedir biz bu akıllı kelimelerin birçoğunu öğrendim ve kulağa doğal gelmeyen iki üç dördü tek bir cümlede doldurma eğilimindeyiz vikipedinin ana kurallarından biri maddelerin tarafsız bir şekilde kaynaklarıyla birlikte olumlu ya da olumsuz tüm yönleriyle sunulması gerektiğidir maddeler bir kullanıcı ya da editör grubu tarafından kontrol edilmez ya da telif altına alınmaz içerik hakkındaki kararlar vikipedinin editör kurallarına göre fikir alma ortak kararıyla ya da bazen oyla karar verilir özellikle tartışmalı tüm konular tartışmanın taraflarına eşit mesafede kalınarak yazılmalıdır terry sen aslında o meleğe biraz benziyorsun ama ne görüyorum nasıl o olursun ikiniz çok hoşsunuz bir saniye bekle bunu tekrar etmenin bir sakıncası var mı bu yüzden bu bir sohbetin ortasındayken yine neredeydik pratik yapmanın harika bir yolu kişiye üzülmemesini söylemenin bir başka yolu da her şeyin yolunda olduğunu söylemektir yani biriyle tanışın ve zamanın nasıl gidiyor bunun hakkında emin değilim hayır üzgünüm bazı planları şimdiden kızdırdım endişelenme endişelenme yani endişelenme evde oturan annesine sarılmak için koştu hüzünlü abla o tatlı kızım seni bir daha göremeyeceğimi sandım şerefe gerçekten minnettarım hemen hemen tüm konuklar vikipedinin içeriğini değiştirebilir yeni kullanıcılar da yeni madde başlatabilirler eğer biri hayalleriyle ilgili bir işe sahipse söyleyebileceğin her şeye şanslısın ya da biri şanslısın gibi hayallerindeki üniversiteye girdiyse bu şanslı olan kişiyi tebrik etmenin bir yolu ya da şanslı olduğunu vurgulamanın başka bir yolu olduğunu söylemek gibi gerçekten kızgın olman çok kızmışım gibi çıldırdığımı söylemektir bu çok kızgınım   nisan de vikipediye türkiyeden erişim bilgi teknolojileri ve i̇letişim kurumu tarafından idari tedbir uygulanmak suretiyle engellendi ve benimle evlenmek istediğini altın bir vagonla geldiğini ve tepeden tırnağa altın giyinmiş olduğunu ve ne aptalca bir rüya olduğunu söyledi tabii devam et aslında   pm yardımcı olmaktan memnuniyet duyarım  oldukça kapsamlı ve ortaklaşa üretilen bir proje olan vikipedide ve kardeş projelerinde bütün katkıların yasalara uygun olarak yapılması önemlidir kütüphanenin nerede olduğunu biliyor musun vikipedinin maddeleri ayrıca akademik çalışmalarda kitaplarda ve konferanslarda ve son olarak da filmlerde de kullanılmaktadır çok korkmuştu endişelenme canım tam da bu vagonun başka bir kapıdan geçip garaj yoluna ulaştığını söylediğinde bunların hepsi yakında bitecek vikipedi gönüllülerin ortaklaşa çabası doğrultusunda ve neredeyse herkesin web sitesine ulaşıp değiştirmesiyle yazılmaktadır bunu yapabilirsin toefli geçebilirsin gmatı geçebilirsin gelsin büyülü varlıklardı narcissein annesinin havlu melli hakkında hiçbir şey bilmediği bir şey oh seni görmek çok güzel çok uzun zaman oldu değil nasıl olsaydın ben çok iyiydim keşke kızım narcisa biraz daha anlayışlı olsaydı marian mellie ve terryye narcisayı ve yemek istediği için nasıl endişelendiğini anlatsaydı daha iyi olabilirdim bu benim hatam sana  katılıyorum güvenilir bir kaynak haline gelmesi için çaba göstermek ve bunu talep etmek” ifadelerine yer verdi bu harika olurdu teşekkürler vikipedi maddeleri hazırlanırken kanılara değil olgulara yer verilir fazla değil vikipedideki resimlerin seslerin ve video dosyalarının büyük çoğunluğu göbl lisansı ile lisanslanmaktadır onlar senin için iyi gibiler sensiz daha iyi olurdu ve bu olumsuz bir anlam bu yüzden tonlamayı gerçekten dinle bana bu on kelimeden hangisinin en sevdiğin akıllı kelime olduğunu söylemek için altı numaralı kelime bir düzeltmede bir düzeltmede örneğin sorunlu bir durumda olmak anlamına gelir oğlum çünkü bunun için iki farklı arkadaşla planlar yaptım akşam berbat oh bu neredeyse çılgın gibi bu hiç akıllıca değil eğer yanlış bir şey yaptıysanız ve bunu kabul ederseniz evet beyler ben batırdım diyebilirsiniz sizin için gerçekten kolay bir karar olduğu anlamına gelir berbat ettim   vikipedide bu isimde bir madde bulunmamaktadır oylamalarına katılmak vandalizmle mücadeleyi kolaylaştırmak gibi avantajları vardır birine gülümsemesini söylemek için benimle dalga geçiyor olmana ve mutlu olmak için her zaman neşelen neşelen diyebileceğine inanamıyorum mp yerine ogg biçiminde sunulmasındaki ana sebep mpün bazı patentlerle koruma altına alınmış olmasıdır bu yüzden bugün  yeni akıllı kelime öğreneceğiz bunların anlamları temel kelimeleri ve örnek cümleleri öğrenelim öyleyse hadi devam edelim hey millet bu ve siz izliyorsunuz eğer birinin içinde bir şeyin ortasındaysanız sana söyleyebileceğin bir şey soruyorum oh iyi cevap verebilirsin şikayet edemezsin herşey gerçekten harika birisi meşgulse canınızı sıktığım için her zaman özür dileyebilirsiniz ve sonra devam edip sorabilirsiniz tekrar edebilir misin çünkü eğer birisinin tüm cümleyi tekrar etmesini isterse son kelimeyi yakalayamadım ancak te yapılan bir araştırmada i̇ngilizce vikipedideki doğal bilgiler üzerine girdilerin doğruluğu britannica ansiklopedisi ile aynı seviyede bulunmuştur ve onlar sanki aynı şeyi satın almak istiyorum ve onlara sattığını söyledim bana sattın bunu almam konuşmayla ilgilenmiyorsan beni sattın kullanıcılar izleme listelerine ilgilerini çeken maddeleri eklerler bu sayede bu maddelerin gelişimini izleyebilirler çok egoist bir rüyaydı anne ne dediğini bilmiyorsun bu rüya benim burada evde yediğim türden daha büyük yiyeceğe ihtiyacım olduğunu anlamamı sağladı altından yapılan ekmekten nasıl gidiyor hayır hiç de değil bu başlamak için en iyi videodur bu yüzden  dakika içinde ingilizce  cümle yapalım maddelerin yazarlarının yazdıkları konu hakkında uzmanlık ya da yeterlilik sahibi olması gerekmez ve kullanıcılar yazdıklarının acımasızca değiştirilmesi ve keyfi olarak dağıtılması hakkında uyarılmaktadır sinemaya gitmeye ne dersin ancak bir iş yakalayana kadar deneyim elde edemezsiniz joseph heller tarafından aynı adlı meşhur kitabı catchde ikinci dünya savaşı sırasında askerler için geçerli olan bazı çelişkili kuralları anlatırken icat edilmiştir bu yanıyor bu da kaliforniyada birçok amerikalının söylediği inanılmaz anlamına geliyor ne yaptın hayatında neler oluyor diye soruyorsun salladın mı rock  pedi ise antik yunan medeniyetinde kapsamlı kültürel eğitim sistemi anlamına gelen paideia kelimesinden gelir mediawiki yazılımı kullanılarak hazırlanmaktadır uyandım burada gülümsüyor ve kıkırdıyordu tatlım bana ne hakkında rüya gördüğünü söyle bir süredir ingilizce öğreniyorsan ve öğrenmeye devam etmek istiyorsan ifadeler bunun yanı sıra ortaklaşa çalışma bazen değiştirme savaşlarına birçok kişi birbirlerinin yazdıklarını onaylamadıkları için değiştirmekte ve çıkarmaktadır ve editörlerin maddenin içeriği üzerinde uzlaşamamasına sebebiyet verir biri gerçekten iyi çalışmıyorsa rock yaparsınız ve daha çok çalışmasını istiyorsanız fazladan bir mil gitmeniz gerektiğini söyleyebilirsiniz bu da daha çok çalışmanız gibi fazladan bir mil gitmeniz gerektiği anlamına gelir ve diğer kişinin ne dediğini anlamadınız ve bir soru işaretiyle söylediğinizi söyleyebilirsiniz kelimeyi doğru şekilde googlea gidin ve kelimeyi yazın ve sağ üstteki aramada o hoparlöre tıklanan küçük bir hoparlör simgesi göreceksiniz bu lisans ayrıca yeniden katılım gösterenlerin aynı lisans ile değişiklikler yapmasına izin verir  vikipedinin güvenilebilirliği ve doğruluğu üzerine tartışmalar mevcuttur ve site yoğun olarak vandalizme maruz kalmaktadır iletişimde kalın para ama o banka kredisini alamazsınız bankaya yeterli paranız olduğunu kanıtlamazsanız bir dahaki sefere zor bir durumda sıkışıp kalırsınız bu yüzden bir dahaki sefere haberlerde korkunç bir eylem duyduğunuzda bunu unutmayın bilgiler tartışılır değerlendirilir ve içeriğe eklenmesi değiştirilmesi veya vikisözlük gibi kardeş bir projeye transfer olması üzerine kararlar alınır zavallı nergis annenin kızı ve nasıl olduğu hakkında çok endişelendiğini bir düşünün wikimedia vakfının da yayımladığı verilere göre editörlerin i erkek ve si beyazdır hey arkadaşlar bu videoda kanalıma hoş geldiniz her dil vikipedisine o dili bilen herkesin katkıda bulunabilmesi mümkündür belki sen telefonda konuşuyordun ve biri seninle konuşuyordu ve sen gibisin eğer gerçekten istediğin buysa seni eve götürürüm terrence ağlayarak mutsuz olur\n"
     ]
    }
   ],
   "source": [
    "print(lang_corpus['Turkish'])"
   ]
  },
  {
   "cell_type": "code",
   "execution_count": 27,
   "metadata": {},
   "outputs": [
    {
     "name": "stdout",
     "output_type": "stream",
     "text": [
      " its main figures were bomis ceo jimmy wales and larry sanger editorinchief for nupedia and later wikipedia sanger coined its name as a portmanteau of wiki and encyclopedia  wikipedia has a volunteer response team that uses the otrs system to handle queries without having to reveal the identities of the involved parties complete bans from wikipedia are generally limited to instances of impersonation and antisocial behavior for example a microsystem can be a stone and all the life under it it also has nonsexual photographs of nude children  though the various language editions are held to global policies such as neutral point of view they diverge on some points of policy and practice most notably on whether images that are not licensed freely may be used under a claim of fair use  percent of the earths surface is covered by saltwater oceans apologizing  though the english wikipedia reached three million articles in august  the growth of the edition in terms of the numbers of new articles and of contributors appears to have peaked around early  ill be fine  reinforcement learning algorithms do not assume knowledge of an exact mathematical model of the mdp and are used when exact models are infeasible however a vitalist vision of nature closer to the presocratic one got reborn at the same time especially after charles darwin  wikipedia does not require that its editors and contributors provide identification do you mind if i jump in here the first of these was the  bbc domesday project which included text entered on bbc micro computers and photographs from more than a million contributors in the uk and covered the geography art and culture of the uk a pond is a body of standing water either natural or manmade that is usually smaller than a lake weather can have both beneficial and harmful effects lih fears for wikipedias longterm future while brown fears problems with wikipedia will remain and rival encyclopedias will not replace it so if you are just about to embark on your journey in supervised feature learning features are learned using labeled input data nature can refer to the phenomena of the physical world and also to life in general however these rates are ratios that fail to reveal their numerators and denominators  because the two licenses gfdl and creative commons were incompatible in november  following the request of the project the free software foundation fsf released a new version of the gfdl designed specifically to allow wikipedia to relicense its content to cc bysa by august   another example of catch is you need a bank loan because you dont have enough the english wikipedia passed the mark of two million articles on september   making it the largest encyclopedia ever assembled surpassing the yongle encyclopedia made during the ming dynasty in  which had held the record for almost  years  the perceived toxic attitudes and tolerance of violent and abusive language are also reasons put forth for the gender gap in wikipedia editors  bureaucrats name new administrators solely upon the recommendations from the community  wikipedias open structure inherently makes it an easy target for internet trolls spammers and various forms of paid advocacy seen as counterproductive to the maintenance of a neutral and verifiable online encyclopedia sparse dictionary learning has also been applied in image denoising to an englishspeaking country you can totally use this  the domains wikipediacom and wikipediaorg were registered on january   and january   respectively and wikipedia was launched on january   as a single englishlanguage edition at wwwwikipediacom and announced by sanger on the nupedia mailing list  this method of evaluating contributions was later disputed by aaron swartz who noted that several articles he sampled had large portions of their content measured by number of characters contributed by users with low edit counts  a  article in the columbia journalism review identified wikipedias page protection policies as perhaps the most important means at wikipedias disposal to regulate its market of ideas im afraid i disagree she ran to hug her mother who was sitting in the house sad nor sister o my sweet daughter i thought id never see you again  in  researchers at carnegie mellon university found that the quality of a wikipedia article would suffer rather than gain from adding more writers when the article lacked appropriate explicit or implicit coordination come on the golden bread once upon a time in a tiny village there lived a woman named marion  wales is credited with defining the goal of making a publicly editable encyclopedia while sanger is credited with the strategy of using a wiki to reach that goal  on earth it is found mostly in oceans and other large bodies of water with  of water below ground in aquifers and  in the air as vapor clouds and precipitation  as of  deep learning has become the dominant approach for much ongoing work in the field of machine learning an early tradition of landscape art began in china during the tang dynasty – these include muscles which are able to contract and control locomotion and a nervous system which sends and processes signals due to the increasing popularity of wikipedia some editions including the english version have introduced editing restrictions for certain cases the geology of an area evolves through time as rock units are deposited and inserted and deformational processes change their shapes and locations artificial neural networks have been used on a variety of tasks including computer vision speech recognition machine translation social network filtering playing board and video games and medical diagnosis  nicholas carr wrote a  essay the amorality of web  that criticized websites with usergenerated content like wikipedia for possibly leading to professional and in his view superior content producers going out of business because free trumps quality all the time there are two kinds of time complexity results thanks a million  types of supervised learning algorithms include active learning classification and regression becoming a wikipedia insider involves nontrivial costs the contributor is expected to learn wikipediaspecific technological codes submit to a sometimes convoluted dispute resolution process and learn a baffling culture rich with injokes and insider references  because of this universities throughout the united states tried to encourage females to become wikipedia contributors sorry i wasnt listening seigenthaler was falsely presented as a suspect in the assassination of john f terrestrial weather occurs almost exclusively in the lower part of the atmosphere and serves as a convective system for redistributing heat notably the results of a wikimedia foundation survey in  showed that only  percent of wikipedia editors were female  rulebased machine learning is a general term for any machine learning method that identifies learns or evolves rules to store manipulate or apply knowledge please accept my apologies and said that he wanted to marry me he had come in a golden carriage and he was dressed from top to bottom and gold as well what a silly dream outer space also simply called space refers to the relatively empty regions of the universe outside the atmospheres of celestial bodies needs update as of december update there were  in florida and  in amsterdam the site also includes sexual content such as images and videos of masturbation and ejaculation illustrations of zoophilia and photos from hardcore pornographic films in its articles  the total number of species is in rapid decline in common ann implementations the signal at a connection between artificial neurons is a real number and the output of each artificial neuron is computed by some nonlinear function of the sum of its inputs opinions  wikipedias content has also been used in academic studies books conferences and court cases over time wikipedia has developed a semiformal dispute resolution process to assist in such circumstances before that paintings had been primarily of religious scenes or of human beings the method is strongly nphard and difficult to solve approximately somebodys busy you can always say sorry to bother you and then you can go ahead and ask even these rules are stored in wiki form and wikipedia editors write and revise the websites policies and guidelines sparse dictionary learning has been applied in several contexts  machine learning and data mining often employ the same methods and overlap significantly but while machine learning focuses on prediction based on known properties learned from the training data data mining focuses on the discovery of previously unknown properties in the data this is the analysis step of knowledge discovery in databases given the status of the ongoing holocene extinction streams play an important corridor role in connecting fragmented habitats and thus in conserving biodiversity usually when training a machine learning model one needs to collect a large representative sample of data from a training set  seigenthaler the founding editorial director of usa today and founder of the freedom forum first amendment center at vanderbilt university called wikipedia cofounder jimmy wales and asked whether he had any way of knowing who contributed the misinformation a new version of the gfdl automatically covers wikipedia contents you ask what have you been up to so what was going on in your life ill be right with you  in  the level of contributions were reported by bloomberg news as being at  million annually updating the jaffe estimates for the higher level of support to between  million and  million annually the caa selflearning algorithm computes in a crossbar fashion both decisions about actions and emotions feelings about consequence situations beats me however he also cautions that errors are frequently found on internet sites and that academics and experts must be vigilant in correcting them well you can just answer cant complain everything is really cool  it is seen as a part of artificial intelligence you can do it you can pass the toefl you can pass the gmat you will get it come on agriculture was first adopted around the th millennium bce similarly many of these universities including yale and brown gave college credit to students who create or edit an article relating to women in science or technology with the ozone layer absorbing harmful ultraviolet radiation life colonized the surface of earth  the article remained uncorrected for four months im not at liberty to say but was heartbroken for everything there was inedible she soon started to cry i dont want this but the food is really good in july  wikipedia was the focus of a minute documentary on bbc radio  which argued that with increased usage and awareness the number of references to wikipedia in popular culture is such that the word is one of a select group of stcentury nouns that are so familiar google facebook youtube that they no longer need explanation a study published by plos one in  also estimated the share of contributions to different editions of wikipedia from different regions of the world needs update further statistics based on a publicly available month wikipedia access trace are available the field of geology encompasses the study of the composition structure physical properties dynamics and history of earth materials and the processes by which they are formed moved and changed the backpropagated value secondary reinforcement is the emotion toward the consequence situation i confused you so let me give you some examples a catch situation is when you dont get a job without having work experience thank you anyway it doesnt matter but thank you anyway if the complexity of the model is increased in response then the training error decreases the authors focused on behavioral changes of the encyclopedias administrators after assuming the post writing that systematic bias occurred after the fact this approach tries to model the way the human brain processes light and sound into vision and hearing  wikipedia is also supported by many organizations and groups that are affiliated with the wikimedia foundation but independentlyrun called wikimedia movement affiliates im deluged with assignments smart word number two is catch now im sure youve heard this word before catch means an impossible situation in which you cant do one thing unless youve done the other and you cant do the other because you havent done the first have the caa exists in two environments one is the behavioral environment where it behaves and the other is the genetic environment wherefrom it initially and only once receives initial emotions about situations to be encountered in the behavioral environment  in addition to logistic growth in the number of its articles wikipedia has steadily gained status as a general reference website since its inception in  these laws have been employed to produce cosmological models that successfully explain the structure and the evolution of the universe we can observe within the solar system it is third closest to the sun it is the largest terrestrial planet and the fifth largest overall the latter is often extended by regularization mathematics methods to mitigate overfitting and bias as in ridge regression \n",
      "their reproduction is both rapid and profuse  on march   julie beck writing for the atlantic magazine in an article titled doctors  source for healthcare information wikipedia stated that fifty percent of physicians look up conditions on the wikipedia site and some are editing articles themselves to improve the quality of available information  systemic bias on wikipedia may follow that of culture generallyvague for example favoring certain nationalities ethnicities or majority religions after the initial sequence of rocks has been deposited the rock units can be deformed andor metamorphosed you can say sorry to bother you you know you see money but you wouldnt get that bank loan unless you prove to the bank that you have enough money so next time youre stuck in a tricky situation remember i give you that secret tip to sound very fluent i want to remind you that in yeah of course  an article is not considered to be owned by its creator or any other editor nor by the subject of the article after receiving the genome species vector from the genetic environment the caa learns a goalseeking behavior in an environment that contains both desirable and undesirable situations  at the  level of contributions for wikimedia presently documented as  million dollars the computed budget level recommended by jaffe and caballero for reinvestment into internal research and development is between  million and  million dollars annually swamp is a piece of wetland and if somebody steps in the wrong place on a swamp they could easily drown and the verb form of swamp means to sink so heres how you can use this word the bias–variance decomposition is one way to quantify generalization error based on the concept of strong rules rakesh agrawal tomasz imieliński and arun swami introduced association rules for discovering regularities between products in largescale transaction data recorded by pointofsale pos systems in supermarkets  journalists oliver kamm and edwin black alleged in  and  respectively that articles are dominated by the loudest and most persistent voices usually by a group with an ax to grind on the topic in  columnist and journalist edwin black described wikipedia as being a mixture of truth halftruth and some falsehoods  nupedia and wikipedia coexisted until the formers servers were taken down permanently in  and its text was incorporated into wikipedia the site currently uses lucene search needs update which is written in java and based on lucene library  however the fossil record retains evidence of many of these older species its nothing but no in a fix means to be in a troublesome situation other words that you can use instead of in a fix are im in a soup or im in a mess or im in a spot of bother or just im in a spot smart word number  is flummox flummox means to confuse someone they are heterotrophic generally digesting food in an internal chamber which separates them from plants and algae what do you think about that became one of the questions frequently asked on the project how about you in addition to performing linear classification svms can efficiently perform a nonlinear classification using what is called the kernel trick implicitly mapping their inputs into highdimensional feature spaces ill see you later learning classifier systems lcs are a family of rulebased machine learning algorithms that combine a discovery component typically a genetic algorithm with a learning component performing either supervised learning reinforcement learning or unsupervised learning the algorithms therefore learn from test data that has not been labeled classified or categorized  responsible collection of data and documentation of algorithmic rules used by a system thus is a critical part of machine learning  openai estimated the hardware compute used in the largest deep learning projects from alexnet  to alphazero  and found a fold increase in the amount of compute required with a doublingtime trendline of  months although earth is the only body within the solar system known to support life evidence suggests that in the distant past the planet mars possessed bodies of liquid water on the surface according to their relationship to human life  one controversial contributor sverker johansson sv creating articles with his bot was reported to create up to  articles on the swedish wikipedia on certain days  it was met with much rejection and criticism and was described as slow and buggy  most university lecturers discourage students from citing any encyclopedia in academic work preferring primary sources some specifically prohibit wikipedia citations  although machine learning has been transformative in some fields machinelearning programs often fail to deliver expected results  the earths atmosphere is a key factor in sustaining the ecosystem vandals can introduce irrelevant formatting modify page semantics such as the pages title or categorization manipulate the underlying code of an article or use images disruptively also without the redistributions of heat energy by the ocean currents and atmosphere the tropics would be much hotter and the polar regions much colder  in  a report was given on using teaching strategies so that a neural network learns to recognize  characters  letters  digits and  special symbols from a computer terminal image files varies across language editions  editathons have been held to encourage female editors and increase the coverage of womens topics she thought herself too great to do any work many suitors came to ask for narcissus hand in marriage  in july  bbc radio  broadcast a comedy series called bigipedia which was set on a website which was a parody of wikipedia one is swamped swamped means drowning or flooding but swamped is often used in the context of work like im swamped with work i have too much work to do ive been swamped with work this entire week ive barely had time to breathe now lets look at the root of this word you were saying if somebody got a job of his dreams of whatever you can say lucky you or somebody got into the university of their dreams like lucky you this is a way of congratulating the person lucky you or like just emphasizing that hes lucky lucky you another way to say that youre really angry is to say i freaked out like i was so angry i freaked out this is super angry mediawiki is licensed under the gnu general public license gpl and it is used by all wikimedia projects as well as many other wiki projects  the word nature is borrowed from the old french nature and is derived from the latin word natura or essential qualities innate disposition and in ancient times literally meant birth  this incident led to policy changes at wikipedia specifically targeted at tightening up the verifiability of biographical articles of living people one of the most important areas—automatic detection of vandalism and data quality assessment in wikipedia after some editors who volunteer to maintain the site argued that the decision to delete had been made hastily wales voluntarily gave up some of the powers he had held up to that time as part of his cofounder status i couldnt care less if somebodys asking you something and this is a really easy decision for you like somebody tells you take my  million dollars and you say this is a nobrainer  this concept of a global ocean as a continuous body of water with relatively free interchange among its parts is of fundamental importance to oceanography what are your views on this various types of models have been used and researched for machine learning systems in this video i will give you  common and very useful sentences that you can use in conversation it has applications in ranking recommendation systems visual identity tracking face verification and speaker verification note  on most articles anyone can undo others changes by clicking a link on the articles history page  a working group led by peter stone formed as a part of the stanfordbased project one hundred year study on artificial intelligence in its report called wikipedia the bestknown example of crowdsourcing  that far exceeds traditionallycompiled information sources such as encyclopedias and dictionaries in scale and depth different clustering techniques make different assumptions on the structure of the data often defined by some similarity metric and evaluated for example by internal compactness or the similarity between members of the same cluster and separation the difference between clusters  others suggest that the growth is flattening naturally because articles that could be called lowhanging fruit—topics that clearly merit an article—have already been created and built up extensively  in february  an article in the harvard crimson newspaper reported that a few of the professors at harvard university were including wikipedia articles in their syllabi although without realizing the articles might change  in contrast the trend analysis published in the economist presents wikipedia in other languages nonenglish wikipedia as successful in retaining their active editors on a renewable and sustained basis with their numbers remaining relatively constant at approximately  what do you say we go to the movies in january  a german court ordered the german wikipedia shut down within germany because it stated the full name of boris floricic aka tron a deceased hacker  one privacy concern in the case of wikipedia is the right of a private citizen to remain a private citizen rather than a public figure in the eyes of the law hello and welcome could you tell me what this word means they attempted to approach the problem with various symbolic methods as well as what was then termed neural networks these were mostly perceptrons and other models that were later found to be reinventions of the generalized linear models of statistics  the foundations  irs form  shows revenue of  million and expenses of almost  million with assets of  million and liabilities of about  million  in the november   issue of new york magazine katherine ward stated wikipedia the sixthmostused website is facing an internal crisis would you mind lending me some money i screwed up in classification the problem is to determine the class to which a previously unseen training example belongs its most prominent climatic features are its two large polar regions two relatively narrow temperate zones and a wide equatorial tropical to subtropical region id be glad to help  these issues among others had been parodied since the first decade of wikipedia notably by stephen colbert on the colbert report  following the departure of tretikov from wikipedia due to issues concerning the use of the superprotection feature which some language versions of wikipedia have adopted katherine maher became the third executive director of the wikimedia foundation in june  fingers crossed  the pew internet and american life project found that one third of us internet users consulted wikipedia but if the hypothesis is too complex then the model is subject to overfitting and generalization will be poorer  a  article in education next journal concluded that as a resource about controversial topics wikipedia is subject to manipulation and spin of a huge and magnificent golden castle narcisa was amazed at all the beauty she saw i knew i deserve so many riches i knew youd like it anything you want you will find here from the prettiest of dresses to the tastiest of foods all of it in my palace well speaking of food im really hungry after that ride im starving can i have any of that tasty food of course here meat smelly melissa she will get you whatever you want ive heard so much about you you poor dear youre hungry arent you come lets go to the dining table and ill get you some food oh thank you they went into the dining room and there on the table was the most astounding food narcisa had ever seen amazing thats because it is the jams are made the web servers deliver pages as requested performing page rendering for all the language editions of wikipedia  it is a learning with no external rewards and no external teacher advice this is a nobrainer means its a really easy decision for you if youve done something wrong and you admit it you can say i screwed up yes guys law wikipedia page viewed  times today great thanks as dna is readily damaged by uv light this serves to protect life at the surface suggestions roy rosenzweig a history professor stated that american national biography online outperformed wikipedia in terms of its clear and engaging prose which he said was an important aspect of good historical writing economist tyler cowen wrote if i had to guess whether wikipedia or the median refereed journal article on economics was more likely to be true after a not so long think i would opt for wikipedia its actually   pm right now  nature and wildness have been important subjects in various eras of world history that would be great data mining is a related field of study focusing on exploratory data analysis through unsupervised learning  a particularly contentious article may be locked so that only administrators are able to make changes  it was discontinued in february  colour versus color or points of view let me think for a moment encyclopædia britannica which were unable to compete with a product that is essentially free outer space is used to distinguish it from airspace and terrestrial locations the field changed its goal from achieving artificial intelligence to tackling solvable problems of a practical nature  in may  wikimedia foundation named lila tretikov as its second executive director taking over for sue gardner though generally recognized as several separate oceans these waters comprise one global interconnected body of salt water often referred to as the world ocean or global ocean he is so poised and suave especially in front of the ladies or barack obama is so suave and polished now remember when youre at a party next time and you see this person whos so  as a consequence of the open structure wikipedia makes no guarantee of validity of its content since no one is ultimately responsible for any claims appearing in it  in january   wikipedia an asteroid was named after wikipedia in october  wikipedia was honored with the wikipedia monument and in july   of the  page volumes of wikipedia became available as print wikipedia its not worth it many names for small rivers are specific to geographic location one example is burn in scotland and northeast england he encountered during his travels or in an interview when she was asked why should we hire you she looked completely flummoxed so next time if you get confused on any questions for example in an examination then you  wikipedia has been described as harboring a battleground culture of sexism and harassment  machine learning systems used for criminal risk assessment have been found to be biased against black people there is no room for doubt in america if you want to sms somebody or send them a message you say text to text so ill text you means i will send you a message through whatsapp or a telegram or messenger of whatever using ill text you again to cheer somebody up to tell them to not be upset you can say its not worth it like why are you crying similarly investigators sometimes report the false positive rate fpr as well as the false negative rate fnr oh dear one night when she was sleeping her mother sat at her side watching her  decision tree learning uses a decision tree as a predictive model to go from observations about an item represented in the branches to conclusions about the items target value represented in the leaves in the early days of ai as an academic discipline some researchers were interested in having machines learn from data im not interested in spite of this progress however the fate of human civilization remains closely linked to changes in the environment  in  microsoft tested a chatbot that learned from twitter and it quickly picked up racist and sexist language it is not rare for articles strongly related to a particular language not to have counterparts in another edition  in  it was reported that a machine learning algorithm had been applied in the field of art history to study fine art paintings and that it may have revealed previously unrecognized influences among artists  leo breiman distinguished two statistical modeling paradigms data model and algorithmic model wherein algorithmic model means more or less the machine learning algorithms like random forest simonite alleges some wikipedians use the labyrinthine rules and guidelines to dominate others and those editors have a vested interest in keeping the status quo im really sorry about that  several languages of wikipedia also maintain a reference desk where volunteers answer questions from the general public outer space is sparsely filled with several dozen types of organic molecules discovered to date by microwave spectroscopy blackbody radiation left over from the big bang and the origin of the universe and cosmic rays which include ionized atomic nuclei and various subatomic particles  conditions on the other terrestrial planets mercury and venus appear to be too harsh to support life as we know it if you want to thank somebody you can say its very kind of you thank you so much for doing that thats very kind of you it is very kind of you if somebody the situation is you didnt get something and then you get an extra effect and you get it lawrence found the articles accurate but not very readable and thought that wikipedias lack of readability to noncollege readers may reflect its varied origins and haphazard editing the most obvious economic effect of wikipedia has been the death of commercial encyclopedias especially the printed versions eg i ask and then i say in the end the presence of politically religiously and pornographically sensitive materials in wikipedia has led to the censorship of wikipedia by national authorities in china and pakistan amongst other countries  wales then announced that wikipedia would not display advertisements and changed wikipedias domain from wikipediacom to wikipediaorg not much  in june  former president of the american library association michael gorman condemned wikipedia along with google stating that academics who endorse the use of wikipedia are the intellectual equivalent of a dietitian who recommends a steady diet of big macs with everything the weight increases or decreases the strength of the signal at a connection we are really pushing toward more transparency  we are reinforcing that paid advocacy is not welcome heilman who has participated in that process before says less than one percent of wikipedias medical articles have passed it is not known if titans lakes are fed by rivers though titans surface is carved by numerous river beds to increase speed further rendered pages are cached in a distributed memory cache until invalidated allowing page rendering to be skipped entirely for most common page accesses  access to wikipedia from mobile phones was possible as early as  through the wireless application protocol wap via the wapedia service im free all weekend lets do something law students have been assigned to write wikipedia articles as an exercise in clear and succinct writing for an uninitiated audience in december  access to the wikipedia article virgin killer was blocked for four days by most internet service providers in the united kingdom after the internet watch foundation iwf decided the album cover was a potentially illegal indecent image and added the articles url to a blacklist it supplies to british internet service providers although wikipedia content has been accessible through the mobile web since july  the new york times on february   quoted erik möller deputy director of the wikimedia foundation stating that the transition of internet traffic from desktops to mobile devices was significant and a cause for concern and worry the arbitration committee presides over the ultimate dispute resolution process now later on mellie and terry waved goodbye to their old friend and went away smiling to each other secretively that night both mother and daughter you can just say no worries no not at all im sorry  it was founded on march   under the ownership of bomis a web portal company characterizing the generalization of various learning algorithms is an active topic of current research especially for deep learning algorithms  some such as e o wilson of harvard university predict that human destruction of the biosphere could cause the extinction of onehalf of all species in the next  years i honestly dont think its going to work it was initially an englishlanguage encyclopedia but versions in other languages were quickly developed it reported that the proportion of the edits made from north america was  for the english wikipedia and  for the simple english wikipedia the wikipedia project sought the switch to the creative commons id love to do something but i cant  the origin of life on earth is not well understood but it is known to have occurred at least  billion years ago during the hadean or archean eons on a primordial earth that had a substantially different environment than is found at present to answer a single question on the test or the obtuse man had a hard time understanding even basic instructions now suppose in your situation in daily life your boyfriend or your girlfriend is angry with you and you dont know why so you can i freaked out another phrase that native speakers use is good for you and this could be both positive and negative when you say i got promoted and if they say good for you like congratulations and sometimes if you say like im leaving this place the combination of a high mutation rate and a horizontal gene transfer ability makes them highly adaptable and able to survive in new environments including outer space ranging from food production to energy nature influences economic wealth creative commons cc bysa are shared across language editions via wikimedia commons repository a project operated by the wikimedia foundation  a  study found that wikipedians were less agreeable open and conscientious than others although a later commentary pointed out serious flaws including that the data showed higher openness and that the differences with the control group and the samples were small examples include dictionary learning independent component analysis autoencoders matrix factorization and various forms of clustering  three broad categories of anomaly detection techniques exist case youre looking for smart words to use on a telephone call then im putting a link to a video cant complain next phrase somebody tells you something and you havent really mentioned it in the conversation like they guess somehow that you have a new job and you ask him  in the seigenthaler biography incident an anonymous editor introduced false information into the biography of american political figure john seigenthaler in may  probabilistic systems were plagued by theoretical and practical problems of data acquisition and representation  continents formed then broke up and reformed as the surface of earth reshaped over hundreds of millions of years occasionally combining to make a supercontinent water covers  of the earths surface your friends im feeling very sluggish  there are many applications for machine learning including in  the mediaservices provider netflix held the first netflix prize competition to find a program to better predict user preferences and improve the accuracy of its existing cinematch movie recommendation algorithm by at least  is a very french way of saying meeting or date for example i have a rendezvous with my friends over lunch on saturday or im planning to rendezvous with my friends at the mall for movies rendezvous can be used both as a noun or as a verb for example  machine learning has been used as a strategy to update the evidence related to systematic review and increased reviewer burden related to the growth of biomedical literature sparse dictionary learning is a feature learning method where a training example is represented as a linear combination of basis functions and is assumed to be a sparse matrix  the human ecosystem concept is based on the humannature dichotomy and the idea that all species are ecologically dependent on each other as well as with the abiotic constituents of their biotope although disputes usually arise from a disagreement between two opposing views on how an article should read the arbitration committee explicitly refuses to directly rule on the specific view that should be adopted all lakes are temporary over geologic time scales as they will slowly fill in with sediments or spill out of the basin containing them i cant thank you enough originally wikipedia ran on usemodwiki written in perl by clifford adams phase i which initially required camelcase for article hyperlinks the present double bracket style was incorporated later could you pass me the salt please as a result any article could contain inaccuracies such as errors ideological biases and nonsensical or irrelevant text  cells within colonies became increasingly specialized resulting in true multicellular organisms your friends that is this stupendous channel for students and some other words that you can use instead of stupendous are incredible fantastic or exceptionally good ok so before we continue with the balanced five words on this video remember to put a comment under this video directly after the posted web interview the representatives stated that wikimedia would be applying an allinclusive approach to accommodate as many mobile access systems as possible in its efforts for expanding general mobile access including blackberry and the windows phone system making market share a secondary issue  the number of readers of wikipedia worldwide reached  million at the end of  was trying to help you but couldnt reach the result you can say wellmannered the word suave has several different origins but one very interesting  origin of the word is which means pleasant or sweet tasting example biases intrinsically may include an overemphasis on topics such as pop culture technology and current events there is also some gas plasma and dust and small meteors id rather you didnt  across  language editions of wikipedia historical articles and sections are generally eurocentric and focused on recent events  in addition to overall accuracy investigators frequently report sensitivity and specificity meaning true positive rate tpr and true negative rate tnr respectively  editors who do not log in are in some sense secondclass citizens on wikipedia as participants are accredited by members of the wiki community who have a vested interest in preserving the quality of the work product on the basis of their ongoing participation but the contribution histories of anonymous unregistered editors recognized only by their ip addresses cannot be attributed to a particular editor with certainty another way to say the very same thing you can say step up your game like work harder work better step up your game  the wikimedia foundation is not a licensor of content but merely a hosting service for the contributors and licensors of the wikipedia the content of wikipedia has been published in many forms both online and offline outside the wikipedia website in addition to market basket analysis association rules are employed today in application areas including web usage mining intrusion detection continuous production and bioinformatics hows narcissism now marian told them both everything that had happened and shes changed so much from that time deformation typically occurs as a result of horizontal shortening horizontal extension or sidetoside strikeslip motion sorry i cant right now it is intended to identify strong rules discovered in databases using some measure of interestingness in december  john julius norwich stated in a letter published in the times newspaper that as a historian he resorted to wikipedia at least a dozen times a day and had never yet caught it out in the united states a stream is classified as a watercourse less than  feet  metres wide  following the complaint by sanger wales deleted sexual images without consulting the community and get these admiring looks from your friends other words that you can use in place of catch are paradox or dilemma smart word however realworld data such as images video and sensory data has not yielded to attempts to algorithmically define specific features sometimes a river is said to be larger than a creek but this is not always the case due to vagueness in the language \n",
      "in response to paid advocacy editing and undisclosed editing issues wikipedia was reported in an article in the wall street journal to have strengthened its rules and laws against undisclosed editing l woke up she was all smiles and giggles here sweetheart tell me what did you dream about for example gboard uses federated machine learning to train search query prediction models on users mobile phones without having to send individual searches back to google sounds good to me would you like me to give yo a ride home for example topic modeling dimensionality reduction or meta learning no im good thanks maher stated regarding the harassment issue that it establishes a sense within the community that this is a priority  and that correction requires that it has to be more than words earth has evolved through geological and biological processes that have left traces of the original conditions in july  phase iii wikipedia shifted to the thirdgeneration software mediawiki originally written by lee daniel crocker semisupervised learning falls between unsupervised learning without any labeled training data and supervised learning with completely labeled training data in april  a lucene extension was added to mediawikis builtin search and wikipedia switched from mysql to lucene for searching  classification algorithms are used when the outputs are restricted to a limited set of values and regression algorithms are used when the outputs may have any numerical value within a range  editors of traditional reference works such as the encyclopædia britannica have questioned the projects utility and status as an encyclopedia  according to the rules on the english wikipedia each entry in wikipedia must be about a topic that is encyclopedic and is not a dictionary entry or dictionarystyle instead of responding to feedback unsupervised learning algorithms identify commonalities in the data and react based on the presence or absence of such commonalities in each new piece of data and hear the pronunciation once or twice making plans this made it a poor choice for a general reference work for example the gfdl requires the reprints of materials from wikipedia to come with a full copy of the gfdl text  featuring no advertisements it is hosted by the wikimedia foundation an american nonprofit organization funded primarily through donations how about having pizza for dinner tonight sorry to interrupt you  some fields of science see nature as matter in motion obeying certain laws of nature which science seeks to understand  machine learning algorithms are used in a wide variety of applications such as email filtering and computer vision where it is difficult or unfeasible to develop conventional algorithms to perform the needed tasks there exists a highly complex feedback loop between the use of advanced technology and changes to the environment that are only slowly becoming understood of rubies the salads of emeralds and the bread over there is made of gold golden bread how lovely this jam will look and taste lovely with the bread she took a slice with the tree models where the target variable can take a discrete set of values are called classification trees in these tree structures leaves represent class labels and branches represent conjunctions of features that lead to those class labels  the latest version for ios was released on april   to similar reviews  attempts to use machine learning in healthcare with the ibm watson system failed to deliver even after years of time and billions of dollars invested  a topic should also meet wikipedias standards of notability which generally means that the topic must have been covered in mainstream media or major academic journal sources that are independent of the articles subject no thank you anyway and another phrase that i use in my email sometimes when i havent asked for a person would you mind repeating that  in data mining anomaly detection also known as outlier detection is the identification of rare items events or observations which raise suspicions by differing significantly from the majority of the data  in  daniel tosh encouraged viewers of his show tosh to visit the shows wikipedia article and edit it at will  a study of wikipedia articles on cancer was conducted in  by yaacov lawrence of the kimmel cancer center at thomas jefferson university phrase number two when you havent seen somebody for a while you tell him a long time no see so that means that you havent seen this person maybe weeks or months a long time no see phrase number the outer surface is divided into several gradually migrating tectonic plates comedian stephen colbert has parodied or referenced wikipedia on numerous episodes of his show the colbert report and coined the related term wikiality meaning together we can create a reality that we all agree on—the reality we just agreed on this also increases efficiency by decentralizing the training process to many devices  by  expert systems had come to dominate ai and statistics was out of favor doll and the most amusing part is she loved herself to no ends narcisa would you inductive programming is a related field that considers any kind of programming language for representing hypotheses and not only logic programming such as functional programs the system is driven by the interaction between cognition and emotion know if somebody tells a cool joke you can tell thats a good one others have the view that not all of ml is part of ai where only an intelligent subset of ml is part of ai the wikipedia article about virgin killer—a  album from the german rock band scorpions—features a picture of the albums original cover which depicts a naked prepubescent girl  machine learning approaches are traditionally divided into three broad categories depending on the nature of the signal or feedback available to the learning system other approaches have been developed which dont fit neatly into this threefold categorisation and sometimes more than one is used by the same machine learning system sorry i didnt catch that in the mathematical model each training example is represented by an array or vector sometimes called a feature vector and the training data is represented by a matrix  each article and each user of wikipedia has an associated talk page  as a scientific endeavor machine learning grew out of the quest for artificial intelligence  wikipedias original medium was for users to read and edit content using any standard web browser through a fixed internet connection this is an example of how human interaction with nature can blur the boundary of what is considered nature  wikipedia has also been used as a source in journalism often without attribution and several reporters have been dismissed for plagiarizing from wikipedia  in a may   followup article in the atlantic titled can wikipedia ever be a definitive medical text this pattern does not adhere to the common statistical definition of an outlier as a rare object and many outlier detection methods in particular unsupervised algorithms will fail on such data unless it has been aggregated appropriately how is it going  several million years ago a species of small african ape gained the ability to stand upright can i stop you there for a moment on february   the injunction against wikimedia deutschland was overturned with the court rejecting the notion that trons right to privacy or that of his parents was being violated on a later episode he commented on the edits to the article most of them offensive which had been made by the audience and had prompted the article to be locked from editing for example the algorithms could be designed to provide patients with unnecessary tests or medication in which the algorithms proprietary owners hold stakes three if you want to ask you what have you been doing its you know in april  wikipedia and its sister projects held a communitywide referendum which decided the switch in june   in  the wall street journal wrote about the firm rebellion research and their use of machine learning to predict the financial crisis a river is a natural watercourse usually freshwater flowing towards an ocean a lake a sea or another river one principal concern cited by the new york times for the worry is for wikipedia to effectively address attrition issues with the number of editors which the online encyclopedia attracts to edit and maintain its content in a mobile access environment  jimmy wales stated in  that it turns out over  of all the edits are done by just  of the users   people  and in fact the most active  which is  people have done  of all the edits than usual to look a bit tired and lacking agreeing and disagreeing and youre like whats going on in here like what are you doing here  ocean currents are another important factor in determining climate particularly the major underwater thermohaline circulation which distributes heat energy from the equatorial oceans to the polar regions was very scared dont worry my dear all of this will soon be over just as he said this the carriage went through another portal and reached the driveway  this practice is also criticized as creating a competitive conflict based editing culture associated with traditional masculine gender roles which contributes to the gender bias on wikipedia narcis at home in the carriage she started to think deeply about the choices she had made when she reached home  water is a chemical substance that is composed of hydrogen and oxygen ho and is vital for all known forms of life some of this debris reenters the atmosphere periodically  viewers of the show tried to add the episodes mention of the page as a section of the actual wikipedia article on negotiation but this effort was prevented by other users on the articles talk page  shapiro built their first implementation model inference system in  a prolog program that inductively inferred logic programs from positive and negative examples evaluated with respect to known knowledge an uninformed unsupervised method will easily be outperformed by other supervised methods while in a typical kdd task supervised methods cannot be used due to the unavailability of training data  another sister project of wikipedia wikispecies is a catalogue of species  the economist argued that betterwritten articles tend to be more reliable inelegant or ranting prose usually reflects muddled thoughts and incomplete information can always say that because i hadnt prepared very well for the exam i was flummoxed by some of the questions other words that you can use instead of flummoxed are bewildered puzzled or perplexed smart word number eight is rendezvous rendezvous rendezvous  it must not present original research since wikipedia is based on the web and therefore worldwide contributors to the same language edition may use different dialects or may come from different countries as is the case for the english edition they have since diverged to some extent i screwed up i screwed it up if you want somebody to work instead of me you can say  several freecontent collaborative encyclopedias were created around the same period as wikipedia eg for a dictionary where each class has already been built a new training example is associated with the class that is best sparsely represented by the corresponding dictionary  on september   the washington post reported that wikipedia had become a focal point in the  us election campaign saying type a candidates name into google and among the first results is a wikipedia page making those entries arguably as important as any ad in defining a candidate animals as a category have several characteristics that generally set them apart from other living things the user interface and part of the content of the domesday project were emulated on a website until  although natural wonders are celebrated in the psalms and the book of job wilderness portrayals in art became more prevalent in the s especially in the works of the romantic movement in comparison the kfoldcrossvalidation method randomly partitions the data into k subsets and then k experiments are performed each respectively considering  subset for evaluation and the remaining k subsets for training the model hold on for a moment ai can be well equipped in making decisions in certain fields such technical and scientific which rely\n",
      "heavily on data and historical information would you happen to know where the library is supervised learning algorithms build a mathematical model of a set of data that contains both the inputs and the desired outputs and i always do that you can say fingers crossed and you cross the fingers like that people in many regions and countries take great pride in their individual arrays of characteristic flora which can vary widely across the globe due to differences in climate and terrain to determine community consensus editors can raise issues at appropriate community forumsnote  or seek outside input through third opinion requests or by initiating a more general community discussion known as a request for comment  the night of the ceremony members of the wikimedia foundation held a meeting with wikipedians from all parts of spain including the local asturian community  joseph reagle suggested that while the study reflects a topical strength of wikipedia contributors in science articles wikipedia may not have fared so well using a random sampling of articles or on humanities subjects special interest groups have engaged in edit wars to advance their own political interests  on march   the economist in an article titled the future of wikipedia cited a trend analysis concerning data published by the wikimedia foundation stating that the number of editors for the englishlanguage version has fallen by a third in seven years now we often use the word awesome heres another word that you can use in  place of awesome stupendous for example today i got a stupendous score on my test which means i got an a very high score or gordon plotkin and ehud shapiro laid the initial theoretical foundation for inductive machine learning in a logical setting  as of november  alexa records the daily pageviews per visitor as  and the average daily time on site as  minutes in contrast academic writingclarification needed in wikipedia has evolved in recent years and has been found to increase student interest personal connection to the product creativity in material processing and international collaboration in the learning process the latter are both languages of the philippines for simple tasks assigned to computers it is possible to program algorithms telling the machine how to execute all steps required to solve the problem at hand on the computers part no learning is needed some of the training examples are missing training labels  yet many machinelearning researchers have found that unlabeled data when used in conjunction with a small amount of labeled data can produce a considerable improvement in learning accuracy  inductive logic programming ilp is an approach to rulelearning using logic programming as a uniform representation for input examples background knowledge and hypotheses another phrase that americans use is oh bad that explains it and and an acute angle is this sharp angle less than  degrees so acute as a word is used to denote sharp and therefore also mentally sharp and obtuse is denoting blunt and therefore also a little slow in the mind so example sentences with obtuse are the man was so obtuse that he gave away his password to a fake caller or the obtuse child everything with many later being merged into the project eg  an october  reuters article titled wikipedia page the latest status symbol reported the recent phenomenon of how having a wikipedia article vindicates ones notability almost half of wikipedia readers visit the site more than five times a month and a similar number of readers specifically look for wikipedia in search engine results asking for information cluster analysis is the assignment of a set of observations into subsets called clusters so that observations within the same cluster are similar according to one or more predesignated criteria while observations drawn from different clusters are dissimilar what are you doing tonight the license gained popularity among bloggers and others distributing creative works on the web can you hold on  moment please  the gfdl was created for software manuals that come with free software programs licensed under the gpl a claim that is likely to be challenged requires a reference to a reliable source instead a cluster analysis algorithm may be able to detect the microclusters formed by these patterns feature learning can be either supervised or unsupervised so you meet someone and you time how is it going to use the word catch  although changes are not systematically reviewed the software that powers wikipedia provides tools allowing anyone to review changes made by others these other wikimedia projects include wiktionary a dictionary project launched in december  wikiquote a collection of quotations created a week after wikimedia launched wikibooks a collection of collaboratively written free textbooks and annotated texts wikimedia commons a site devoted to freeknowledge multimedia wikinews for citizen journalism and wikiversity a project for the creation of free learning materials and the provision of online learning activities got ready for bed mother i really hope my dream comes true you know oh narcisa the next day as narcisa and her mother were outside in their garden a beautiful an antivandal bot is programmed to detect and revert vandalism quickly humanmade analogs of life may also be considered to be life  the projects preference for cohesiveness even if it requires compromise that includes disregard of credentials has been referred to as antielitism  data has also shown that africarelated material often faces omission a knowledge gap that a july  wikimedia conference in cape town sought to address thats lit which means thats amazing many americans said in california signals travel from the first layer the input layer to the last layer the output layer possibly after traversing the layers multiple times katherine maher the nonprofit wikimedia foundations chief communications officer said the changes address a sentiment among volunteer editors that were not an advertising service were an encyclopedia air is mostly nitrogen oxygen water vapor with much smaller amounts of carbon dioxide argon etc  on the english wikipedia among others particularly controversial sensitive or vandalismprone pages have been protected to varying degrees artificial neural networks anns or connectionist systems are computing systems vaguely inspired by the biological neural networks that constitute animal brains  edits falsely identified by bots as the work of a banned editor can be restored by other editors its like it doesnt matter since it has terabytes of disk space it can have far more topics than can be covered by any printed encyclopedia initiatives to involve greater diversity of contributors better mobile support of wikipedia new geolocation tools to find local content more easily and more tools for users in the second and third world are also priorities walsh said nature can refer to the general realm of living plants and animals and in some cases to the processes associated with inanimate objects—the way that particular types of things exist and change of their own accord such as the weather and geology of the earth as far as im concerned this is the best restaurant in town so the next time you hear of a horrific act on the news remember to youre like sitting you can say i could not care less this is so boring artificial neurons may have a threshold such that the signal is only sent if the aggregate signal crosses that threshold  life may also be said to be simply the characteristic state of organisms  active participation also has an impact to tell me which of these ten words was your favorite smart word number six is in a fix in a fix means to be in a troublesome situation for example boy im in a fix because ive made plans with two different friends for this evening deep learning consists of multiple hidden layers in an artificial neural network  in typical usage water refers only to its liquid form or state but the substance also has a solid state ice and a gaseous state water vapor or steam  a team at the palo alto research center attributed this slowing of growth to the projects increasing exclusivity and resistance to change  wales stresses that encyclopedias of any type are not usually appropriate to use as citable sources and should not be relied upon as authoritative i was wondering if yo could help me with this  machine learning approaches in particular can suffer from different data biases such systems learn to perform tasks by considering examples generally without being programmed with any taskspecific rules each training example has one or more inputs and the desired output also known as a supervisory signal thats a great joke so the phrase is thats a good one  loveland and reagle argue that in process wikipedia follows a long tradition of historical encyclopedias that accumulated improvements piecemeal through stigmergic accumulation approximately  of the earths surface an area of some  million square kilometers is covered by ocean a continuous body of water that is customarily divided into several principal oceans and smaller seas   an svm training algorithm is a nonprobabilistic binary linear classifier although methods such as platt scaling exist to use svm in a probabilistic classification setting  critics argue that wikipedias open nature and a lack of proper sources for most of the information makes it unreliable sure go on the most common and obvious types of vandalism include additions of obscenities and crude humor when conduct is not impersonation or antisocial but rather anticonsensus or in violation of editing policies remedies tend to be limited to warnings for example articles about small towns in the united states might be available only in english even when they meet the notability criteria of other language wikipedia projects  in ancient philosophy natura is mostly used as the latin translation of the greek word physis φύσις which originally related to the intrinsic characteristics that plants animals and other features of the world develop of their own accord  in july  after extensive beta testing a wysiwyg what you see is what you get extension visualeditor was opened to public use although humans are part of nature human activity is often understood as a separate category from other natural phenomena   on january   the english wikipedia participated in a series of coordinated protests against two proposed laws in the united states congress—the stop online piracy act sopa and the protect ip act pipa—by blacking out its pages for  hours  within the various uses of the word today nature often refers to geology and wildlife so one at a time be sure that youre pronouncing the word in the right manner go on to google and type the word and in the search right on top youll see a little speaker icon click on that speaker the history page of each article links to each revision  the findings by nature were disputed by encyclopædia britannica and in response nature gave a rebuttal of the points raised by britannica the wikipedia is not censored policy has sometimes proved controversial in  wikipedia rejected an online petition against the inclusion of images of muhammad in the english edition of its muhammad article citing this policy number three is suave suave suave means to be sophisticated to be polite poised cool and saying i dont know the types of machine learning algorithms differ in their approach the type of data they input and output and the type of task or problem that they are intended to solve  wikipedia zero was an initiative of the wikimedia foundation to expand the reach of the encyclopedia to the developing countries this follows alan turings proposal in his paper computing machinery and intelligence in which the question can machines think oh thats lit and you probably heard it in songs thats lit if somebody is successful after failures so you can say there you go i told you youre gonna make it there you go if somebodys asking you if youre tired and you want to say youre not tired at all you can say not a bit nah  for example using job hiring data from a firm with racist hiring policies may lead to a machine learning system duplicating the bias by scoring job applicants against similarity to previous successful applicants in linnaeus system these became the kingdoms vegetabilia later plantae and animalia  jimmy wales once argued that only a community  a dedicated group of a few hundred volunteers makes the bulk of contributions to wikipedia and that the project is therefore much like any traditional organization when you hear a sentence practice saying it after me therefore the committee does not dictate the content of articles although it sometimes condemns content changes when it deems the new content violates wikipedia policies for example if the new content is considered biased  in  economics phd student andrea ciffolilli argued that the low transaction costs of participating in a wiki create a catalyst for collaborative development and that features such as allowing easy access to past versions of a page favor creative construction over creative destruction im kind of busy tomorrow it involves computers learning from data provided so that they carry out certain tasks support vector machines svms also known as support vector networks are a set of related supervised learning methods used for classification and regression extremes in weather such as tornadoes or hurricanes and cyclones can expend large amounts of energy along their paths and produce devastation  microorganisms are singlecelled organisms that are generally microscopic and smaller than the human eye can see since her beauty was known far and wide but she rejected them all very rudely why did you send those men away yesterday they seemed nice you cant be serious mom one of them  the major oceanic divisions are defined in part by the continents various archipelagos and other criteria these divisions are in descending order of size the pacific ocean the atlantic ocean the indian ocean the southern ocean and the arctic ocean you rock if somebodys not working really well and you want them to work harder you can say you should go an extra mile which means like work harder you should go an extra mile  hey guys welcome to my channel in this video  in june  scientists reported that all  gb of article text from the english wikipedia have been encoded into synthetic dna eugene odum a founder of ecology stated any unit that includes all of the organisms ie the community in a given area interacting with the physical environment so that a flow of energy leads to clearly defined trophic structure biotic diversity and material cycles ie  in january  wikipedia entered for the first time the topten list of the most popular websites in the us according to comscore networks i got a nearperfect score the word stupendous has classical latin roots from the word which means the award was presented to wales by david weinberger what is going on if you didnt catch something or it didnt understand the person you can always ask did i get you right the connections between artificial neurons are called edges in energy example a heavy lunch makes me very in the afternoon sluggish has roots from the word which means a slow person and a slug is an animal that moves around really very slowly like a snail examples you can say sorry roughly  million years ago the earliest known supercontinent rodinia began to break apart this line too was continued outside the aics field as connectionism by researchers from other disciplines including hopfield rumelhart and hinton an ann is a model based on a collection of connected units or nodes called artificial neurons which loosely model the neurons in a biological brain  after the incident seigenthaler described wikipedia as a flawed and irresponsible research tool it is one of the predictive modeling approaches used in statistics data mining and machine learning toc shows the numerators and denominators of the previously mentioned rates thus toc provides more information than the commonly used receiver operating characteristic roc and rocs associated area under the curve auc  several interactive multimedia encyclopedias incorporating entries written by the public existed long before wikipedia was founded already the presidential entries are being edited dissected and debated countless times each day  the encyclopedias assertions are increasingly used as a source by organizations such as the us federal courts and the world intellectual property organization—though mainly for supporting information rather than information decisive to a case less common types of vandalism such as the deliberate addition of plausible but false information to an article can be more difficult to detect  others raised similar critiques they seek to identify a set of contextdependent rules that collectively store and apply knowledge in a piecewise manner in order to make predictions i know wasnt able the continents later recombined to form pannotia which broke apart about  million years ago then finally pangaea which broke apart about  million years ago  software suites containing a variety of machine learning algorithms include the following \n",
      "were all looking for quick ways to become more fluent in english i know i understand what happens is that there are just a few words circling our brain and we need to make this entire conversation using just awesome amazing cool or epic so how about we learn some smart new english words that you can use in your daily life and elevate your vocabulary in minutes he wrote in a message to the wikimedia foundation mailinglist that this action was in the interest of encouraging this discussion to be about real philosophicalcontent issues rather than be about me and how quickly i acted there is neither a separate reinforcement input nor an advice input from the environment  under this system new and unregistered users edits to certain controversial or vandalismprone articles are reviewed by established users before they are published  feature learning is motivated by the fact that machine learning tasks such as classification often require input that is mathematically and computationally convenient to process by contrast he gives an example of wikipedias prose that he finds both verbose and dull however some microorganisms are pathogenic and can post health risk to other organisms algorithmic bias is a potential result from data not fully prepared for training let me get back to you on that  in its application across business problems machine learning is also referred to as predictive analytics the study of nature is a large if not the only part of science where as a machine learning algorithm for stock trading may inform the trader of future potential predictions  during the covid pandemic wikipedias coverage of the pandemic received international media attention and brought an increase in wikipedia readership overall these differences may lead to some conflicts over spelling differences eg several other methods of mobile access to wikipedia have emerged  in  business insider gave wikipedia a valuation of  billion if it ran advertisements dare to know social networks have led to a culture of dare not to care to know  because human languages contain biases machines trained on language corpora will necessarily also learn these biases oh mom i love you so much and you were right looks and riches arent everything the gold bread was useless as i couldnt eat it and the man even though wikipedia was launched on january   by jimmy wales and larry sanger  when basic forms of plant life developed the process of photosynthesis the suns energy could be harvested to create conditions which allowed for more complex life forms  wikipedia has been criticized for its uneven accuracy and for exhibiting systemic bias including gender bias with the majority of editors being male statistical analyses suggest that the committee ignores the content of disputes and rather focuses on the way disputes are conducted functioning not so much to resolve disputes and make peace between conflicting editors but to weed out problematic editors while allowing potentially productive editors back in to participate for this reason the most fundamental science is generally understood to be physics—the name for which is still recognizable as meaning that it is the study of nature in  readers of brandchannelcom voted wikipedia as the fourthhighest brand ranking receiving  percent of the votes in answer to the question which brand had the most impact on our lives in  no worries imagine you came home and there are all of your friends sitting on your couch im gonna give you top  english phrases that you can use in your everyday life its most common form is linear regression where a single line is drawn to best fit the given data according to a mathematical criterion such as ordinary least squares however these are still often considered plants in many contexts natural lakes on earth are generally found in mountainous areas rift zones and areas with ongoing or recent glaciation a machine learning system trained on current customers only may not be able to predict the needs of new customer groups that are not represented in the training data  the dilbert comic strip from may   features a character supporting an improbable claim by saying give me ten minutes and then check wikipedia sorry to bother youif you are in the middle of something in somebodys asking you something you can say ohyoure in the middle of something and somebody somebodys asking you to do something you say im sorry dont forget to say hey whos that suave guy right out there in the corner using this word will instantly make your vocabulary im afraid i do these currents help to moderate the differences in temperature between winter and summer in the temperate zones  conversely machine learning techniques have been used to improve the performance of genetic and evolutionary algorithms the climate of a region depends on a number of factors especially latitude how are you  earth is the only planet known to support life and its natural features are the subject of many fields of scientific research yes please similarity learning is an area of supervised machine learning closely related to regression and classification but the goal is to learn from examples using a similarity function that measures how similar or related two objects are with  million unique visitors wikipedia was ranked number  surpassing the new york times  and apple   wikipedians often have disputes regarding content which may result in repeatedly making opposite changes to an article known as edit warring the economy has been very sluggish this year or the match picked up after a sluggish start also in the realm of ideas about beauty in nature is that the perfect is implied through perfect mathematical forms and more generally by patterns in nature my dear child you are so beautiful and lovely but you do not care about anything other than your beauty  in july  the atlantic reported that the number of administrators is also in decline generalizations of bayesian networks that can represent and solve decision problems under uncertainty are called influence diagrams as of january  the six largest in order of article count are the english cebuano swedish german french and dutch wikipedias  according to a  study there is evidence of growing resistance from the wikipedia community to new content  however an increasing emphasis on the logical knowledgebased approach caused a rift between ai and machine learning thats very kind of you the number of wikipedia editors has been declining after several years and tom simonite of mit technology review claims the bureaucratic structure and rules are a factor in this  his research examined the counterproductive work behavior of edit warring that would be great thanks  the moon formed roughly  million years later  in  time magazine recognized wikipedias participation along with youtube reddit myspace and facebook in the rapid growth of online collaboration and interaction by millions of people worldwide  in september  wikipedia received quadriga a mission of enlightenment award of werkstatt deutschland along with boris tadić eckart höfling and peter gabriel how do you know  by comparison for the german wikipedia the three largest conflict rates at the time of the oxford study were for the articles covering croatia scientology and  conspiracy theories each connection like the synapses in a biological brain can transmit information a signal from one artificial neuron to another some such as susningnu enciclopedia libre hudong and baidu baike likewise employ no formal review process although some like conservapedia are not as open  in an episode of the television comedy the office us which aired in april  an incompetent office manager michael scott is shown relying on a hypothetical wikipedia article for information on negotiation tactics to assist him in negotiating lesser pay for an employee  the same wall street journal article reported these directions of development according to an interview with spokesman jay walsh of wikimedia who said tretikov would address that issue paid advocacy as a priority  sometimes editors commit vandalism by removing content or entirely blanking a given page this was the first interactive multimedia encyclopedia and was also the first major multimedia document connected through internal links with the majority of articles being accessible through an interactive map of the uk maybe you were talking on the phone and somebody was talking to you and youre like  distribution of the  articles in different language editions as of january   the unit for the numbers in bars is articles at that moment narcissus started to laugh in her sleep her mother was extremely surprised how nice she must be having a really funny dream the next morning when narcissus citation needed wikipedia currently runs on dedicated clusters of linux servers mainly ubuntu lets say you have a lot of assignments and you have a test coming up and your friends come to you and they say go ahead  a representative book of the machine learning research during the s was the nilssons book on learning machines dealing mostly with machine learning for pattern classification but it has been conjectured that europa the fourthlargest moon of jupiter may possess a subsurface ocean of liquid water and could potentially host life at any given time regardless of season the northern and southern hemispheres experience opposite seasons  accordingly ml learns and predicts based on passive observations whereas ai implies an agent  interacting with the environment to learn and take actions that maximize its chance of successfully achieving its goals wilderness areas and protected parks are considered important for the survival of certain species ecological studies conservation and solitude  an editorial in the guardian in  claimed that more effort went into providing references for a list of female porn actors than a list of women writers matter is commonly defined as the substance of which physical objects are composed she would live her life that day two friends came to visit narcissus mother they were mellie and terry the three of them had been friends for ages but terry and ellie had a secret both of them  generalization in this context is the ability of a learning machine to perform accurately on new unseen examplestasks after having experienced a learning data set multilinear subspace learning algorithms aim to learn lowdimensional representations directly from tensor representations for multidimensional data without reshaping them into higherdimensional vectors the study of mathematical optimization delivers methods theory and application domains to the field of machine learning oh my god  additionally there are bots designed to automatically notify editors when they make common editing errors such as unmatched quotes or unmatched parentheses a latitudinal band of the surface with similar climatic attributes forms a climate region that nature has been depicted and celebrated by so much art photography poetry and other literature shows the strength with which many people associate nature and beauty  wikipedias community has been described as cultlike although not always with entirely negative connotations the atmospheric conditions have been significantly altered from the original conditions by the presence of lifeforms which create an ecological balance that stabilizes the surface conditions the hg encyclopedia is relatively lighthearted focusing on articles which are both witty and informative  wales once  or earlier said he receives about ten emails weekly from students saying they got failing grades on papers because they cited wikipedia he told the students they got what they deserved semisupervised anomaly detection techniques construct a model representing normal behavior from a given normal training data set and then test the likelihood of a test instance to be generated by the model  the wall street journal reported on may   that tretikovs information technology background from her years at university of california offers wikipedia an opportunity to develop in more concentrated directions guided by her often repeated position statement that information like air wants to be free given symptoms the network can be used to compute the probabilities of the presence of various diseases while it has improved with training sets it has not yet developed sufficiently to reduce the workload burden without limiting the necessary sensitivity for the findings research themselves systems which are trained on datasets collected with biases may exhibit these biases upon use algorithmic bias thus digitizing cultural prejudices many devices and applications optimize or enhance the display of wikipedia content for mobile devices while some also incorporate additional features such as use of wikipedia metadata see wikipediametadata such as geoinformation  for example the rule \n",
      "\n",
      "\n",
      "\n",
      "\n",
      "\n",
      "o\n",
      "n\n",
      "i\n",
      "o\n",
      "n\n",
      "s\n",
      "\n",
      "p\n",
      "o\n",
      "t\n",
      "a\n",
      "t\n",
      "o\n",
      "e\n",
      "s\n",
      "\n",
      "\n",
      "⇒\n",
      "\n",
      "\n",
      "b\n",
      "u\n",
      "r\n",
      "g\n",
      "e\n",
      "r\n",
      "\n",
      "\n",
      "\n",
      "\n",
      "displaystyle mathrm onionspotatoes rightarrow mathrm burger \n",
      "\n",
      " found in the sales data of a supermarket would indicate that if a customer buys onions and potatoes together they are likely to also buy hamburger meat try to copy my pronunciation exactly including the tone of voice that i use in  wales claimed that the unevenness of coverage is a reflection of the demography of the editors citing for example biographies of famous women through history and issues surrounding early childcare if thats really what you want then ill take you home terrence took the crying and unhappy  in  facebook and youtube announced that they would help users detect fake news by suggesting links to related wikipedia articles in some parts of the world there are many lakes because of chaotic drainage patterns left over from the last ice age  because wikipedia content is distributed under an open license anyone can reuse or redistribute it at no charge  by january   wikipedia had migrated its primary data center to an equinix facility in ashburn virginia ill be with you in a minute ill be with you in and then you resume doing something and you say where were we  articles available in more than one language may offer interwiki links which link to the counterpart articles in other editions  communityproduced news publications include the english wikipedias the signpost founded in  by michael snow an attorney wikipedia administrator and former chair of the wikimedia foundation board of trustees for example his table manners were atrocious or her dress sense is so atrocious or his grammar is atrocious just think of that poor narcissus mother was so worried about her daughter and how in  it received eight billion page views every month  the parliament of canadas website refers to wikipedias article on samesex marriage in the related links section of its further reading list for the civil marriage act initially molten the outer layer of the earth cooled resulting in the solid crust interrupting politely  however some vandalism takes much longer to repair performing machine learning involves creating a model which is trained on some training data and then can process additional data to make predictions at present though most of the water remaining on mars is frozen otherwise there were relatively few rules initially and wikipedia operated independently of nupedia  it covers news and events from the site as well as major events from other wikimedia projects such as wikimedia commons to my mother let me go home melissa and terrence looked at each other and winked well for example the german wikipedia maintains stable versions of articles which have passed certain reviews  tom m mitchell provided a widely quoted more formal definition of the algorithms studied in the machine learning field a computer program is said to learn from experience e with respect to some class of tasks t and performance measure p if its performance at tasks in t as measured by p  improves with experience e this definition of the tasks in which machine learning is concerned offers a fundamentally operational definition rather than defining the field in cognitive terms  modern day machine learning has two objectives one is to classify data based on models which have been developed the other purpose is to make predictions for future outcomes based on these models im so happy this was it guys  phrases in english let me know if this was helpful by liking this video and commenting below if you know any more cool phrases cant help you there sorry  sanger later clarified that the images which were related to pedophilia and one about lolicon were not of real children but said that they constituted obscene visual representations of the sexual abuse of children under the protect act of  thus at any given time during the summer or winter one part of the earth is more directly exposed to the rays of the sun content in wikipedia is subject to the laws in particular copyright laws of the united states and of the us state of virginia where the majority of wikipedias servers are located  julie beck quotes wikiproject medicines james heilman as stating just because a reference is peerreviewed doesnt mean its a highquality reference hey calm down yourself together another phrase that  for example manufactured objects and human interaction generally are not considered part of nature unless qualified as for example human nature or the whole of nature  machine learning ml is the study of computer algorithms that improve automatically through experience when dealing with nonlinear problems goto models include polynomial regression for example used for trendline fitting in microsoft excel logistic regression often used in statistical classification or even kernel regression which introduces nonlinearity by taking advantage of the kernel trick to implicitly map input variables to higherdimensional space thank you for your effort here try some golden potatoes theyre really good and after youre married to me these form the primary communication channel for editors to discuss coordinate and debate  the extent of the current extinction event is still being researched debated and calculated by biologists  maher has stated that one of her priorities would be the issue of editor harassment endemic to wikipedia as identified by the wikipedia board in december convective motion in the core generates electric currents through dynamo action and these in turn generate the geomagnetic field some of the sketches were directly inspired by wikipedia and its articles there are concerns among health care professionals that these systems might not be designed in the publics interest but as incomegenerating machines  the attrition rate for active editors in english wikipedia was cited by the economist as substantially in contrast to statistics for wikipedia in other languages nonenglish wikipedia other methods are based on estimated density and graph connectivity phrase number one this is another way to ask  reinforcement learning is an area of machine learning concerned with how software agents ought to take actions in an environment so as to maximize some notion of cumulative reward  a core objective of a learner is to generalize from its experience  articles for traditional encyclopedias such as encyclopædia britannica are carefully and deliberately written by experts lending such encyclopedias a reputation for accuracy over the past  million years mammalian life diversified basic greetings hows it going by comparison the great oxygenation event produced by the proliferation of algae during the siderian period required about  million years to culminate  the feature was changed from optout to optin afterward beyond legal matters the editorial principles of wikipedia are embodied in the five pillars and in numerous policies and guidelines intended to appropriately shape content  in  wikipedia had installed a caching cluster in an equinix facility in singapore the first of its kind in asia it doesnt matter if you want to wish somebody luck how have you been –  neural networks research had been abandoned by ai and computer science around the same time in april  an israeli lunar lander beresheet crash landed on the surface of the moon carrying a copy of nearly all of the english wikipedia engraved on thin nickel plates experts say the plates likely survived the crash given an encoding of the known background knowledge and a set of examples represented as a logical database of facts an ilp system will derive a hypothesized logic program that entails all positive and no negative examples  wikipedia contains materials that some people may find objectionable offensive or pornographic this can then be used as training data for the computer to improve the algorithms it uses to determine correct answers  the projects reputation improved further in the s as it increased efforts to improve its quality and reliability based on its unique structure curation and absence of commercial bias that would be great theres a red button over there somewhere avoiding a question in addition to the holdout and crossvalidation methods bootstrap which samples n instances with replacement from the dataset can be used to assess model accuracy you hit the nail on the head  the structure and composition is determined by various environmental factors that are interrelated in an atrocious manner sometimes in prisons atrocious is also used in day to day life to talk about some common wrong doing and you want to exaggerate it a wide variety of manmade bodies of water are classified as ponds including water gardens designed for aesthetic ornamentation fish ponds designed for commercial fish breeding and solar ponds designed to store thermal energy i couldnt agree more sure no problem  machine learning poses a host of ethical questions i think youre mistaken  by  graphic processing units gpus often with aispecific enhancements had displaced cpus as the dominant method of training largescale commercial cloud ai feature learning algorithms also called representation learning algorithms often attempt to preserve the information in their input but also transform it in a way that makes it useful often as a preprocessing step before performing classification or predictions  manifold learning algorithms attempt to do so under the constraint that the learned representation is lowdimensional  for instance when contributors rewrite small portions of an entry rather than making fulllength revisions high and lowquality content may be intermingled within an entry vandalism can also include advertising and other types of spam the computational analysis of machine learning algorithms and their performance is a branch of theoretical computer science known as computational learning theory  contrasting wikipedias treatment of abraham lincoln to that of civil war historian james mcpherson in american national biography online he said that both were essentially accurate and covered the major episodes in lincolns life but praised mcphersons richer contextualization  his artful use of quotations to capture lincolns voice  and  his ability to convey a profound message in a handful of words  however its ranking dropped to th globally by june  due mostly to a rise in popularity of chinese websites for online shopping  in certain cases all editors are allowed to submit modifications but review is required for some editors depending on certain conditions  wilderness is generally defined as areas that have not been significantly modified by human activity  for a brief period in mars history it may have also been capable of forming life when trained on manmade data machine learning is likely to pick up the same constitutional and unconscious biases already present in society condensing water vapor most or all of which came from ice delivered by comets produced the oceans and other water sources  wikipedia began as a complementary project for nupedia a free online englishlanguage encyclopedia project whose articles were written by experts and reviewed under a formal process there was a greater concentration of females in the people and arts category while males focus more on geography and science asking someone to wait no sorry ive already mad some plans  research conducted by mark graham of the oxford internet institute in  indicated that the geographic distribution of article topics is highly uneven machine learning also has intimate ties to optimization many learning problems are formulated as minimization of some loss function on a training set of examples  according to michael i jordan the ideas of machine learning from methodological principles to theoretical tools have had a long prehistory in statistics  originally bomis intended to make wikipedia a business for profit these life forms are found in almost every location on the earth where there is liquid water including in the earths interior there was a decline of about two billion between december  and december  ponds and lakes are distinguished from streams via current speed efficient algorithms exist that perform inference and learning i love you sold me because sometimes people describe their trip or somebody they bought and they describe it is so well with  million articles the english wikipedia is the largest of the  wikipedia encyclopedias this may be calcified to form structures like shells bones and spicules a framework upon which cells can move about and be reorganized during development and maturation and which supports the complex anatomy required for mobility he described it as a work of reference as useful as any in existence with so wide a range that it is almost impossible to find a person place or thing that it has left uncovered and that he could never have written his last two books without it  though each language edition functions more or less independently some efforts are made to supervise them all other lakes are found in endorheic basins or along the courses of mature rivers the usual hey why dont you hang out with us you can say to them im so sorry but im swamped with work or im swamped some other words that you can use in place of swamped are ive got too much to do africa is the most underrepresented help me bake the bread huh no way mom the flour maids all my bright and sparkly eyes this marked a significant increase over january  when the rank was number  with wikipedia receiving around  million unique visitors its most popular versions are leading the slide pageviews of the english wikipedia declined by twelve percent those of german version slid by  percent and the japanese version lost nine percent my pleasure the defining characteristic of a rulebased machine learning algorithm is the identification and utilization of a set of relational rules that collectively represent the knowledge captured by the system based on historical records the earth is known to have undergone drastic climate changes in the past including ice ages a joint team made up of researchers from att labsresearch in collaboration with the teams big chaos and pragmatic theory built an ensemble model to win the grand prize in  for  million a lake from latin word lacus is a terrain feature or physical feature a body of liquid on the surface of a world that is localized to the bottom of basin another type of landform or terrain feature that is it is not global and moves slowly if it moves at all  wikipedia receives between  and page requests per second depending on the time of the day youre absolutely right  in december  the scientific journal rna biology launched a new section for descriptions of families of rna molecules and requires authors who contribute to the section to also submit a draft article on the rna family for publication in wikipedia i can say take care which means take care of yourself i want to continue im not tired not of it when somebody is asking you are you sure and youre pretty sure you can say there is no room for that however over time attention moved to performing specific tasks leading to deviations from biology im ok but thanks for offering  when contacted on this matter clay shirky associate professor at new york university and fellow at harvards berkman klein center for internet  society indicated that he suspected much of the page view decline was due to knowledge graphs stating if you can get your question answered from the search page you dont need to click any further narcisa changed her ways she struggled at first but slowly and patiently she started to become a lot nicer one day mellie and terry came to meet marian again oh hello you two so tell us marian a  study by researchers from dartmouth college found that anonymous and infrequent contributors to wikipedia  are as reliable a source of knowledge as those contributors who register with the site happy learning and i will see you in another lesson soon  astronomers have started to discover extrasolar earth analogs – planets that lie in the habitable zone of space surrounding a star and therefore could possibly host life as we know it new pages patrol is a process whereby newly created articles are checked for obvious problems a particular problem occurs in the case of a relatively unimportant individual and for whom there exists a wikipedia page against her or his wishes i think thats a good idea phrases if you have been learning english for a while and you want to resume learning an ocean is a major body of saline water and a principal component of the hydrosphere  unsupervised anomaly detection techniques detect anomalies in an unlabeled test data set under the assumption that the majority of the instances in the data set are normal by looking for instances that seem to fit least to the remainder of the data set on earth a body of water is considered a lake when it is inland not part of the ocean is larger and deeper than a pond and is fed by a river ill take it the acquisition of natural resources for industrial use remains a sizable component of the worlds economic system  concern for fairness in machine learning that is reducing bias in machine learning and propelling its use for human good is increasingly expressed by artificial intelligence scientists including feifei li who reminds engineers that there’s nothing artificial about aiit’s inspired by people it’s created by people and—most importantly—it impacts people  precipitation varies widely with location from several metres of water per year to less than a millimetre cheers i really appreciate it  the subsequent advent of human life and the development of agriculture and further civilization allowed humans to affect the earth more rapidly than any previous life form affecting both the nature and quantity of other organisms as well as global climate  the number of individual species of life is constantly in some degree of flux with new species appearing and others ceasing to exist on a continual basis gne  beck continued to detail in this article new programs of amin azzam at the university of san francisco to offer medical school courses to medical students for learning to edit and improve wikipedia articles on healthrelated issues as well as internal quality control programs within wikipedia organized by james heilman to improve a group of  healthrelated articles of central medical importance up to wikipedias highest standard of articles using its featured article and good article peerreview evaluation process last night well mom it was such an amazing dream you know there was this prince who came up to me isnt everything mother you have to realize i deserve someone like a prince or a knight im going to laundry anyway they are also distinguished from plants algae and fungi by lacking cell walls  the article in the new york times reported the comparison statistics for mobile edits stating that only  percent of the readership of the englishlanguage wikipedia comes via mobile devices a figure substantially lower than the percentage of mobile traffic for other media sites many of which approach  percent say to them maybe im being obtuse but i dont know why youre so upset smart word number  is sluggish sluggish sluggish means to move in  slow manner to be kind of slower paced  two years later in  wales acknowledged the presence of a slight decline noting a decrease from a little more than  writers in june  to  in june  some types of native flora actually have been introduced centuries ago by people migrating from one region or continent to another and become an integral part of the native or natural flora of the place to which they were introduced things happen do not be upset if you dont have the name of a person you want to talk to him ive got to get going in machine learning genetic algorithms were used in the s and s it was a pleasure meeting you see you later  the list concerns basic content by subject biography history geography society culture science technology and mathematics  manmade threats to the earths natural environment include pollution deforestation and disasters such as oil spills  oceans hold  of surface water glaciers and polar ice caps  and other land surface water such as rivers lakes and ponds   bloomberg businessweek reported in july  that googles android mobile apps have dominated the largest share of global smartphone shipments for  with  of market share over their next closest competitor in ios with  of the market because training sets are finite and the future is uncertain learning theory usually does not yield guarantees of the performance of algorithms many parodies target wikipedias openness and susceptibility to inserted inaccuracies with characters vandalizing or modifying the online encyclopedia projects articles a hypothetical algorithm specific to classifying data may use computer vision of moles coupled with supervised learning in order to train it to classify the cancerous moles since then it has become clear that the plantae as originally defined included several unrelated groups and the fungi and several groups of algae were removed to new kingdoms  several studies have shown that most of the wikipedia contributors are male  andrew lih a professor and scientist wrote in the new york times that the reason he thought the number of male contributors outnumbered the number of females so greatly was because identifying as a woman may expose oneself to ugly intimidating behavior  they used pagerank followed by the number of appearances in the  different language editions of wikipedia descending order and the century in which they were founded ascending order climate is a measure of the longterm trends in the weather this position has been successfully defended in court or business has been sluggish this quarter you can use it in your daily life if youre feeling very tired one day you can tell your mom or you can tell theyre like good for you it would be better without you and this is a negative meaning so really listen to the intonation this exposure alternates as the earth revolves in its orbit this technique allows reconstruction of the inputs coming from the unknown datagenerating distribution while not being necessarily faithful to configurations that are implausible under that distribution narcisa would you help me plant these seeds what why would i do that what have i got all that dirt on my lovely fingers worse what if it went onto my face well that was the problem with narcisa machine learning algorithms build a model based on sample data known as training data in order to make predictions or decisions without being explicitly programmed to do so were magical beings something that narcisses mother knew nothing about terry melli oh its so good to see you its been very long hasnt it how have you been i have been very good i would have been better if only if only what if only my daughter narcisa was a little more understanding marian told mellie and terry all about narcisa and how she was worried for her she wants to eat bread made of gold what do i do with her well maybe if her dream comes true modifications to all articles would be published immediately  as of  many sources continue to assert that machine learning remains a subfield of ai this is known as a neutral point of view npov this is especially true in the united states where there is a longstanding ethical dilemma of improving health care but also increasing profits  finally wikipedia must not take sides hang on one second variations of these factors will initiate dynamic modifications to the ecosystem among wikipedia editors this is often phrased as verifiability not truth to express the idea that the readers not the encyclopedia are ultimately responsible for checking the truthfulness of the articles and making their own interpretations examples include artificial neural networks multilayer perceptrons and supervised dictionary learning  editors in good standing in the community can run for one of many levels of volunteer stewardship this begins with administrator privileged users who can delete pages prevent articles from being changed in case of vandalism or editorial disputes setting protective measures on articles and try to prevent certain people from editing they are coordinated in part by metawiki the wikimedia foundations wiki devoted to maintaining all its projects wikipedia and others machine learning and statistics are closely related fields in terms of methods but distinct in their principal goal statistics draws population inferences from a sample while machine learning finds generalizable predictive patterns further wikipedia intends to convey only knowledge that is already established and recognized the mathematical expressions of the laws of physics employ a set of twenty physical constants that appear to be static across the observable universe  sanger also expressed concerns about access to the images on wikipedia in schools  editors can enforce these rules by deleting or modifying noncompliant material you rock you rock alright if you want more lessons on common sentences and phrases let me know in the comments section below stay in touch given a set of training examples each marked as belonging to one of two categories an svm training algorithm builds a model that predicts whether a new example falls into one category or the other oh this is like almost crazy making offers in practice it can turn out to be more effective to help the machine develop its own algorithm rather than having human programmers specify every needed step in decision analysis a decision tree can be used to visually and explicitly represent decisions and decision making the present era is classified as part of a mass extinction event the holocene extinction event the fastest ever to have occurred remark and say that this is an atrocious act smart word number  is stupendous stupendous stupendous means amazing astonishing the thin layer of gases that envelops the earth is held in place by gravity igneous intrusions such as batholiths laccoliths dikes and sills push upwards into the overlying rock and crystallize as they intrude can you cover me like can you work instead of me while im seeing my friend the worry is that if you can get all that information from wikipedia whats left for biography  deep learning algorithms discover multiple levels of representation or a hierarchy of features with higherlevel more abstract features defined in terms of or generating lowerlevel features rosenzweig also criticized the waffling—encouraged by the npov policy—which means that it is hard to discern any overall interpretive stance in wikipedia history several mediawiki extensions are installed to extend the functionality of the mediawiki software im sorry although early humans gathered uncultivated plant materials for food and employed the medicinal properties of vegetation for healing most modern human use of plants is through agriculture me so the next time you get math homework from school for example and if youve left your math book in school then you can tell your friends that youre in a real fix now you may think that the word fix has something to do with repairing something  similar issues with recognizing nonwhite people have been found in many other systems another category of plant has historically been carved out for weeds can i get you a glass of water dont worry no worries which means dont worry about it should this attrition have continued unabated at the quoted trend rate of approximately  editors lost within seven years by  there would be only  active editors on english wikipedia there is no discrete boundary between earths atmosphere and space as the atmosphere gradually attenuates with increasing altitude making requests similar publications are the germanlanguage kurier and the portugueselanguage correio da wikipédia  all opinions and viewpoints if attributable to external sources must enjoy an appropriate share of coverage within an article  the exact arrangement of these components is still unknown and is under intensive investigation by physicists when he sneezed oh oh and the last stop no i dont want to hear any more all i could see was that those men were really nice my dear you must know that beauty how are things  a  study conducted by researchers at the university of minnesota indicated that male and female editors focus on different coverage topics there are a number of such regions ranging from the tropical climate at the equator to the polar climate in the northern and southern extremes these robots use guidance mechanisms such as active learning maturation motor synergies and imitation  wikipedia won two major awards in may  originally rules on the nonenglish editions of wikipedia were based on a translation of the rules for the english wikipedia another way to tell the person to not be upset is you can say things happen like its okay golden carriage came riding up to them it was studded in gems and diamonds and looked extremely stunning weather is a chaotic system that is readily modified by small changes to the environment so accurate weather forecasting is limited to only a few days weather is also influenced by the seasons which result from the earths axis being tilted relative to its orbital plane noam cohen writing in the washington post states youtubes reliance on wikipedia to set the record straight builds on the thinking of another factchallenged platform the facebook social network which announced last year that wikipedia would help its users root out fake news  a frequently vandalized article can be semiprotected or extended confirmed protected meaning that only autoconfirmed or extended confirmed editors are able to modify it if you ask somebody not to be upset not to cry you can say dont take it to heart much of the confusion between these two research communities which do often have separate conferences and separate journals ecml pkdd being a major exception comes from the basic assumptions they work with in machine learning performance is usually evaluated with respect to the ability to reproduce known knowledge while in knowledge discovery and data mining kdd the key task is the discovery of previously unknown knowledge  andrew lih and andrew brown both maintain editing wikipedia with smartphones is difficult and this discourages new potential contributors in weakly supervised learning the training labels are noisy limited or imprecise however these labels are often cheaper to obtain resulting in larger effective training sets has she i guess she wouldnt want any more gold bread now huh you know positive results show that a certain class of functions can be learned in polynomial time the clearance of large tracts of land for crop growth has led to a significant reduction in the amount available of forestation and wetlands resulting in the loss of habitat for many plant and animal species as well as increased erosion central to the ecosystem concept is the idea that living organisms interact with every other element in their local environment  various wikipedians have criticized wikipedias large and growing regulation which includes more than fifty policies and nearly  words as of update the second was a judges webby award for the community category  the only world other than earth known to harbor lakes is titan saturns largest moon which has lakes of ethane most likely mixed with methane  taha yasseri of the university of oxford in  studied the statistical trends of systemic bias at wikipedia introduced by editing conflicts and their resolution hows it going the incorporation of smaller cells within larger ones resulted in the development of yet more complex cells called eukaryotes these personalized tokens of appreciation reveal a wide range of valued work extending far beyond simple editing to include social support administrative actions and types of articulation work some language editions such as the english wikipedia include nonfree image files under fair use doctrine while the others have opted not to in part because of the lack of fair use doctrines in their home countries eg the original goal of the ann approach was to solve problems in the same way that a human brain would a subset of machine learning is closely related to computational statistics which focuses on making predictions using computers but not all machine learning is statistical learning  at the time of the tretikov appointment and her posted web interview with sue gardner in may  wikimedia representatives made a technical announcement concerning the number of mobile access systems in the market seeking access to wikipedia regional floras commonly are divided into categories such as native flora and agricultural and garden flora the lastly mentioned of which are intentionally grown and cultivated if you want somebody just sound like crying and complaining about something that is not happening you can say come im you can do it i youre so much better than the problem you are crying about its not worth your tears  as wikipedia grew who writes wikipedia would it be okay if i took the day off tomorrow permission  typically the anomalous items represent an issue such as bank fraud a structural defect medical problems or errors in a text these include wikimedia chapters which are national or subnational organizations such as wikimedia deutschland and wikimédia france thematic organizations such as amical wikimedia for the catalan language community and user groups any time its fine dont mention it hesitating streams are important as conduits in the water cycle instruments in groundwater recharge and they serve as corridors for fish and wildlife migration machine learning involves computers discovering how they can perform tasks without being explicitly programmed to do so  machine learning ml reorganized as a separate field started to flourish in the s in japanese copyright law  probabilistic reasoning was also employed especially in automated medical diagnosis during the advent of modern scientific method in the last several centuries nature became the passive reality organized and moved by divine laws  data has shown that africans are underrepresented among wikipedia editors  studies related to wikipedia have been using machine learning and artificial intelligence to support various operations instead probabilistic bounds on the performance are quite common small rivers may also be called by several other names including stream creek brook rivulet and rill there is no general rule that defines what can be called a river  other forms of ethical challenges not related to personal biases are more seen in health care  bots on wikipedia must be approved before activation what have you been up to raise them before if everything is going ecosystems are composed of a variety of biotic and abiotic components that function in an interrelated way an editor is considered active if they have made one or more edits in the past  days the biosphere is the part of earths outer shell—including land surface rocks water air and the atmosphere—within which life occurs and which biotic processes in turn alter or transform the atmospheric pressure declines steadily with altitude british artists john constable and j m w turner turned their attention to capturing the beauty of the natural world in their paintings water within a river is generally collected from precipitation through surface runoff groundwater recharge springs and the release of stored water in natural ice and snowpacks ie from glaciers among the many ways of classifying plants are by regional floras which depending on the purpose of study can also include fossil flora remnants of plant life from a previous era for example a bayesian network could represent the probabilistic relationships between diseases and symptoms media files covered by free content licenses eg and with that she got into his carriage and without even saying goodbye to her mother rode off with the angel as they were travelling the carriage suddenly entered a magical portal there it traveled through a stormy area the carriage bumped around tremendously and narcissa when the project was started in  all text in wikipedia was covered by the gnu free documentation license gfdl a copyleft license permitting the redistribution creation of derivative works and commercial use of content while authors retain copyright of their work  in  time magazine stated that the opendoor policy of allowing anyone to edit had made wikipedia the biggest and possibly the best encyclopedia in the world and was a testament to the vision of jimmy wales increasingly the valuing of nature became an aspect of western culture it sinks you say pull yourself together like literally take yourself and pull yourself together stop working stop crying pull yourself together  citing fears of commercial advertising and lack of control in wikipedia users of the spanish wikipedia forked from wikipedia to create the enciclopedia libre in february  such information can be used as the basis for decisions about marketing activities such as promotional pricing or product placements in contrast with sequence mining association rule learning typically does not consider the order of items either within a transaction or across transactions in december  the creative commons license was released it was specifically designed for creative works in general not just for software manuals if you havent already press the subscribe button and the bell icon right next to it and happy watching other past and present community news publications on english wikipedia include the wikiworld webcomic the wikipedia weekly podcast and newsletters of specific wikiprojects like the bugle from wikiproject military history and the monthly newsletter from the guild of copy editors sparse coding algorithms attempt to do so under the constraint that the learned representation is sparse meaning that the mathematical model has many zeros  the term machine learning was coined in  by arthur samuel an american ibmer and pioneer in the field of computer gaming and artificial intelligence despite the wide regional variations in climate by latitude and other geographic factors the longterm average global climate is quite stable during interglacial periods and variations of a degree or two of average global temperature have historically had major effects on the ecological balance and on the actual geography of the earth various factors are known to influence the climate including ocean currents surface albedo greenhouse gases variations in the solar luminosity and changes to the earths orbit in general but it wont be very appropriate for an official meeting so if you have a date perhaps you can certainly call that a rendezvous smart word number  is obtuse obtuse obtuse is an insult you would use it when youre trying to call someone dumb or unintelligent or dimwitted now youve heard the word obtuse in geometry obtuse angle and acute angle so an obtuse angle is an angle greater than  degrees but less than  degrees in a few cases a river simply flows into the ground or dries up completely before reaching another body of water  any change or edit that manipulates content in a way that purposefully compromises the integrity of wikipedia is considered vandalism subsequent collaborative knowledge websites have drawn inspiration from wikipedia about  percent of wikipedia readers do not realize that wikipedia is a nonprofit organization can you cover me its time to leave and guys id better be going which means i should go already as of january update according to alexa the english subdomain enwikipediaorg english wikipedia receives approximately  of wikipedias cumulative traffic with the remaining split among the other languages russian  chinese  japanese  spanish   in february  the new york times reported that wikipedia was ranked fifth globally among all websites stating with  billion page views and nearly  million unique visitors a month  wikipedia trails just yahoo facebook microsoft and google the largest with  billion unique visitors wales replied that he did not although the perpetrator was eventually traced  no comment was made concerning which of the differentiated edit policy standards from wikipedia in other languages nonenglish wikipedia would provide a possible alternative to english wikipedia for effectively ameliorating substantial editor attrition rates on the englishlanguage wikipedia  another example can be found in wikipedia celebrates  years of american independence a july  frontpage article in the onion as well as the  the onion article la long time no see its remedies include cautions and probations used in  of cases and banning editors from articles  subject matters  or wikipedia  with her only daughter narcisa marion was extremely humble and sweet narcisa however was completely the opposite you see she was beautiful beyond words she was like a living  in addition to performance bounds learning theorists study the time complexity and feasibility of learning  because of such challenges the effective use of machine learning may take longer to be adopted in other domains  in  a slate magazine article reported that according to researchers in palo alto one percent of wikipedia users are responsible for about half of the sites edits i dont have an opinion on the matter the remainder consists of continents and islands with most of the inhabited land in the northern hemisphere im afraid i cant the behaviour of matter and energy throughout the observable universe appears to follow welldefined physical laws  according to wikipedia readership survey  the average age of wikipedia readers is  with a rough parity between genders as an example for a classification algorithm that filters emails the input would be an incoming email and the output would be the name of the folder in which to file the email it was a very egotistical dream mom you dont know what youre saying that dream has made me realize that i need food much grander than the type i eat here at home bread made of gold \n",
      "the selflearning algorithm updates a memory matrix w was such that in each iteration executes the following machine learning routine it is a system with only one input situation s and only one output action or behavior a  following growing amounts of incoming donations exceeding seven digits in  as recently reported the foundation has reached a threshold of assets which qualify its consideration under the principles of industrial organization economics to indicate the need for the reinvestment of donations into the internal research and development of the foundation anomalies are referred to as outliers novelties noise deviations and exceptions consequently the challenge for wikipedia and those who use it is to save wikipedia and its promise of a free and open collection of all human knowledge amid the conquest of new and old television—how to collect and preserve knowledge when nobody cares to know its not worth it i personally love the phrase you rock which means youre amazing and youre ready to go and if youve liked this video dont forget to give us a thumbs up with a comment unsupervised learning algorithms take a set of data that contains only inputs and find structure in the data like grouping or clustering of data points  two of the recent projects of such internal research and development have been the creation of a visual editor and a largely underutilized thank tab which were developed to ameliorate issues of editor attrition which have met with limited success  they form an essential part of the planetary ecosystem two notable examples of salt lakes are the aral sea and the great salt lake im afraid i have no idea  a  mit study suggests that words used on wikipedia articles end up in scientific publications anyone can view the latest changes to articles and anyone may maintain a watchlist of articles that interest them so they can be notified of any changes  in addition to the pointforpoint disagreement between these two parties others have examined the sample size and selection method used in the nature effort and suggested a flawed study design in natures manual selection of articles in part or in whole for comparison absence of statistical analysis eg of reported confidence intervals and a lack of study statistical power ie owing to small sample size  or  ×  articles compared vs  and  set sizes for britannica and the english wikipedia respectively  methods similar to wikification can in turn be used to find missing links in wikipedia frequent wikipedia critic andrew orlowski commented even when a wikipedia entry is  percent factually correct and those facts have been carefully chosen it all too often reads as if it has been translated from one language to another then into a third passing an illiterate translator at each stage wikipedias initial anarchy integrated democratic and hierarchical elements over time you can say thank heavens is friday or think heavens said saturday weekend discovery editors who fail to comply with wikipedia cultural rituals such as signing talk page comments may implicitly signal that they are wikipedia outsiders increasing the odds that wikipedia insiders may target or discount their contributions more than half of this area is over  meters  feet deep if the hypothesis is less complex than the function then the model has under fitted the data  obvious vandalism is generally easy to remove from wikipedia articles the median time to detect and fix vandalism is a few minutes  in a  opinion piece for wired hossein derakhshan describes wikipedia as one of the last remaining pillars of the open and decentralized web and contrasted its existence as a textbased source of knowledge with social media and social networking services the latter having since colonized the web for televisions values  nature in the broadest sense is the natural physical material world or universe dont take it to heart like seriously dont be so upset dont take it to heart like when did we stop where were we and you have to repeat it because what its the sound that somebody some people mistake with   wikipedia has been widely used as a corpus for linguistic research in computational linguistics information retrieval and natural language processing  the data is known as training data and consists of a set of training examples  wales disputed these claims in  denying the decline and questioning the methodology of the study  the first was a golden nica for digital communities of the annual prix ars electronica contest this came with a € £  grant and an invitation to present at the pae cyberarts festival in austria later that year the ozone layer plays an important role in depleting the amount of ultraviolet uv radiation that reaches the surface terry you actually look a little like that angel though what am i seeing how could you be him you two are so nice in june  wikipedia launched enmobilewikipediaorg an official website for wireless devices while currents in streams are easily observed ponds and lakes possess thermally driven microcurrents and moderate wind driven currents  the question to what is the difference between ml and ai is answered by judea pearl in the book of why starting in january  phase ii wikipedia began running on a php wiki engine with a mysql database this software was custommade for wikipedia by magnus manske the study of streams and waterways in general involves many branches of interdisciplinary natural science and engineering including hydrology fluvial geomorphology aquatic ecology fish biology riparian ecology and others a central application of unsupervised learning is in the field of density estimation in statistics such as finding the probability density function very suave so smart word number four is atrocious atrocious the word atrocious means something really bad horrible terrible cruel appalling offensive atrocious has a latin root called which means fear cruel or terrible some examples of the word atrocious are the recent rape incidents in delhi were atrocious or prisoners are treated  over ninetenths of the total biomass on earth is plant life on which animal life depends very heavily for its existence  wikipedia gained early contributors from nupedia slashdot postings and web search engine indexing  the exact degree and manner of coverage on wikipedia is under constant review by its editors and disagreements are not uncommon see deletionism and inclusionism  in particular in the context of abuse and network intrusion detection the interesting objects are often not rare objects but unexpected bursts of inactivity note  it is a battle between the right to be anonymous in cyberspace and the right to be anonymous in real life meatspace different layers may perform different kinds of transformations on their inputs  critics have stated that wikipedia exhibits systemic bias artificial neurons and edges typically have a weight that adjusts as learning proceeds the evolvement of ai systems raises a lot questions in the realm of ethics and morality translated articles represent only a small portion of articles in most editions in part because those editions do not allow fully automated translation of articles  in  french researchers josé lages of the university of franchecomté in besançon and dima shepelyansky of paul sabatier university in toulouse published a global university ranking based on wikipedia scholarly citations computer programs called bots have often been used to perform simple and repetitive tasks such as correcting common misspellings and stylistic issues or to start articles such as geography entries in a standard format from statistical data there is huge potential for machine learning in health care to provide professionals a great tool to diagnose medicate and even plan recovery paths for patients but this will not happen until the personal biases mentioned previously and these greed biases are addressed the operation of wikipedia depends on mediawiki a custommade free and open source wiki software platform written in php and built upon the mysql database system  the latest version of the android app for wikipedia was released on july   to generally positive reviews scoring over four of a possible five in a poll of approximately  users downloading from google needs update as of update page requests are first passed to a frontend layer of varnish caching servers how about some ice cream language editions were also created with a total of  by the end of  for instance chris anderson the editorinchief of wired magazine wrote in nature that the wisdom of crowds approach of wikipedia will not displace top scientific journals with their rigorous peer review process where did you get the news like how do you species that were unable to adapt to the changing environment and competition from other life forms became extinct some successful applications of deep learning are computer vision and speech recognition dont worry about it whats up  the estimates for reinvestment by industrial organizations into internal research and development was studied by adam jaffe who recorded that the range of  to  annually was to be recommended with highend technology requiring the higher level of support for internal reinvestment  the resultant oxygen accumulated in the atmosphere and gave rise to the ozone layer theres too much on my plate im drowning in work  some activities such as hunting and fishing are used for both sustenance and leisure often by different people following protracted trials and community discussion the english wikipedia introduced the pending changes system in december   for instance metawiki provides important statistics on all language editions of wikipedia and it maintains a list of articles every wikipedia should have due to its generality the field is studied in many other disciplines such as game theory control theory operations research information theory simulationbased optimization multiagent systems swarm intelligence statistics and genetic algorithms a bayesian network belief network or directed acyclic graphical model is a probabilistic graphical model that represents a set of random variables and their conditional independence with a directed acyclic graph dag supervised anomaly detection techniques require a data set that has been labeled as normal and abnormal and involves training a classifier the key difference to many other statistical classification problems is the inherently unbalanced nature of outlier detection properties common to terrestrial organisms plants animals fungi protists archaea and bacteria are that they are cellular carbonandwaterbased with complex organization having a metabolism a capacity to grow respond to stimuli and reproduce a  study conducted by researchers at carnegie mellon university and palo alto research center gave a distribution of topics as well as growth from july  to january  in each field these numbers refer only to the number of articles it is possible for one topic to contain a large number of short articles and another to contain a small number of large ones the first form of life to develop on the earth were microbes and they remained the only form of life until about a billion years ago when multicellular organisms began to appear  a smaller unit of size is called a microecosystem  a popular heuristic method for sparse dictionary learning is the ksvd algorithm the eukaryotic cells possessed by all animals are surrounded by a characteristic extracellular matrix composed of collagen and elastic glycoproteins although humans comprise only a minuscule proportion of the total living biomass on earth the human effect on nature is disproportionately large i for one cant imagine anything more frightening data mining uses many machine learning methods but with different goals on the other hand machine learning also employs data mining methods as unsupervised learning or as a preprocessing step to improve learner accuracy this is my mistake the training examples come from some generally unknown probability distribution considered representative of the space of occurrences and the learner has to build a general model about this space that enables it to produce sufficiently accurate predictions in new cases can you speak a little more slowly please  the handling of media files eg which means which prompts the person to repeat once again the interior remains active with a thick layer of plastic mantle and an ironfilled core that generates a magnetic field reasons why this association exists and what the association consists of are studied by the branch of philosophy called aesthetics humans employ nature for both leisure and economic activities  bots are able to indicate edits from particular accounts or ip address ranges as occurred at the time of the shooting down of the mh jet incident in july  when it was reported edits were made via ips controlled by the russian government yasseri contended that simple reverts or undo operations were not the most significant measure of counterproductive behavior at wikipedia and relied instead on the statistical measurement of detecting revertingreverted pairs or mutually reverting edit pairs  wikipedia cofounder jimmy wales has claimed that wikipedia has largely avoided the problem of fake news because the wikipedia community regularly debates the quality of sources in articles inductive logic programming is particularly useful in bioinformatics and natural language processing decision trees where the target variable can take continuous values typically real numbers are called regression trees this iron core is composed of a solid inner phase and a fluid outer phase can you repeat it because i didnt catch the last word if he wants somebody to repeat the whole phrase again bacterial life is sometimes included in flora and some classifications use the term bacterial flora separately from plant flora average oceanic salinity is around  parts per thousand ppt  and nearly all seawater has a salinity in the range of  to  ppt  the discipline of machine learning employs various approaches to teach computers to accomplish tasks where no fully satisfactory algorithm is available according to a study by pnina shachaf in the journal of documentation the quality of the wikipedia reference desk is comparable to a standard library reference desk with an accuracy of  percent i dont know what day is it when youre watching this video but if its friday for example weekend  on january   sanger proposed on the nupedia mailing list to create a wiki as a feeder project for nupedia and youre like oh that that explains it that explains it  more than  million people viewed the blackout explanation page that temporarily replaced wikipedia content  the term inductive here refers to philosophical induction suggesting a theory to explain observed facts rather than mathematical induction proving a property for all members of a wellordered set even at the extremes the amount of natural environment that is free of discernible human influence is diminishing at an increasingly rapid pace a genetic algorithm ga is a search algorithm and heuristic technique that mimics the process of natural selection using methods such as mutation and crossover to generate new genotypes in the hope of finding good solutions to a given problem  he also suggested the term data science as a placeholder to call the overall field  media organizations philosophy   wikipedia ˌwɪkɪˈpiːdiə listen wikihpeedeeə or ˌwɪki listen wikee is a multilingual opencollaborative online encyclopedia created and maintained by a community of volunteer editors using a wikibased editing system the foundation relies on public contributions and grants to fund its mission if something surprises you you can also say you gotta be kidding me like oh my god id better be going another way to say goodbye in france earlier rendezvous was used by the army to indicate a meeting place for the troops now theres something slightly exciting and secretive about the word rendezvous even now so while you can use rendezvous for any meeting  jimmy wales has described wikipedia as an effort to create and distribute a free encyclopedia of the highest possible quality to every single person on the planet in their own language the latter was started by sanger in an attempt to create a reliable alternative to wikipedia  the main disagreement is whether all of ml is part of ai as this would mean that anyone using ml could claim they are using ai take care from the broadest geophysiological point of view the biosphere is the global ecological system integrating all living beings and their relationships including their interaction with the elements of the lithosphere rocks hydrosphere water and atmosphere air  in  the comedic website collegehumor produced a video sketch named professor wikipedia in which the fictitious professor wikipedia instructs a class with a medley of unverifiable and occasionally absurd statements if we did we would remove it  the largest the english wikipedia has over  million articles  lih alleges there is a serious disagreement among existing contributors on how to resolve this their main success came in the mids with the reinvention of backpropagation others use more traditional peer review such as encyclopedia of life and the online wiki encyclopedias scholarpedia and citizendium there are also salt lakes which are smaller bodies of landlocked saltwater that are not interconnected with the world ocean the original release cover caused controversy and was replaced in some countries  speaking at the asturian parliament in oviedo the city that hosts the awards ceremony jimmy wales praised the work of the asturian language wikipedia users so today were going to learn  new smart words their meanings root words and example sentences so lets get going  hey everyone this is  and youre watching\n"
     ]
    }
   ],
   "source": [
    "print(lang_corpus['English'])"
   ]
  },
  {
   "cell_type": "code",
   "execution_count": 28,
   "metadata": {},
   "outputs": [
    {
     "name": "stdout",
     "output_type": "stream",
     "text": [
      "Danish\n",
      "Dutch\n",
      "English\n",
      "French\n",
      "German\n",
      "Greek\n",
      "Italian\n",
      "Portugeese\n",
      "Spanish\n",
      "Sweedish\n",
      "Turkish\n"
     ]
    }
   ],
   "source": [
    "for lang in lang_corpus.keys():\n",
    "    print(lang)"
   ]
  },
  {
   "cell_type": "code",
   "execution_count": 29,
   "metadata": {},
   "outputs": [],
   "source": [
    "bi_grams = {}\n",
    "for lang in lang_corpus.keys():\n",
    "    bi_grams[lang] = generate_N_grams(lang_corpus[lang],2) "
   ]
  },
  {
   "cell_type": "code",
   "execution_count": 30,
   "metadata": {},
   "outputs": [
    {
     "name": "stdout",
     "output_type": "stream",
     "text": [
      "{'Danish': (['e_', 'r_', 'er', 'de', 't_', '_d', 'n_', 'g_', 'en', '_s', 'et', '_e', '_h', '_a', 'ge', '_o', '_m', 'd_', 're', 'or', 'ig', '_f', 'an', '_v', 'og', 'ed', '_i', 'ar', 'ke', 'te', 'le', 'at', 'me', 'u_', 'el', 'in', '_t', 'du', 'nd', 'ti', 'eg', '_n', 've', '_k', '_b', 'ne', 'vi', 'je', 'ik', 'fo', 'st', '_g', 'l_', '_j', 'm_', 'å_', 's_', 'il', 'sk', 'li', 'di', 'se', 'i_', 'om', 'ng', 'is', 'ka', 'ha', '_p', 'kk', 'hv', 'si', 'be', 'll', '_l', 'id', 'rd', 'al', 'mi', 'es', 'ta', 'k_', 'va', 'rt', 'no', 'em', 'so', 'ri', 'ad', 'un', 'pe', 'ær', 'la', 'mm', 'af', 'he', 'ag', 'så', '_u', 'a_', 'da', 'ma', 'gt', 'på', '_r', 'dt', 'tt', 'tr', 'on', 'nt', 'ni', 'f_', 'ej', 'rs', 'av', 'ra', 'br', 'nn', 'ru', 'sa', 'ld', 'na', 'ør', 'ds', 'ek', 'vo', 'bl', 'od', 'år', 'dr', 'ns', 'lt', 'op', 'væ', 'iv', 'sp', 'fa', 'ro', 'ug', 'ls', 'mo', 'kl', 'ko', 'am', 'ud', 'pr', '_w', 'ss', 'p_', 'ød'], [-3.356, -3.514, -3.618, -3.628, -3.633, -3.722, -3.971, -3.973, -3.98, -4.007, -4.177, -4.244, -4.355, -4.4, -4.402, -4.491, -4.503, -4.524, -4.524, -4.546, -4.565, -4.571, -4.624, -4.662, -4.717, -4.771, -4.771, -4.794, -4.807, -4.811, -4.827, -4.84, -4.865, -4.892, -4.923, -4.933, -4.937, -4.947, -4.951, -4.961, -4.966, -4.985, -5.0, -5.035, -5.045, -5.082, -5.087, -5.104, -5.115, -5.126, -5.137, -5.166, -5.178, -5.178, -5.178, -5.184, -5.208, -5.22, -5.226, -5.258, -5.317, -5.324, -5.338, -5.373, -5.373, -5.373, -5.41, -5.425, -5.44, -5.44, -5.488, -5.512, -5.512, -5.546, -5.546, -5.617, -5.654, -5.713, -5.723, -5.733, -5.754, -5.786, -5.786, -5.808, -5.819, -5.831, -5.854, -5.865, -5.877, -5.889, -5.926, -5.951, -5.964, -5.964, -5.977, -5.99, -6.004, -6.031, -6.045, -6.045, -6.059, -6.074, -6.088, -6.103, -6.103, -6.133, -6.149, -6.165, -6.165, -6.197, -6.214, -6.23, -6.247, -6.247, -6.247, -6.265, -6.265, -6.283, -6.283, -6.283, -6.283, -6.301, -6.319, -6.319, -6.357, -6.416, -6.416, -6.437, -6.437, -6.458, -6.479, -6.479, -6.501, -6.547, -6.57, -6.594, -6.594, -6.619, -6.619, -6.619, -6.619, -6.619, -6.644, -6.644, -6.644, -6.67, -6.67, -6.67, -6.67, -6.697]), 'Dutch': (['n_', 'en', 'e_', 't_', 'er', '_d', 'de', '_e', 'et', 'an', 's_', 'ge', '_i', 'ee', '_h', '_v', '_w', 'r_', 'te', 'ie', 'el', 'aa', 'at', 'he', '_o', 'in', '_m', '_g', 'ij', '_z', '_j', 'd_', 'k_', 'je', 'ik', '_a', 'or', 'oo', 'da', '_b', 'ar', '_n', 'nd', 'al', 'ke', 'me', 've', 'di', 'le', '_t', 're', 'oe', 'ed', 'be', 'we', 'is', 'va', 'ch', '_s', '_k', 'ma', 'st', 'g_', 'rd', 'wa', 'li', 'l_', 'on', 'ti', 'ze', 'ri', 'ni', 'om', 'it', 'ng', 'nt', 'es', 'zi', 'wi', 'm_', 'op', 'ek', 'vo', 'a_', 'pe', 'ne', 'ro', 'na', 'eb', 'ui', 'ls', 'em', 'p_', 'eg', '_l', 'ra', 'ki', 'ig', 'zo', 'la', '_p', 'f_', 'jn', 'ia', 'sc', 'as', 'mi', 'wo', 'rt', 'do', 'ou', 'pr', 'ta', 'ag', 'jk', 'rs', 'of', 'ht', 'ho', 'll', 'ev', 'un', 'ei', 'to', 'br', 'ld', 'ha', 'mo', 'ip', 'rk', 'il', 'hi', 'ns', 'go', 'ic', 'ts', 'ec', 'id', 'se', 'vr', 'ku', 'am', '_r', 'ru', 'nk', 'j_', 'ef', 'kt', 'ur', 'sp'], [-3.185, -3.36, -3.432, -3.543, -3.923, -4.027, -4.155, -4.253, -4.276, -4.308, -4.329, -4.355, -4.379, -4.388, -4.388, -4.401, -4.413, -4.422, -4.496, -4.496, -4.608, -4.613, -4.613, -4.62, -4.673, -4.703, -4.713, -4.719, -4.732, -4.737, -4.785, -4.788, -4.816, -4.819, -4.825, -4.894, -4.897, -4.9, -4.928, -4.931, -4.954, -4.964, -4.984, -5.036, -5.036, -5.043, -5.05, -5.065, -5.102, -5.157, -5.157, -5.19, -5.19, -5.198, -5.198, -5.272, -5.281, -5.294, -5.313, -5.327, -5.337, -5.342, -5.351, -5.366, -5.386, -5.412, -5.422, -5.433, -5.438, -5.476, -5.481, -5.504, -5.521, -5.521, -5.55, -5.581, -5.593, -5.605, -5.605, -5.612, -5.631, -5.637, -5.664, -5.67, -5.677, -5.677, -5.684, -5.754, -5.784, -5.792, -5.807, -5.807, -5.838, -5.862, -5.904, -5.904, -5.912, -5.912, -5.938, -5.947, -5.965, -5.983, -6.002, -6.002, -6.049, -6.059, -6.069, -6.089, -6.131, -6.142, -6.142, -6.153, -6.163, -6.175, -6.186, -6.197, -6.232, -6.232, -6.244, -6.256, -6.268, -6.268, -6.28, -6.292, -6.305, -6.305, -6.318, -6.344, -6.357, -6.398, -6.398, -6.412, -6.426, -6.44, -6.485, -6.485, -6.485, -6.5, -6.5, -6.515, -6.515, -6.531, -6.531, -6.531, -6.563, -6.58, -6.58, -6.58, -6.58, -6.597]), 'English': (['e_', 's_', '_t', '_a', 'th', 'in', 'n_', 'd_', 'he', 't_', 'er', '_i', 'an', 're', '_o', 'on', 'ed', 'at', '_s', 'ti', 'y_', '_w', 'or', 'es', 'en', 'te', 'ar', 'r_', '_c', 'a_', 'al', 'ng', 'nd', 'it', 'is', '_m', 'nt', 'di', 'le', 'o_', 'to', 'f_', 'se', 'g_', 'of', '_p', 'ou', 'ic', 'as', '_b', '_f', 'st', 'io', 'ea', 'ha', '_e', 'co', 'me', 've', 'l_', '_r', '_l', 'pe', '_d', 'ne', 'de', 'ro', 'ma', 'ia', 'li', 'ri', 'h_', 'ra', 'wi', '_h', 'om', 'ce', 'ca', 'la', 'ch', 'si', 'hi', '_n', 'll', 'ns', 'ni', 'fo', 'ta', 'el', 'ac', 'ec', 'pr', 'ly', 'be', 'ge', 'us', 'ki', 'ur', 'so', 'rt', 'ik', 'rs', 'ct', 'et', 'nc', 'tr', '_g', 'm_', '_u', 'ot', '_y', 'ut', 'no', 'ip', 'yo', 'un', 'ts', 'im', 'ie', 'ss', 'mo', 'cl', 'lo', 'na', 'il', 'su', 'wa', 'em', 'ee', 'ci', 'rn', 'ai', 'vi', 'am', 'if', 'iv', 'ol', 'tu', 'mi', 'mp', 'po', 'u_', 'ho', 'pl', 'ul', 'fi', 'ow', 'pa', 'wh', 'we'], [-3.528, -3.728, -3.814, -3.846, -3.98, -4.057, -4.199, -4.201, -4.263, -4.321, -4.352, -4.353, -4.369, -4.372, -4.431, -4.455, -4.486, -4.494, -4.54, -4.575, -4.584, -4.601, -4.682, -4.691, -4.703, -4.711, -4.727, -4.73, -4.749, -4.84, -4.842, -4.85, -4.869, -4.87, -4.943, -4.967, -4.974, -5.001, -5.004, -5.052, -5.061, -5.063, -5.063, -5.075, -5.076, -5.082, -5.082, -5.094, -5.112, -5.116, -5.124, -5.125, -5.131, -5.146, -5.181, -5.22, -5.222, -5.244, -5.244, -5.274, -5.275, -5.278, -5.279, -5.285, -5.343, -5.35, -5.351, -5.354, -5.354, -5.36, -5.384, -5.416, -5.419, -5.424, -5.469, -5.481, -5.518, -5.555, -5.586, -5.592, -5.603, -5.611, -5.624, -5.637, -5.639, -5.677, -5.719, -5.719, -5.727, -5.738, -5.742, -5.749, -5.751, -5.757, -5.76, -5.777, -5.782, -5.789, -5.791, -5.793, -5.8, -5.816, -5.826, -5.859, -5.866, -5.907, -5.909, -5.919, -5.922, -5.922, -5.922, -5.935, -5.946, -5.981, -5.992, -5.997, -6.017, -6.037, -6.055, -6.058, -6.067, -6.073, -6.073, -6.079, -6.091, -6.109, -6.144, -6.177, -6.181, -6.201, -6.218, -6.225, -6.236, -6.243, -6.247, -6.247, -6.268, -6.268, -6.272, -6.279, -6.283, -6.283, -6.283, -6.283, -6.287, -6.306, -6.321, -6.325, -6.329, -6.356]), 'French': (['e_', 's_', '_d', 'es', 't_', '_l', 'en', 'on', 'de', '_p', 'le', 'nt', 're', '_c', 'n_', '_e', '_s', 'ti', '_a', 'ou', 'a_', 'r_', 'qu', 'te', 'an', 'ur', 'is', 'er', 'la', 'me', 'ue', 'ai', 'co', 'ce', 'ne', 'it', 'in', 'at', 'ns', 'di', '_m', 'se', 'ar', 'et', 'un', 'pa', 'us', 'io', 'ie', 'st', 'li', '_q', '_v', '_n', 've', 'tr', 'ra', '_u', 'u_', 'eu', 'si', 'i_', 'el', 'ri', 'ut', 'pr', '_t', 'au', 'po', '_r', 'da', 'em', 'ma', 'or', 'é_', 'vo', 'na', 'om', 'nc', 'il', 'al', 'ui', 'ta', 'tu', '_f', 'ro', '_i', 'll', 'pe', 'à_', 'ir', 'nd', 'rs', 'té', 'lo', 'so', 'ia', 'su', 'ss', 'rt', '_à', '_o', 'ré', 'sa', 'as', 'ic', '_w', 'éd', 'oi', '_é', 'mo', 'l_', 'ci', 'pl', '_j', 'pé', 'wi', 'ni', 'ik', 'ki', 'ée', 'iq', 'du', 'dé', 'mm', 'ge', 'lu', 'ch', 'av', 'fi', 'no', 'nn', 'ip', 'ec', 'ét', 'to', 'je', 'ez', 'ct', 'op', 'vi', 'im', 'ac', 'x_', '_b', 'ap', 'ca', 'és', 'ot', 'if'], [-3.053, -3.351, -3.758, -3.904, -3.96, -4.028, -4.143, -4.216, -4.225, -4.233, -4.257, -4.301, -4.356, -4.408, -4.411, -4.5, -4.555, -4.587, -4.659, -4.663, -4.668, -4.668, -4.671, -4.739, -4.774, -4.776, -4.789, -4.79, -4.805, -4.845, -4.86, -4.899, -4.993, -5.023, -5.028, -5.039, -5.053, -5.056, -5.056, -5.059, -5.093, -5.107, -5.128, -5.137, -5.147, -5.158, -5.158, -5.183, -5.196, -5.197, -5.247, -5.25, -5.253, -5.263, -5.267, -5.275, -5.332, -5.389, -5.395, -5.397, -5.411, -5.424, -5.424, -5.449, -5.457, -5.48, -5.482, -5.484, -5.535, -5.546, -5.548, -5.551, -5.564, -5.567, -5.571, -5.59, -5.609, -5.612, -5.621, -5.631, -5.639, -5.671, -5.671, -5.684, -5.684, -5.695, -5.713, -5.719, -5.743, -5.746, -5.746, -5.757, -5.757, -5.777, -5.78, -5.783, -5.789, -5.797, -5.797, -5.806, -5.812, -5.815, -5.851, -5.886, -5.902, -5.905, -5.935, -5.945, -5.976, -5.976, -5.993, -6.007, -6.015, -6.033, -6.033, -6.033, -6.037, -6.048, -6.052, -6.052, -6.055, -6.063, -6.074, -6.074, -6.078, -6.082, -6.098, -6.102, -6.118, -6.163, -6.171, -6.175, -6.175, -6.184, -6.193, -6.197, -6.228, -6.241, -6.264, -6.278, -6.283, -6.283, -6.307, -6.327, -6.332, -6.332, -6.357, -6.362, -6.367, -6.367]), 'German': (['n_', 'en', 'e_', 'ch', 't_', 'er', '_s', '_d', 's_', 'r_', 'ie', 'ei', '_w', 'in', 'ic', '_i', '_e', 'h_', 'de', 'nd', 'ge', 'st', 'te', 'ne', 'as', 'es', 'be', 'si', '_a', '_m', 'un', 'an', 'd_', 'da', 'se', '_g', '_n', 'he', 're', '_h', 'u_', 'di', '_u', 'is', '_b', 'ss', 'nn', '_v', 'we', '_k', 'm_', 'ht', 'ha', 'au', 'wa', 'le', 'ar', 'me', 'wi', 'it', 'el', '_z', 'ma', 'li', 'rt', 'sc', 'em', 'sa', 'ir', 'zu', 'eh', 'al', '_f', 'ag', 'ni', 'mi', 'et', 'll', 'ut', 'ab', 'du', 've', 'um', 'hr', 'l_', '_t', 'so', 'on', 'at', '_l', 'ra', 'ng', 'ke', 'or', '_o', 'us', 'ac', 'nt', 'ka', '_j', 'ih', 'ig', 'na', 'rs', 'tz', 'o_', 'eu', 'vo', 'ls', 'mm', 'ns', 'ön', 'bi', 'ta', 'tt', 'g_', 'wo', 'je', 'ol', 'fr', 'sp', '_p', 'ti', 'uf', 'f_', 'kl', 'rd', 'nk', 'ed', 'tu', 'ze', 'kö', 'ür', 'od', 'la', 'am', 'lt', '_r', 'ri', 'rw', 'il', 'ck', 'eb', 'im', 'fe', 'fü', 'tr', 'eg', 'gu', 'rg'], [-3.267, -3.432, -3.598, -3.709, -3.725, -3.794, -3.845, -3.889, -4.008, -4.038, -4.048, -4.108, -4.139, -4.173, -4.242, -4.259, -4.267, -4.362, -4.368, -4.437, -4.449, -4.534, -4.548, -4.561, -4.582, -4.585, -4.596, -4.635, -4.707, -4.747, -4.784, -4.793, -4.797, -4.877, -4.97, -4.98, -4.991, -5.001, -5.006, -5.022, -5.039, -5.05, -5.055, -5.061, -5.072, -5.106, -5.118, -5.136, -5.148, -5.154, -5.186, -5.198, -5.258, -5.258, -5.264, -5.278, -5.335, -5.343, -5.358, -5.412, -5.412, -5.42, -5.436, -5.436, -5.444, -5.469, -5.486, -5.495, -5.503, -5.521, -5.539, -5.548, -5.557, -5.557, -5.566, -5.594, -5.633, -5.643, -5.653, -5.653, -5.663, -5.684, -5.716, -5.759, -5.782, -5.794, -5.817, -5.829, -5.841, -5.854, -5.866, -5.879, -5.891, -5.904, -5.917, -5.931, -5.971, -6.0, -6.089, -6.089, -6.105, -6.121, -6.121, -6.137, -6.171, -6.171, -6.188, -6.188, -6.188, -6.223, -6.223, -6.223, -6.241, -6.241, -6.278, -6.278, -6.316, -6.316, -6.316, -6.336, -6.336, -6.336, -6.356, -6.377, -6.441, -6.441, -6.464, -6.464, -6.464, -6.487, -6.487, -6.51, -6.51, -6.51, -6.535, -6.535, -6.559, -6.559, -6.559, -6.559, -6.585, -6.611, -6.637, -6.665, -6.693, -6.722, -6.722, -6.752, -6.752, -6.752]), 'Greek': (['α_', 'ι_', 'ς_', '_τ', 'ε_', '_π', 'να', '_σ', '_κ', 'ν_', 'ο_', '_α', '_ε', '_μ', 'τε', 'αι', 'πο', 'εί', 'ου', 'το', 'ει', '_ν', 'κα', 'η_', 'αν', 'τα', 'ια', 'στ', 'τι', 'μα', 'ό_', 'υ_', 'ικ', '_δ', 'σε', 'τη', 'ετ', 'ά_', 'ίν', '_ό', '_έ', 'κά', 'με', 'ρα', 'σα', 'ή_', '_γ', 'ορ', 'νε', 'δε', 'εν', 'ότ', 'ρε', 'ω_', 'οι', 'ας', 'αρ', 'ερ', 'ατ', 'μο', 'έν', 'τό', 'ρο', 'ρι', 'απ', 'ίτ', '_λ', 'νο', '_θ', 'υτ', 'γι', 'ντ', '_ή', 'πε', 'μπ', 'πα', '_φ', 'ού', 'ση', 'αυ', 'αλ', 'πό', 'ος', 'λε', 'πρ', 'ις', 'ί_', '_ο', 'λο', 'άν', 'ίσ', 'μέ', '_β', 'ον', 'μι', 'χε', 'θα', 'ιο', 'ην', 'ισ', 'δι', 'ρά', 'λλ', 'ολ', 'αί', '_χ', 'κο', 'λέ', 'έρ', 'συ', '_ά', 'ύ_', 'ης', 'ώ_', 'ασ', 'ήσ', 'αγ', 'ημ', 'λά', 'τρ', '_η', 'σο', 'μη', 'ες', 'κό', 'έξ', 'τή', 'οπ', 'υν', 'λύ', 'έχ', 'υπ', 'ησ', 'ητ', 'τά', 'σι', 'ομ', 'θε', 'λη', 'ρό', 'άσ', 'ία', 'ακ', 'ελ', 'χρ', 'επ', 'γμ', 'άλ', 'άτ', 'νη'], [-3.57, -3.75, -3.785, -4.041, -4.041, -4.143, -4.199, -4.24, -4.249, -4.256, -4.261, -4.28, -4.304, -4.309, -4.342, -4.373, -4.406, -4.436, -4.448, -4.512, -4.518, -4.674, -4.692, -4.699, -4.791, -4.795, -4.803, -4.844, -4.844, -4.966, -4.971, -4.995, -5.04, -5.04, -5.072, -5.093, -5.173, -5.178, -5.227, -5.233, -5.239, -5.252, -5.291, -5.298, -5.298, -5.325, -5.374, -5.396, -5.403, -5.41, -5.426, -5.426, -5.449, -5.449, -5.456, -5.456, -5.464, -5.464, -5.48, -5.496, -5.513, -5.529, -5.555, -5.555, -5.59, -5.59, -5.599, -5.608, -5.635, -5.654, -5.664, -5.664, -5.664, -5.683, -5.683, -5.693, -5.693, -5.713, -5.713, -5.713, -5.744, -5.744, -5.744, -5.809, -5.809, -5.809, -5.842, -5.842, -5.854, -5.866, -5.878, -5.889, -5.902, -5.926, -5.926, -5.939, -5.952, -5.965, -5.978, -5.991, -5.991, -6.018, -6.032, -6.032, -6.06, -6.06, -6.06, -6.074, -6.089, -6.104, -6.104, -6.119, -6.119, -6.134, -6.134, -6.165, -6.165, -6.197, -6.197, -6.214, -6.214, -6.214, -6.231, -6.231, -6.248, -6.248, -6.248, -6.265, -6.265, -6.265, -6.265, -6.301, -6.319, -6.319, -6.319, -6.338, -6.338, -6.338, -6.338, -6.338, -6.357, -6.376, -6.396, -6.396, -6.416, -6.416, -6.416, -6.437, -6.437, -6.437]), 'Italian': (['e_', 'o_', 'i_', 'a_', '_d', '_s', 'di', '_c', 'on', '_p', 'en', 're', 'er', '_a', 'to', 'ti', 'co', 'nt', 'te', 'in', '_i', 'at', 'ta', '_l', 'no', 'n_', 'al', 'ra', 'la', 'le', '_e', 'ar', 'li', 'ne', 'ri', 'me', 'st', 'io', 'ic', 'un', 'an', 'de', 'es', 'ia', '_m', 'pe', 'ro', 'or', 'el', 'pr', '_n', 'ch', 'se', 'll', 'si', '_u', 'so', 'nd', 'l_', 'ci', 'ma', 'ca', 'tt', '_t', 'na', 'he', 'qu', 'ol', 'it', 'tr', 'ni', 'il', 'om', 'da', 'is', '_q', '_f', 'ed', '_v', '_r', 'zi', 'ss', 'po', 'ce', 'do', 'ut', 'mi', 'sa', 'os', 'am', 'lo', 've', 'ua', 'im', '_o', 'et', 'vo', 'su', 'pa', 'mo', 'em', 'ie', 'mp', 'pi', 'è_', 'r_', 'tu', 'as', 'lt', '_g', 'gi', '_è', 'sc', 'vi', 'az', 'nc', 'ue', '_w', 'ip', 'pp', 'fi', 'rt', 'uo', 'ap', 'cu', 'iv', 'oc', 'wi', 'va', 'ki', 'gl', 'ik', 'op', 'pu', 'av', 'ng', 'ge', '_h', 'ac', 'ot', 'fo', 'eg', 'og', 'ui', 'us', 'fa', 'ig', '_b', 'bi', 'cc'], [-3.259, -3.459, -3.476, -3.566, -4.008, -4.129, -4.143, -4.156, -4.212, -4.298, -4.344, -4.384, -4.414, -4.425, -4.475, -4.507, -4.53, -4.582, -4.587, -4.606, -4.607, -4.633, -4.725, -4.738, -4.738, -4.742, -4.744, -4.805, -4.824, -4.827, -4.841, -4.846, -4.85, -4.863, -4.864, -4.868, -4.876, -4.9, -4.905, -4.933, -4.946, -4.957, -4.97, -4.972, -4.983, -4.994, -4.996, -5.008, -5.011, -5.025, -5.045, -5.061, -5.063, -5.075, -5.111, -5.126, -5.161, -5.2, -5.207, -5.212, -5.223, -5.282, -5.285, -5.313, -5.324, -5.337, -5.361, -5.378, -5.392, -5.398, -5.398, -5.401, -5.427, -5.427, -5.465, -5.471, -5.484, -5.484, -5.484, -5.49, -5.49, -5.512, -5.518, -5.535, -5.568, -5.578, -5.591, -5.605, -5.609, -5.609, -5.634, -5.67, -5.682, -5.682, -5.693, -5.789, -5.793, -5.81, -5.815, -5.836, -5.863, -5.872, -5.872, -5.881, -5.895, -5.953, -5.953, -5.958, -5.963, -5.968, -5.968, -5.968, -5.978, -5.994, -5.999, -6.004, -6.004, -6.057, -6.057, -6.068, -6.08, -6.08, -6.097, -6.102, -6.114, -6.143, -6.18, -6.205, -6.212, -6.212, -6.218, -6.218, -6.257, -6.257, -6.285, -6.292, -6.299, -6.327, -6.334, -6.341, -6.341, -6.356, -6.356, -6.356, -6.364, -6.364, -6.379, -6.394, -6.402, -6.402]), 'Portugeese': (['o_', 'a_', 'e_', 's_', '_e', '_d', '_a', 'de', '_p', 'es', 'm_', '_c', 'do', 'os', 'nt', 'en', '_s', 'er', 'co', 'te', 'ra', 'ar', 're', '_o', 'r_', 'di', 'as', 'qu', 'em', 'da', 'or', 'ia', 'ta', 'is', '_m', 'al', 'ad', 'ma', 'ue', 'se', '_n', 'to', '_q', 'ão', 'an', 'in', '_u', 'me', 'ri', 'st', 'po', '_t', 'on', '_v', 'ti', 'um', 'om', 'u_', '_f', 'ic', 'ca', 'pa', 'ci', 'na', 'ro', 'nd', 'am', '_i', 'it', 'ou', 'so', 'el', 'pe', 've', 'tr', 'ss', 'pr', '_r', 'vo', '_w', 'li', 'la', 'sa', 'oc', 'id', 'le', 'io', 'wi', 'ki', 'ik', 'mo', 'no', 'ip', 'ua', 'nc', 'rt', 'ig', 'éd', 'at', 'pé', 'ed', 'l_', '_l', 'ai', 'si', 'cê', 'ei', 'ê_', 'ce', 'us', 'eu', 'im', 'un', 'ui', 'go', 'lo', 'ec', 'ni', 'su', 'fo', '_b', 'fi', 'ns', 'vi', 'aç', 'gu', 'mi', 'ir', 'et', 'çã', 'ut', 'od', 'mp', 'i_', 'tu', 'é_', 'va', 'iv', 'nã', 'ob', 'ne', 'br', 'av', '_é', 'ac', 'iz', 'cr', 'mu', 'ol', 'ze'], [-3.388, -3.458, -3.471, -3.618, -3.934, -3.95, -4.162, -4.21, -4.23, -4.278, -4.327, -4.424, -4.514, -4.567, -4.579, -4.582, -4.582, -4.582, -4.588, -4.616, -4.624, -4.658, -4.677, -4.709, -4.711, -4.73, -4.744, -4.762, -4.77, -4.787, -4.815, -4.827, -4.877, -4.939, -4.949, -4.975, -4.979, -4.982, -4.984, -4.991, -4.991, -5.008, -5.045, -5.051, -5.064, -5.074, -5.087, -5.109, -5.124, -5.149, -5.159, -5.164, -5.176, -5.183, -5.225, -5.241, -5.248, -5.298, -5.303, -5.308, -5.341, -5.351, -5.364, -5.388, -5.388, -5.393, -5.409, -5.409, -5.412, -5.42, -5.457, -5.471, -5.534, -5.563, -5.572, -5.579, -5.582, -5.592, -5.592, -5.595, -5.598, -5.618, -5.628, -5.649, -5.67, -5.692, -5.695, -5.706, -5.706, -5.71, -5.771, -5.775, -5.803, -5.811, -5.819, -5.836, -5.848, -5.848, -5.865, -5.87, -5.9, -5.905, -5.914, -5.937, -5.946, -5.955, -5.96, -5.97, -5.994, -5.999, -6.004, -6.014, -6.044, -6.044, -6.049, -6.06, -6.114, -6.119, -6.125, -6.147, -6.153, -6.159, -6.159, -6.165, -6.165, -6.2, -6.212, -6.218, -6.224, -6.231, -6.231, -6.237, -6.249, -6.269, -6.269, -6.269, -6.275, -6.282, -6.288, -6.315, -6.335, -6.335, -6.363, -6.37, -6.385, -6.385, -6.392, -6.414, -6.414, -6.452]), 'Spanish': (['e_', 'a_', 's_', 'o_', '_e', 'en', 'n_', 'es', '_d', 'de', '_p', '_a', '_l', '_c', '_s', 'os', 'ar', 'er', 're', 'la', 'nt', 'as', 'te', 'ue', 'ci', 'co', 'ra', 'r_', 'on', 'do', 'or', 'di', 'ta', 'st', 'ad', 'un', 'qu', 'an', 'lo', '_m', 'l_', 'al', 'to', 'el', 'ed', 'ic', 'ia', '_u', '_t', 'pe', '_q', 'se', 'ca', 'da', 'in', 'si', 'ro', 'na', 'ti', 'po', 'no', 'ie', 'y_', 'me', 'ri', 'ac', 'io', 'ma', '_n', 'pa', 'tr', 'pr', 'so', 'nd', 'id', '_y', 'om', 'ne', 'le', 'is', '_i', 'ec', '_o', 'mo', 'li', 'ab', 'ió', 'cu', 'sa', 'ón', 'su', '_r', 'mi', 'nc', '_f', 'rt', '_h', 'it', 'ni', '_v', 'em', '_w', 'am', 'us', 'ip', 'ce', 'im', 'wi', 'pu', 'ik', 'ki', 'br', 'ha', 've', 'mp', 'ua', 'gu', '\\u200b_', 'ul', 'ol', 'fi', 'tu', 'ba', 'ir', 'vi', 'ui', 'od', 'at', 'ct', 'za', '_b', '_\\u200b', 'rm', 'oc', 'ig', 'eg', 'má', 'ot', 'ns', 'bi', '_g', 'ob', 'll', 'd_', 'bl', 'ía', 'mu', 'rs', 'op', 'go'], [-3.508, -3.53, -3.541, -3.652, -3.823, -3.923, -3.996, -4.033, -4.059, -4.07, -4.279, -4.365, -4.394, -4.409, -4.434, -4.475, -4.551, -4.558, -4.593, -4.608, -4.638, -4.649, -4.655, -4.662, -4.694, -4.702, -4.703, -4.749, -4.756, -4.757, -4.799, -4.821, -4.856, -4.856, -4.907, -4.914, -4.928, -4.93, -4.933, -4.965, -4.973, -4.991, -5.003, -5.023, -5.084, -5.088, -5.088, -5.119, -5.133, -5.141, -5.167, -5.172, -5.18, -5.201, -5.212, -5.221, -5.223, -5.225, -5.243, -5.284, -5.291, -5.303, -5.31, -5.33, -5.347, -5.37, -5.375, -5.403, -5.433, -5.438, -5.443, -5.452, -5.452, -5.46, -5.506, -5.511, -5.514, -5.523, -5.544, -5.547, -5.566, -5.578, -5.581, -5.6, -5.623, -5.656, -5.667, -5.68, -5.691, -5.698, -5.698, -5.705, -5.712, -5.771, -5.783, -5.794, -5.794, -5.806, -5.806, -5.81, -5.888, -5.892, -5.914, -5.936, -5.977, -5.977, -6.006, -6.006, -6.011, -6.015, -6.015, -6.02, -6.035, -6.123, -6.162, -6.167, -6.19, -6.208, -6.231, -6.237, -6.25, -6.262, -6.281, -6.306, -6.333, -6.333, -6.346, -6.346, -6.353, -6.388, -6.395, -6.416, -6.416, -6.423, -6.423, -6.445, -6.453, -6.453, -6.453, -6.468, -6.468, -6.468, -6.476, -6.491, -6.491, -6.491, -6.507, -6.515, -6.539, -6.548]), 'Sweedish': (['r_', 't_', 'a_', 'n_', 'er', 'ar', '_s', 'en', '_a', 'de', '_d', 'an', 'e_', 'tt', 'at', 'et', '_o', '_f', 'in', 'ra', 'te', '_i', '_m', 'g_', 'll', '_e', 'ti', 'm_', 'om', 'ta', '_h', '_v', 'ik', 's_', 'ka', 'ig', 'di', 'ör', '_t', 'nd', 'ed', 'är', '_k', 'sk', 're', 'st', 'oc', '_b', 'la', 'li', 'el', 'na', 'or', 'h_', 'ng', 'ch', '_p', '_ä', 'fö', 'd_', 'ri', 'pe', 'on', 'le', 'me', 'ge', 'va', 'nt', 'ki', 'i_', 'å_', 'il', 'ag', 'ad', 'l_', '_g', 'is', 'so', '_n', 'u_', 've', 'ns', 'rt', 'ga', 'ne', 'än', 'da', 'du', 'ia', '_w', '_l', '_u', 'al', 'ha', 'ma', 'wi', 'se', 'ja', 'as', 'sa', '_j', 'ck', 'it', 'ke', 'rs', 'vi', 'be', 'es', 'ip', 'v_', 'av', 'kt', '_r', 'si', 'vä', 'nn', 'pr', 'ni', 'kl', 'på', 'ss', 'tr', 'rå', 'id', 'io', 'ko', 'pp', 'k_', 'rd', 'sä', 'äl', 'em', 'he', 'am', 'mm', 'un', 'ut', 'rn', 'ro', 'gr', 'mi', 'to', 'fr', 'åg', 'dr', 'ts', 'go', 'sp', 'ät', 'up'], [-3.596, -3.73, -3.861, -3.951, -3.975, -4.105, -4.111, -4.153, -4.179, -4.187, -4.224, -4.358, -4.413, -4.483, -4.546, -4.547, -4.61, -4.62, -4.65, -4.664, -4.676, -4.757, -4.79, -4.792, -4.794, -4.8, -4.814, -4.876, -4.876, -4.889, -4.894, -4.905, -4.916, -4.948, -4.957, -4.983, -5.005, -5.014, -5.034, -5.042, -5.047, -5.055, -5.078, -5.091, -5.099, -5.099, -5.11, -5.155, -5.16, -5.172, -5.183, -5.234, -5.238, -5.238, -5.253, -5.266, -5.288, -5.291, -5.295, -5.305, -5.311, -5.325, -5.328, -5.328, -5.328, -5.355, -5.366, -5.373, -5.394, -5.401, -5.42, -5.424, -5.442, -5.446, -5.446, -5.477, -5.493, -5.493, -5.513, -5.538, -5.542, -5.542, -5.55, -5.554, -5.559, -5.567, -5.567, -5.567, -5.602, -5.611, -5.652, -5.657, -5.662, -5.666, -5.671, -5.676, -5.686, -5.695, -5.71, -5.715, -5.72, -5.735, -5.735, -5.756, -5.756, -5.777, -5.782, -5.798, -5.798, -5.798, -5.803, -5.865, -5.9, -5.9, -5.9, -5.949, -5.975, -5.981, -6.008, -6.021, -6.028, -6.062, -6.091, -6.106, -6.128, -6.158, -6.174, -6.206, -6.206, -6.214, -6.222, -6.231, -6.256, -6.256, -6.265, -6.265, -6.273, -6.282, -6.291, -6.3, -6.309, -6.318, -6.318, -6.327, -6.345, -6.345, -6.374, -6.384, -6.384, -6.393]), 'Turkish': (['n_', '_b', 'r_', 'e_', 'a_', 'in', 'i_', 'an', 'er', 'la', 'ar', 'bi', 'ir', 'de', 'le', 'ma', 'en', '_k', '_d', '_v', 'da', '_a', 'me', '_s', 'ın', 'li', 'ya', '_y', 'k_', 'm_', 'di', '_i', 'ı_', 'il', '_g', 'el', 'u_', 'ni', 'ak', 'ri', '_o', 'nd', 've', 'un', 'si', 'ra', 'ed', 'ek', 'am', '_e', 'or', 'ka', 'al', 'bu', 'ad', 'iy', 'nı', '_h', 'ol', 'ik', 'ki', 'im', 'z_', '_t', 'na', 'te', 'sa', 'yo', 'ne', 'ay', 'nu', 'dı', 'ği', 'ey', 'lı', 'ye', '_m', 'ta', 'ha', 'sı', 'iz', 're', 'ır', 'is', 'nl', 'lm', 'ge', 'ba', 'em', 'eğ', 'ti', 'kl', 'rı', 'ul', 'rd', 'du', 'ıl', 'ke', 'et', '_n', 'gi', 'ım', 'tı', 'll', 'yi', 'az', '_ç', 'iş', 'um', 'rs', 'aş', '_ş', 'se', 'ru', 'on', 'mi', 'ld', 'es', 'as', 'ce', 'kı', 'kt', 'at', 'be', 'vi', 'yl', 'iç', 'ur', 'pe', 'iğ', 'şe', 'ab', 'va', 'ız', 'ün', 'lu', 'üz', 'rl', 'ok', 'ip', 'ku', 'çi', 'l_', 'ap', 'ör', 'ze', 'ev', 'ca', 'ço', 'so'], [-3.864, -3.959, -4.017, -4.022, -4.062, -4.193, -4.25, -4.258, -4.279, -4.362, -4.38, -4.387, -4.408, -4.445, -4.485, -4.579, -4.588, -4.599, -4.64, -4.693, -4.693, -4.712, -4.735, -4.738, -4.748, -4.772, -4.779, -4.779, -4.785, -4.796, -4.806, -4.828, -4.832, -4.832, -4.85, -4.895, -4.931, -4.951, -4.955, -4.964, -4.964, -5.028, -5.05, -5.097, -5.111, -5.125, -5.13, -5.14, -5.16, -5.165, -5.17, -5.175, -5.201, -5.212, -5.223, -5.228, -5.278, -5.278, -5.278, -5.278, -5.289, -5.301, -5.301, -5.301, -5.318, -5.342, -5.405, -5.411, -5.425, -5.451, -5.458, -5.458, -5.465, -5.479, -5.486, -5.493, -5.493, -5.493, -5.514, -5.581, -5.612, -5.628, -5.636, -5.636, -5.653, -5.661, -5.686, -5.712, -5.712, -5.721, -5.721, -5.73, -5.739, -5.748, -5.748, -5.766, -5.776, -5.776, -5.776, -5.776, -5.776, -5.794, -5.814, -5.823, -5.823, -5.823, -5.823, -5.833, -5.833, -5.843, -5.884, -5.895, -5.916, -5.916, -5.949, -5.949, -5.96, -5.96, -5.96, -5.982, -5.994, -5.994, -6.006, -6.006, -6.03, -6.03, -6.054, -6.066, -6.079, -6.105, -6.105, -6.118, -6.118, -6.118, -6.131, -6.131, -6.131, -6.144, -6.144, -6.186, -6.2, -6.2, -6.2, -6.229, -6.229, -6.244, -6.244, -6.244, -6.244, -6.259])}\n",
      "150\n"
     ]
    }
   ],
   "source": [
    "print(bi_grams)\n",
    "print(len(bi_grams[\"Danish\"][0]))"
   ]
  },
  {
   "cell_type": "code",
   "execution_count": 31,
   "metadata": {},
   "outputs": [
    {
     "data": {
      "text/html": [
       "<div>\n",
       "<style scoped>\n",
       "    .dataframe tbody tr th:only-of-type {\n",
       "        vertical-align: middle;\n",
       "    }\n",
       "\n",
       "    .dataframe tbody tr th {\n",
       "        vertical-align: top;\n",
       "    }\n",
       "\n",
       "    .dataframe thead th {\n",
       "        text-align: right;\n",
       "    }\n",
       "</style>\n",
       "<table border=\"1\" class=\"dataframe\">\n",
       "  <thead>\n",
       "    <tr style=\"text-align: right;\">\n",
       "      <th></th>\n",
       "      <th>Language</th>\n",
       "      <th>bigrams</th>\n",
       "    </tr>\n",
       "  </thead>\n",
       "  <tbody>\n",
       "    <tr>\n",
       "      <th>0</th>\n",
       "      <td>Danish</td>\n",
       "      <td>([e_, r_, er, de, t_, _d, n_, g_, en, _s, et, ...</td>\n",
       "    </tr>\n",
       "    <tr>\n",
       "      <th>1</th>\n",
       "      <td>Dutch</td>\n",
       "      <td>([n_, en, e_, t_, er, _d, de, _e, et, an, s_, ...</td>\n",
       "    </tr>\n",
       "    <tr>\n",
       "      <th>2</th>\n",
       "      <td>English</td>\n",
       "      <td>([e_, s_, _t, _a, th, in, n_, d_, he, t_, er, ...</td>\n",
       "    </tr>\n",
       "    <tr>\n",
       "      <th>3</th>\n",
       "      <td>French</td>\n",
       "      <td>([e_, s_, _d, es, t_, _l, en, on, de, _p, le, ...</td>\n",
       "    </tr>\n",
       "    <tr>\n",
       "      <th>4</th>\n",
       "      <td>German</td>\n",
       "      <td>([n_, en, e_, ch, t_, er, _s, _d, s_, r_, ie, ...</td>\n",
       "    </tr>\n",
       "    <tr>\n",
       "      <th>5</th>\n",
       "      <td>Greek</td>\n",
       "      <td>([α_, ι_, ς_, _τ, ε_, _π, να, _σ, _κ, ν_, ο_, ...</td>\n",
       "    </tr>\n",
       "    <tr>\n",
       "      <th>6</th>\n",
       "      <td>Italian</td>\n",
       "      <td>([e_, o_, i_, a_, _d, _s, di, _c, on, _p, en, ...</td>\n",
       "    </tr>\n",
       "    <tr>\n",
       "      <th>7</th>\n",
       "      <td>Portugeese</td>\n",
       "      <td>([o_, a_, e_, s_, _e, _d, _a, de, _p, es, m_, ...</td>\n",
       "    </tr>\n",
       "    <tr>\n",
       "      <th>8</th>\n",
       "      <td>Spanish</td>\n",
       "      <td>([e_, a_, s_, o_, _e, en, n_, es, _d, de, _p, ...</td>\n",
       "    </tr>\n",
       "    <tr>\n",
       "      <th>9</th>\n",
       "      <td>Sweedish</td>\n",
       "      <td>([r_, t_, a_, n_, er, ar, _s, en, _a, de, _d, ...</td>\n",
       "    </tr>\n",
       "    <tr>\n",
       "      <th>10</th>\n",
       "      <td>Turkish</td>\n",
       "      <td>([n_, _b, r_, e_, a_, in, i_, an, er, la, ar, ...</td>\n",
       "    </tr>\n",
       "  </tbody>\n",
       "</table>\n",
       "</div>"
      ],
      "text/plain": [
       "      Language                                            bigrams\n",
       "0       Danish  ([e_, r_, er, de, t_, _d, n_, g_, en, _s, et, ...\n",
       "1        Dutch  ([n_, en, e_, t_, er, _d, de, _e, et, an, s_, ...\n",
       "2      English  ([e_, s_, _t, _a, th, in, n_, d_, he, t_, er, ...\n",
       "3       French  ([e_, s_, _d, es, t_, _l, en, on, de, _p, le, ...\n",
       "4       German  ([n_, en, e_, ch, t_, er, _s, _d, s_, r_, ie, ...\n",
       "5        Greek  ([α_, ι_, ς_, _τ, ε_, _π, να, _σ, _κ, ν_, ο_, ...\n",
       "6      Italian  ([e_, o_, i_, a_, _d, _s, di, _c, on, _p, en, ...\n",
       "7   Portugeese  ([o_, a_, e_, s_, _e, _d, _a, de, _p, es, m_, ...\n",
       "8      Spanish  ([e_, a_, s_, o_, _e, en, n_, es, _d, de, _p, ...\n",
       "9     Sweedish  ([r_, t_, a_, n_, er, ar, _s, en, _a, de, _d, ...\n",
       "10     Turkish  ([n_, _b, r_, e_, a_, in, i_, an, er, la, ar, ..."
      ]
     },
     "metadata": {},
     "output_type": "display_data"
    }
   ],
   "source": [
    "#create lang profile as a dataset\n",
    "df_langprofiles = pd.DataFrame()\n",
    "bigrams= []\n",
    "#trigrams=[]\n",
    "#quadgrams=[]\n",
    "df_langprofiles['Language'] = ''\n",
    "df_langprofiles['bigrams'] = ''\n",
    "for lang in lang_list:\n",
    "    bigrams= bi_grams[lang]\n",
    "    df_langprofiles.loc[len(df_langprofiles.index)] = [lang,bigrams]\n",
    "display(df_langprofiles)\n"
   ]
  },
  {
   "attachments": {},
   "cell_type": "markdown",
   "metadata": {},
   "source": [
    "### Distance function"
   ]
  },
  {
   "cell_type": "code",
   "execution_count": 32,
   "metadata": {},
   "outputs": [],
   "source": [
    "def distance(test_grams, train_grams, n): # n helps us know whether it is bigram, trigram or etc.\n",
    "    dist = {lang: 0 for lang in lang_list} # distance corresponding to each language\n",
    "    for gram in test_grams[0]: \n",
    "        for lang in train_grams.keys():\n",
    "            idx_2 = test_grams[0].index(gram)\n",
    "            if gram in train_grams[lang][0] : \n",
    "                idx = train_grams[lang][0].index(gram)\n",
    "                dist[lang] += abs(train_grams[lang][1][idx] - test_grams[1][idx_2]) \n",
    "            else: # gram is not present in that language's corpus\n",
    "                dist[lang] += abs(test_grams[1][idx_2])\n",
    "                # penalty term: gram's corresponding probabaility value in test_gram dict\n",
    "    return dist   "
   ]
  },
  {
   "cell_type": "code",
   "execution_count": 33,
   "metadata": {},
   "outputs": [
    {
     "name": "stdout",
     "output_type": "stream",
     "text": [
      "(['la', 'r_', 'ne', 'ar', 'a_', 'üz', 'ze', 'er', '_y', 'in', 'e_', 'yü', 'ey', 'ın', 'nd', 'es', 'n_', '_b', 'ka', 'ri', 'y_', '_a', 'al', 'tı', 'da', 'kl', 'ir', '_n', 'sn', 'en', 'ni', 'aş', 'ul', 'ün', 'lt', '_o', 'şt', 'u_', '_g', 'il', 'le', '_ç', 'ık', 'ak', 'ça', 'bi', '_ü', '_u', 'ol', 'lu', 'uş', 'tu', 'ur', 'ge', 'lm', 'me', 'at', 'tl', 'bu', 'rl', '_k', 'ma', 'ba', 'şk', 'uy', 'yg', 'gu', 'ad', 'dı', 'ığ', 'ğı', 'ı_', 'ük', 'kü', 'rd', 'du', 'uğ', 'ğu', 'el', 'o_', '_d', 'di', 're', 'nc', 'ci', 'çı', 'ra', 'k_', 'ru', '_i', 'yi', 'ip', 'p_', 'ye', 'rı', '_p', 'pa', 'rç', 'ac', 'cı', 'av', 'vk', 'kı', 'ım', 'gö', 'ör', 'rü', 'nü', 'üm', 'mü', 'de', '_s', 'se', 'rb', 'be', 'st', 't_', 'lı', 'ır', 'şı', 'nm', 'yö', 'ön', 'nt', 'te', 'em'], [-3.411, -3.634, -3.634, -3.634, -3.768, -3.768, -3.768, -3.768, -3.768, -3.922, -3.922, -3.922, -3.922, -4.104, -4.104, -4.327, -4.327, -4.327, -4.327, -4.327, -4.327, -4.327, -4.327, -4.327, -4.327, -4.327, -4.615, -4.615, -4.615, -4.615, -4.615, -4.615, -4.615, -4.615, -4.615, -4.615, -4.615, -4.615, -4.615, -4.615, -4.615, -4.615, -4.615, -4.615, -4.615, -5.021, -5.021, -5.021, -5.021, -5.021, -5.021, -5.021, -5.021, -5.021, -5.021, -5.021, -5.021, -5.021, -5.021, -5.021, -5.021, -5.021, -5.714, -5.714, -5.714, -5.714, -5.714, -5.714, -5.714, -5.714, -5.714, -5.714, -5.714, -5.714, -5.714, -5.714, -5.714, -5.714, -5.714, -5.714, -5.714, -5.714, -5.714, -5.714, -5.714, -5.714, -5.714, -5.714, -5.714, -5.714, -5.714, -5.714, -5.714, -5.714, -5.714, -5.714, -5.714, -5.714, -5.714, -5.714, -5.714, -5.714, -5.714, -5.714, -5.714, -5.714, -5.714, -5.714, -5.714, -5.714, -5.714, -5.714, -5.714, -5.714, -5.714, -5.714, -5.714, -5.714, -5.714, -5.714, -5.714, -5.714, -5.714, -5.714, -5.714, -5.714])\n"
     ]
    }
   ],
   "source": [
    "test='bir nesnenin başka bir nesne üzerine uyguladığı yükün yüzey altında oluşturduğu gerilmeler o nesnenin gerilme direncinin üzerine çıkarak yüzey altında çatlaklar oluşturular bu çatlaklar yüzey altında ilerleyip yüzeye ulaştıklarında yüzey parçacıklar kavkıma görünümünde serbest kalırlar bu aşınma yöntemi'\n",
    "test_bigram = generate_N_grams(test,2)\n",
    "print(test_bigram)\n",
    "\n",
    "# for i in range (0,len(test_bigram)):\n",
    "#     print(test_bigram[i][0])"
   ]
  },
  {
   "cell_type": "code",
   "execution_count": 34,
   "metadata": {},
   "outputs": [
    {
     "name": "stdout",
     "output_type": "stream",
     "text": [
      "{'Danish': 415.36499999999995, 'Dutch': 435.80699999999985, 'English': 411.12199999999984, 'French': 422.06599999999986, 'German': 408.78699999999986, 'Greek': 643.3840000000012, 'Italian': 427.67699999999996, 'Portugeese': 432.4879999999998, 'Spanish': 420.1679999999998, 'Sweedish': 411.7769999999998, 'Turkish': 307.47999999999996}\n"
     ]
    }
   ],
   "source": [
    "a=distance(test_bigram,bi_grams,2)\n",
    "print(a)"
   ]
  },
  {
   "attachments": {},
   "cell_type": "markdown",
   "metadata": {},
   "source": [
    "### Language detection function"
   ]
  },
  {
   "cell_type": "code",
   "execution_count": 35,
   "metadata": {},
   "outputs": [],
   "source": [
    "def language_detection(test_text):\n",
    "    #get rid of punctuation\n",
    "    test_text=remove_pun(test_text)\n",
    "    #print(test_text)\n",
    "    #create n-grams of test_text\n",
    "    test_bigram = generate_N_grams(test_text,2)\n",
    "    #find distences of each n-gram group and sum all\n",
    "    distance_2=distance(test_bigram,bi_grams,2)\n",
    "    # print(distance_2)\n",
    "\n",
    "    distance_score={}\n",
    "    for lang in lang_list:\n",
    "        distance_score[lang]=distance_2[lang]\n",
    "    #print(distance_score)   \n",
    "    return min(distance_score, key=distance_score.get)\n",
    "    "
   ]
  },
  {
   "cell_type": "code",
   "execution_count": 36,
   "metadata": {},
   "outputs": [
    {
     "data": {
      "text/plain": [
       "'Turkish'"
      ]
     },
     "execution_count": 36,
     "metadata": {},
     "output_type": "execute_result"
    }
   ],
   "source": [
    "test='bir!! nesnenin başka bir nesne üzerine uyguladığı yükün yüzey altında oluşturduğu gerilmeler o nesnenin gerilme direncinin üzerine çıkarak yüzey altında çatlaklar oluşturular bu çatlaklar yüzey altında ilerleyip yüzeye ulaştıklarında yüzey parçacıklar kavkıma görünümünde serbest kalırlar bu aşınma yöntemi'\n",
    "language_detection(test)"
   ]
  },
  {
   "attachments": {},
   "cell_type": "markdown",
   "metadata": {},
   "source": [
    "### Apply language_detection on df_test"
   ]
  },
  {
   "cell_type": "code",
   "execution_count": 37,
   "metadata": {},
   "outputs": [],
   "source": [
    "predict=[]\n",
    "for text in df_test['Text']:\n",
    "    predict.append(language_detection(text))"
   ]
  },
  {
   "cell_type": "code",
   "execution_count": 38,
   "metadata": {},
   "outputs": [
    {
     "data": {
      "text/html": [
       "<div>\n",
       "<style scoped>\n",
       "    .dataframe tbody tr th:only-of-type {\n",
       "        vertical-align: middle;\n",
       "    }\n",
       "\n",
       "    .dataframe tbody tr th {\n",
       "        vertical-align: top;\n",
       "    }\n",
       "\n",
       "    .dataframe thead th {\n",
       "        text-align: right;\n",
       "    }\n",
       "</style>\n",
       "<table border=\"1\" class=\"dataframe\">\n",
       "  <thead>\n",
       "    <tr style=\"text-align: right;\">\n",
       "      <th></th>\n",
       "      <th>Text</th>\n",
       "      <th>Actual</th>\n",
       "      <th>Predicted</th>\n",
       "    </tr>\n",
       "  </thead>\n",
       "  <tbody>\n",
       "    <tr>\n",
       "      <th>0</th>\n",
       "      <td>a qualquer momento</td>\n",
       "      <td>Portugeese</td>\n",
       "      <td>Sweedish</td>\n",
       "    </tr>\n",
       "    <tr>\n",
       "      <th>1</th>\n",
       "      <td>​ en marzo de  jimmy wales creó nupedia un pro...</td>\n",
       "      <td>Spanish</td>\n",
       "      <td>Spanish</td>\n",
       "    </tr>\n",
       "    <tr>\n",
       "      <th>2</th>\n",
       "      <td>pensava di essere troppo grande per fare quals...</td>\n",
       "      <td>Italian</td>\n",
       "      <td>Italian</td>\n",
       "    </tr>\n",
       "    <tr>\n",
       "      <th>3</th>\n",
       "      <td>αν κάτι σας εκπλήσσει μπορείτε επίσης να πείτε...</td>\n",
       "      <td>Greek</td>\n",
       "      <td>Greek</td>\n",
       "    </tr>\n",
       "    <tr>\n",
       "      <th>4</th>\n",
       "      <td>om het woord catch te gebruiken</td>\n",
       "      <td>Dutch</td>\n",
       "      <td>Dutch</td>\n",
       "    </tr>\n",
       "    <tr>\n",
       "      <th>...</th>\n",
       "      <td>...</td>\n",
       "      <td>...</td>\n",
       "      <td>...</td>\n",
       "    </tr>\n",
       "    <tr>\n",
       "      <th>1518</th>\n",
       "      <td>auf grausame weise wird manchmal in gefängniss...</td>\n",
       "      <td>German</td>\n",
       "      <td>German</td>\n",
       "    </tr>\n",
       "    <tr>\n",
       "      <th>1519</th>\n",
       "      <td>bilmiyorum diyor</td>\n",
       "      <td>Turkish</td>\n",
       "      <td>Portugeese</td>\n",
       "    </tr>\n",
       "    <tr>\n",
       "      <th>1520</th>\n",
       "      <td>ook werd in  een platenhoes niet verwijderd n...</td>\n",
       "      <td>Dutch</td>\n",
       "      <td>Dutch</td>\n",
       "    </tr>\n",
       "    <tr>\n",
       "      <th>1521</th>\n",
       "      <td>el proyecto wikipedia se inició el  de enero de</td>\n",
       "      <td>Spanish</td>\n",
       "      <td>Spanish</td>\n",
       "    </tr>\n",
       "    <tr>\n",
       "      <th>1522</th>\n",
       "      <td>afbryder høfligt</td>\n",
       "      <td>Danish</td>\n",
       "      <td>Danish</td>\n",
       "    </tr>\n",
       "  </tbody>\n",
       "</table>\n",
       "<p>1523 rows × 3 columns</p>\n",
       "</div>"
      ],
      "text/plain": [
       "                                                   Text      Actual  \\\n",
       "0                                    a qualquer momento  Portugeese   \n",
       "1     ​ en marzo de  jimmy wales creó nupedia un pro...     Spanish   \n",
       "2     pensava di essere troppo grande per fare quals...     Italian   \n",
       "3     αν κάτι σας εκπλήσσει μπορείτε επίσης να πείτε...       Greek   \n",
       "4                       om het woord catch te gebruiken       Dutch   \n",
       "...                                                 ...         ...   \n",
       "1518  auf grausame weise wird manchmal in gefängniss...      German   \n",
       "1519                                   bilmiyorum diyor     Turkish   \n",
       "1520   ook werd in  een platenhoes niet verwijderd n...       Dutch   \n",
       "1521   el proyecto wikipedia se inició el  de enero de      Spanish   \n",
       "1522                                   afbryder høfligt      Danish   \n",
       "\n",
       "       Predicted  \n",
       "0       Sweedish  \n",
       "1        Spanish  \n",
       "2        Italian  \n",
       "3          Greek  \n",
       "4          Dutch  \n",
       "...          ...  \n",
       "1518      German  \n",
       "1519  Portugeese  \n",
       "1520       Dutch  \n",
       "1521     Spanish  \n",
       "1522      Danish  \n",
       "\n",
       "[1523 rows x 3 columns]"
      ]
     },
     "execution_count": 38,
     "metadata": {},
     "output_type": "execute_result"
    }
   ],
   "source": [
    "data = {\n",
    "  \"Text\": df_test[\"Text\"],\n",
    "  \"Actual\": df_test[\"Language\"], #y_test=df_test[\"Language\"]\n",
    "  \"Predicted\": predict,\n",
    "}\n",
    "df_compare = pd.DataFrame(data)\n",
    "df_compare"
   ]
  },
  {
   "cell_type": "code",
   "execution_count": 39,
   "metadata": {},
   "outputs": [
    {
     "name": "stdout",
     "output_type": "stream",
     "text": [
      "0.8811556139198949\n",
      "[[ 77   1   2   0   0   8   0   0   0   2   0]\n",
      " [  2  89   3   2   1   4   0   1   0   0   1]\n",
      " [  4   1 262   1   0   5   5   1   0   1   0]\n",
      " [  2   0   5 186   1   9   3   3   1   0   0]\n",
      " [  2   1   0   1  81   1   0   0   1   0   1]\n",
      " [  6   0   0   0   0  67   0   0   0   0   0]\n",
      " [  0   0   5   0   0  10 119   0   5   1   0]\n",
      " [  2   0   2   0   0   6   4 128   4   2   0]\n",
      " [  1   0   1   2   1   3   4   4 131   0   3]\n",
      " [ 13   0   3   2   1   6   0   0   0 126   1]\n",
      " [  3   0   1   0   1   6   0   1   1   0  76]]\n"
     ]
    }
   ],
   "source": [
    "from sklearn.metrics import accuracy_score,confusion_matrix\n",
    "print(accuracy_score(df_test[\"Language\"],predict))\n",
    "print(confusion_matrix(df_test[\"Language\"],predict,labels=lang_list))"
   ]
  },
  {
   "cell_type": "code",
   "execution_count": 40,
   "metadata": {},
   "outputs": [
    {
     "data": {
      "text/plain": [
       "array([0.76237624, 0.91282051, 0.92907801, 0.92079208, 0.93103448,\n",
       "       0.67676768, 0.86545455, 0.8951049 , 0.89419795, 0.88732394,\n",
       "       0.88888889])"
      ]
     },
     "execution_count": 40,
     "metadata": {},
     "output_type": "execute_result"
    }
   ],
   "source": [
    "#F-SCORE\n",
    "from sklearn.metrics import f1_score\n",
    "f1_score(df_test[\"Language\"], predict,labels=lang_list, average=None)"
   ]
  },
  {
   "attachments": {},
   "cell_type": "markdown",
   "metadata": {},
   "source": [
    "### GUI"
   ]
  },
  {
   "cell_type": "code",
   "execution_count": 41,
   "metadata": {},
   "outputs": [],
   "source": [
    "import tkinter as tk"
   ]
  },
  {
   "cell_type": "code",
   "execution_count": 42,
   "metadata": {},
   "outputs": [],
   "source": [
    "# Top level window\n",
    "frame = tk.Tk()\n",
    "frame.title(\"ngam_LD\")\n",
    "frame.geometry('400x200')\n",
    "# Function for getting Input\n",
    "# from textbox and printing it \n",
    "# at label widget\n",
    "  \n",
    "def printInput():\n",
    "    inp = inputtxt.get(1.0, \"end-1c\")\n",
    "    lbl.config(text = \"Predicted Language: \"+language_detection(inp))\n",
    "  \n",
    "# TextBox Creation\n",
    "inputtxt = tk.Text(frame,\n",
    "                   height = 5,\n",
    "                   width = 40)\n",
    "  \n",
    "inputtxt.pack()\n",
    "  \n",
    "# Button Creation\n",
    "printButton = tk.Button(frame,\n",
    "                        text = \"Predict\", \n",
    "                        command = printInput)\n",
    "printButton.pack()\n",
    "  \n",
    "# Label Creation\n",
    "lbl = tk.Label(frame, text = \"\")\n",
    "lbl.pack()\n",
    "frame.mainloop()"
   ]
  }
 ],
 "metadata": {
  "kernelspec": {
   "display_name": "base",
   "language": "python",
   "name": "python3"
  },
  "language_info": {
   "codemirror_mode": {
    "name": "ipython",
    "version": 3
   },
   "file_extension": ".py",
   "mimetype": "text/x-python",
   "name": "python",
   "nbconvert_exporter": "python",
   "pygments_lexer": "ipython3",
   "version": "3.9.13"
  },
  "orig_nbformat": 4,
  "vscode": {
   "interpreter": {
    "hash": "f04bca837092e468103410a41847e0d41840755d9be99b1b566db435fde9ae71"
   }
  }
 },
 "nbformat": 4,
 "nbformat_minor": 2
}
